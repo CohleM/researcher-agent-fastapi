{
 "cells": [
  {
   "cell_type": "code",
   "execution_count": 1,
   "id": "e811fdec",
   "metadata": {},
   "outputs": [],
   "source": [
    "import sys\n",
    "sys.path.append('/Users/cohlem/Projects/FastAPI/backend-fastapi/')\n",
    "\n",
    "from researcher.core.agent import Researcher\n",
    "\n",
    "from researcher.utils.functions import *\n",
    "from researcher.config import Config\n",
    "from researcher.search.custom import get_links_from_queries"
   ]
  },
  {
   "cell_type": "code",
   "execution_count": 2,
   "id": "24461f1d",
   "metadata": {},
   "outputs": [],
   "source": [
    "from researcher.prompts.prompts import *"
   ]
  },
  {
   "cell_type": "code",
   "execution_count": 3,
   "id": "88ec4a84",
   "metadata": {},
   "outputs": [
    {
     "name": "stdout",
     "output_type": "stream",
     "text": [
      "yes using qa prompt\n"
     ]
    },
    {
     "data": {
      "text/plain": [
       "'Relevant Information: \"\"\"gg\"\"\"\\n\\nUsing the above relevant information, answer the following query or task: \"gg\" in detailYour answer should be short and simple, accurate, to the point, well structured,with facts and numbers if available.You must write the answer with markdown syntax.\\n Use an unbiased and journalistic tone. \\nYou MUST determine your own concrete and valid opinion based on the given information. Do NOT deter to general and meaningless conclusions. If you don\\'t know the answer please say I couln\\'t find the answer and don\\'t try to make up your own answer.\\nALWAYS return Inline SOURCES alongside the sentences if there are anyPlease do your best, this is very important to my career. Assume that the current date is January 07, 2024'"
      ]
     },
     "execution_count": 3,
     "metadata": {},
     "output_type": "execute_result"
    }
   ],
   "source": [
    "generate_qa_prompt('gg','gg')"
   ]
  },
  {
   "cell_type": "code",
   "execution_count": 4,
   "id": "159a6ba5",
   "metadata": {},
   "outputs": [],
   "source": [
    "r = Researcher(\"OpenaAI's drama and how it got resolved\")"
   ]
  },
  {
   "cell_type": "code",
   "execution_count": 5,
   "id": "4148ffdb",
   "metadata": {},
   "outputs": [],
   "source": [
    "ans =  r.run_qa_agent()"
   ]
  },
  {
   "cell_type": "code",
   "execution_count": 6,
   "id": "6ea0577a",
   "metadata": {
    "scrolled": true
   },
   "outputs": [
    {
     "name": "stdout",
     "output_type": "stream",
     "text": [
      "Running QA agent\n",
      "🔍 Searching web with query: OpenaAI's drama and how it got resolved\n",
      "searhc_urls ['https://www.npr.org/2023/11/24/1215015362/chatgpt-openai-sam-altman-fired-explained', 'https://www.forbes.com/sites/digital-assets/2023/11/19/the-openai-drama-sam-altman-and-the-struggle-for-ais-future/', 'https://www.nature.com/articles/d41586-023-03700-4', 'https://observer.com/2023/11/openai-sam-altman-leadership-shakeup/', 'https://www.kqed.org/news/11968285/how-openais-origins-explain-the-sam-altman-drama']\n",
      "✅ Adding url https://www.npr.org/2023/11/24/1215015362/chatgpt-openai-sam-altman-fired-explained to our research\n",
      "✅ Adding url https://www.forbes.com/sites/digital-assets/2023/11/19/the-openai-drama-sam-altman-and-the-struggle-for-ais-future/ to our research\n",
      "✅ Adding url https://www.nature.com/articles/d41586-023-03700-4 to our research\n",
      "✅ Adding url https://observer.com/2023/11/openai-sam-altman-leadership-shakeup/ to our research\n",
      "✅ Adding url https://www.kqed.org/news/11968285/how-openais-origins-explain-the-sam-altman-drama to our research\n",
      "9\n",
      "Generating Answers...\n",
      "using 2000 words \n",
      "yes using qa prompt\n",
      "\n",
      "Based\n",
      " on\n",
      " the\n",
      " provided\n",
      " information\n",
      ",\n",
      " the\n",
      " drama\n",
      " at\n",
      " Open\n",
      "AI\n",
      " was\n",
      " prompted\n",
      " by\n",
      " the\n",
      " abrupt\n",
      " firing\n",
      " of\n",
      " CEO\n",
      " Sam\n",
      " Alt\n",
      "man\n",
      " and\n",
      " subsequent\n",
      " board\n",
      " uphe\n",
      "aval\n",
      ".\n",
      " The\n",
      " uphe\n",
      "aval\n",
      " reflected\n",
      " underlying\n",
      " tensions\n",
      " within\n",
      " the\n",
      " company\n",
      ",\n",
      " stemming\n",
      " from\n",
      " its\n",
      " unconventional\n",
      " structure\n",
      " as\n",
      " a\n",
      " nonprofit\n",
      " research\n",
      " lab\n",
      " with\n",
      " a\n",
      " focus\n",
      " on\n",
      " AI\n",
      " tools\n",
      " that\n",
      " benefit\n",
      " humanity\n",
      ".\n",
      " The\n",
      " drama\n",
      " cul\n",
      "minated\n",
      " in\n",
      " Alt\n",
      "man\n",
      "'s\n",
      " reinst\n",
      "atement\n",
      " and\n",
      " the\n",
      " formation\n",
      " of\n",
      " a\n",
      " new\n",
      " board\n",
      " of\n",
      " directors\n",
      " to\n",
      " navigate\n",
      " the\n",
      " company\n",
      "'s\n",
      " future\n",
      ".\n",
      " The\n",
      " chaotic\n",
      " events\n",
      " at\n",
      " Open\n",
      "AI\n",
      " prompted\n",
      " discussions\n",
      " on\n",
      " board\n",
      " governance\n",
      ",\n",
      " ethical\n",
      " leadership\n",
      ",\n",
      " and\n",
      " the\n",
      " role\n",
      " of\n",
      " AI\n",
      " in\n",
      " innovation\n",
      ".\n",
      " The\n",
      " new\n",
      " board\n",
      " is\n",
      " expected\n",
      " to\n",
      " reass\n",
      "ess\n",
      " Open\n",
      "AI\n",
      "'s\n",
      " structure\n",
      " and\n",
      " address\n",
      " friction\n",
      " resulting\n",
      " from\n",
      " its\n",
      " hybrid\n",
      " model\n",
      ".\n",
      " The\n",
      " resolution\n",
      " of\n",
      " the\n",
      " drama\n",
      " remains\n",
      " a\n",
      " pivotal\n",
      " moment\n",
      " in\n",
      " the\n",
      " ongoing\n",
      " dialogue\n",
      " about\n",
      " responsible\n",
      " innovation\n",
      " and\n",
      " the\n",
      " expanding\n",
      " role\n",
      " of\n",
      " AI\n",
      " in\n",
      " shaping\n",
      " technology\n",
      "'s\n",
      " future\n",
      ".\n",
      "\n",
      "\n",
      "Sources\n",
      ":\n",
      "\n",
      "-\n",
      " Forbes\n",
      ":\n",
      " [\n",
      "The\n",
      " Open\n",
      "AI\n",
      " Drama\n",
      ":\n",
      " Sam\n",
      " Alt\n",
      "man\n",
      " And\n",
      " The\n",
      " Str\n",
      "uggle\n",
      " For\n",
      " AI\n",
      "’s\n",
      " Future\n",
      "](\n",
      "https\n",
      "://\n",
      "www\n",
      ".for\n",
      "bes\n",
      ".com\n",
      "/sites\n",
      "/d\n",
      "igital\n",
      "-assets\n",
      "/\n",
      "202\n",
      "3\n",
      "/\n",
      "11\n",
      "/\n",
      "19\n",
      "/the\n",
      "-open\n",
      "ai\n",
      "-d\n",
      "rama\n",
      "-s\n",
      "am\n",
      "-alt\n",
      "man\n",
      "-and\n",
      "-the\n",
      "-str\n",
      "uggle\n",
      "-for\n",
      "-\n",
      "ais\n",
      "-f\n",
      "uture\n",
      "/)\n",
      "\n",
      "-\n",
      " K\n",
      "Q\n",
      "ED\n",
      ":\n",
      " [\n",
      "How\n",
      " Open\n",
      "AI\n",
      "'s\n",
      " Origins\n",
      " Explain\n",
      " the\n",
      " Sam\n",
      " Alt\n",
      "man\n",
      " Drama\n",
      "](\n",
      "https\n",
      "://\n",
      "www\n",
      ".k\n",
      "qed\n",
      ".org\n",
      "/news\n",
      "/\n",
      "119\n",
      "682\n",
      "85\n",
      "/how\n",
      "-open\n",
      "ais\n",
      "-\n",
      "orig\n",
      "ins\n",
      "-ex\n",
      "plain\n",
      "-the\n",
      "-s\n",
      "am\n",
      "-alt\n",
      "man\n",
      "-d\n",
      "rama\n",
      ")\n",
      "\n",
      "-\n",
      " NPR\n",
      ":\n",
      " [\n",
      "How\n",
      " Open\n",
      "AI\n",
      "'s\n",
      " origins\n",
      " explain\n",
      " the\n",
      " Sam\n",
      " Alt\n",
      "man\n",
      " drama\n",
      "](\n",
      "https\n",
      "://\n",
      "www\n",
      ".n\n",
      "pr\n",
      ".org\n",
      "/\n",
      "202\n",
      "3\n",
      "/\n",
      "11\n",
      "/\n",
      "24\n",
      "/\n",
      "121\n",
      "501\n",
      "536\n",
      "2\n",
      "/chat\n",
      "g\n",
      "pt\n",
      "-open\n",
      "ai\n",
      "-s\n",
      "am\n",
      "-alt\n",
      "man\n",
      "-fired\n",
      "-ex\n",
      "pl\n",
      "ained\n",
      ")\n",
      "\n",
      "-\n",
      " Nature\n",
      ":\n",
      " [\n",
      "What\n",
      " the\n",
      " Open\n",
      "AI\n",
      " drama\n",
      " means\n",
      " for\n",
      " AI\n",
      " progress\n",
      " —\n",
      " and\n",
      " safety\n",
      "](\n",
      "https\n",
      "://\n",
      "www\n",
      ".n\n",
      "ature\n",
      ".com\n",
      "/articles\n",
      "/d\n",
      "415\n",
      "86\n",
      "-\n",
      "023\n",
      "-\n",
      "037\n",
      "00\n",
      "-\n",
      "4\n",
      ")\n",
      "None\n"
     ]
    }
   ],
   "source": [
    "final_text = ''\n",
    "async for text, finish_reason in ans:\n",
    "    final_text = text"
   ]
  },
  {
   "cell_type": "code",
   "execution_count": 7,
   "id": "f61762fb",
   "metadata": {},
   "outputs": [
    {
     "data": {
      "text/plain": [
       "\"Based on the provided information, the drama at OpenAI was prompted by the abrupt firing of CEO Sam Altman and subsequent board upheaval. The upheaval reflected underlying tensions within the company, stemming from its unconventional structure as a nonprofit research lab with a focus on AI tools that benefit humanity. The drama culminated in Altman's reinstatement and the formation of a new board of directors to navigate the company's future. The chaotic events at OpenAI prompted discussions on board governance, ethical leadership, and the role of AI in innovation. The new board is expected to reassess OpenAI's structure and address friction resulting from its hybrid model. The resolution of the drama remains a pivotal moment in the ongoing dialogue about responsible innovation and the expanding role of AI in shaping technology's future.\\n\\nSources:\\n- Forbes: [The OpenAI Drama: Sam Altman And The Struggle For AI’s Future](https://www.forbes.com/sites/digital-assets/2023/11/19/the-openai-drama-sam-altman-and-the-struggle-for-ais-future/)\\n- KQED: [How OpenAI's Origins Explain the Sam Altman Drama](https://www.kqed.org/news/11968285/how-openais-origins-explain-the-sam-altman-drama)\\n- NPR: [How OpenAI's origins explain the Sam Altman drama](https://www.npr.org/2023/11/24/1215015362/chatgpt-openai-sam-altman-fired-explained)\\n- Nature: [What the OpenAI drama means for AI progress — and safety](https://www.nature.com/articles/d41586-023-03700-4)\""
      ]
     },
     "execution_count": 7,
     "metadata": {},
     "output_type": "execute_result"
    }
   ],
   "source": [
    "final_text"
   ]
  },
  {
   "cell_type": "code",
   "execution_count": 4,
   "id": "bc72692b",
   "metadata": {},
   "outputs": [
    {
     "data": {
      "text/plain": [
       "6"
      ]
     },
     "execution_count": 4,
     "metadata": {},
     "output_type": "execute_result"
    }
   ],
   "source": [
    "r.cfg.max_chunks_per_query"
   ]
  },
  {
   "cell_type": "code",
   "execution_count": 3,
   "id": "fa03bca3",
   "metadata": {},
   "outputs": [
    {
     "name": "stdout",
     "output_type": "stream",
     "text": [
      "📘 Starting research for query: Opena=AI's drama and how it got resolved\n",
      "Token Usage: CompletionUsage(completion_tokens=36, prompt_tokens=357, total_tokens=393)\n",
      "\u001b[31m Error in choose_agent: Expecting value: line 1 column 1 (char 0)\u001b[0m\n",
      "Running Default Agent ...\n",
      "Token Usage: CompletionUsage(completion_tokens=40, prompt_tokens=114, total_tokens=154)\n",
      "🔍 Searching web with query: OpenAI drama resolution January 07, 2024\n",
      "\u001b[31m Error while getting content using query _get_url() https://links.duckduckgo.com/d.js RateLimitException: _get_url() https://links.duckduckgo.com/d.js RateLimitError: resp.status_code==202\u001b[0m\n",
      "\u001b[31m Error while getting content using query not enough values to unpack (expected 2, got 0)\u001b[0m\n",
      "🔍 Searching web with query: OpenAI controversy update January 07, 2024\n",
      "\u001b[31m Error while getting content using query _get_url() https://links.duckduckgo.com/d.js RateLimitException: _get_url() https://links.duckduckgo.com/d.js RateLimitError: resp.status_code==202\u001b[0m\n",
      "\u001b[31m Error while getting content using query not enough values to unpack (expected 2, got 0)\u001b[0m\n",
      "🔍 Searching web with query: OpenAI conflict resolution statement January 07, 2024\n",
      "\u001b[31m Error while getting content using query _get_url() https://links.duckduckgo.com/d.js RateLimitException: _get_url() https://links.duckduckgo.com/d.js RateLimitError: resp.status_code==202\u001b[0m\n",
      "\u001b[31m Error while getting content using query not enough values to unpack (expected 2, got 0)\u001b[0m\n",
      "🔍 Searching web with query: Opena=AI's drama and how it got resolved\n",
      "\u001b[31m Error while getting content using query _get_url() https://links.duckduckgo.com/d.js RateLimitException: _get_url() https://links.duckduckgo.com/d.js RateLimitError: resp.status_code==202\u001b[0m\n",
      "\u001b[31m Error while getting content using query not enough values to unpack (expected 2, got 0)\u001b[0m\n",
      "Total chunk count 0\n",
      "Generating Report...\n",
      "using 2000 words \n",
      "Token Usage: CompletionUsage(completion_tokens=758, prompt_tokens=288, total_tokens=1046)\n"
     ]
    }
   ],
   "source": [
    "output = await r.run()"
   ]
  },
  {
   "cell_type": "code",
   "execution_count": 6,
   "id": "e50d6e43",
   "metadata": {},
   "outputs": [
    {
     "data": {
      "text/plain": [
       "'# OpenAI\\'s Drama and Resolution\\n\\nThe recent events surrounding OpenAI, a pioneering force in generative AI, have sparked significant turmoil and upheaval within the tech industry. The sudden firing of CEO Sam Altman and the subsequent board upheaval have raised critical questions about board governance, power dynamics, and the role of AI in innovation. This report aims to provide a comprehensive overview of the OpenAI drama and its resolution.\\n\\n## Timeline of Turmoil\\n\\nThe drama at OpenAI unfolded over a short period, causing significant disruption within the organization and the AI industry as a whole. The sequence of events can be summarized as follows:\\n\\n- **Friday**: Altman\\'s Departure\\n  - Altman was abruptly fired during a Google Meet call with most of OpenAI\\'s board, convened by fellow co-founder and OpenAI chief scientist Ilya Sutskever.\\n  - The board also informed Greg Brockman, another co-founder and OpenAI president, that he would be removed from the board.\\n- **Saturday**: Whispers of Reconciliation\\n  - An anonymous letter written by former OpenAI employees during the Altman drama called on the board to examine whether Altman was putting commercial products and fundraising goals before the nonprofit\\'s founding mission.\\n- **Sunday Afternoon**: The Challenge of Absolution and Legal Implications\\n- **Sunday Night**: The Board Resigns\\n  - Altman\\'s firing came as a complete surprise, adding a layer of astonishment to the unfolding narrative.\\n- **Monday Morning**: New Beginnings\\n  - Altman and Brockman announced a new initiative with Microsoft that would continue OpenAI\\'s original mission in the tech industry.\\n\\n## Employee Response and Board Reshuffle\\n\\nThe drama at OpenAI reached a critical juncture when 702 out of OpenAI\\'s 770 employees committed to leaving the company unless Altman was restored. The employees also demanded the assembly of a new board. This unprecedented show of solidarity from the majority of the workforce led to a significant shift in the organization\\'s leadership.\\n\\nThe board initially refused to entertain the possibility of Altman\\'s return. However, the overwhelming support from the employees prompted a reshuffle, resulting in the restoration of Altman as CEO and the formation of a new, temporary board. Notably, only one former board member, Adam D\\'Angelo, the CEO of Quora, remained on the new board.\\n\\n## Root Causes of the Drama\\n\\nThe conflict at OpenAI can be traced back to the unusual way the company was structured. Founded in 2015 as a non-profit research lab by Altman, Elon Musk, and others, OpenAI prioritized principles over profit. However, tensions had long simmered under the surface of the company, culminating in the recent upheaval.\\n\\nOne of the key issues that divided the company was Altman\\'s drive to transition OpenAI from a nonprofit organization into a successful business. This clashed with board member concerns over the safety of AI tools and the organization\\'s mission to develop AI tools that would \"benefit humanity as a whole, unconstrained by a need to generate financial return.\"\\n\\n## Industry Response and Implications\\n\\nThe OpenAI drama has sent shockwaves through the tech industry, prompting discussions about responsible innovation, ethical decision-making, and the expanding role of AI in shaping the technological future. The investigative reporting by prominent figures in the industry has shed light on the intricate dynamics of board governance, external influences, and the pursuit of AI advancement.\\n\\nThe events at OpenAI serve as a compelling narrative, highlighting the complexities of balancing commercial interests with ethical leadership and transparency in the development of AI technologies. The resolution of the drama and the subsequent industry response have significant implications for the future of AI development and governance.\\n\\n## Conclusion\\n\\nThe OpenAI drama, characterized by the sudden firing and subsequent restoration of CEO Sam Altman, has brought to the forefront critical questions about the governance of AI organizations, the balance between commercial interests and ethical considerations, and the impact of internal dynamics on the pursuit of innovation. The resolution of the turmoil and the industry\\'s response underscore the challenges and complexities inherent in the development and governance of AI technologies.\\n\\nThe events at OpenAI have sparked a broader dialogue about responsible innovation, ethical decision-making, and the evolving role of AI in shaping the technological landscape. As the industry continues to grapple with the implications of the OpenAI drama, it serves as a pivotal moment in the ongoing discourse about the ethical development and governance of AI.\\n\\nReferences:\\n- Forbes. (2023). The OpenAI Drama: Sam Altman And The Struggle For AI’s Future. [https://www.forbes.com/sites/digital-assets/2023/11/19/the-openai-drama-sam-altman-and-the-struggle-for-ais-future/]\\n- NPR. (2023). How OpenAI\\'s origins explain the Sam Altman drama. [https://www.npr.org/2023/11/24/1215015362/chatgpt-openai-sam-altman-fired-explained]\\n- CNN. (2023). OpenAI’s wild 60 hours: Here’s what happened. [https://www.cnn.com/2023/11/22/tech/openai-sam-altman-chaos-explained-intl-hnk/index.html]\\n- The Globe and Mail. (2023). The conflict at the heart of OpenAI. [https://www.theglobeandmail.com/business/commentary/article-the-conflict-at-the-heart-of-openai/]\\n- Nature. (2023). What the OpenAI drama means for AI progress — and safety. [https://www.nature.com/articles/d41586-023-03700-4]'"
      ]
     },
     "execution_count": 6,
     "metadata": {},
     "output_type": "execute_result"
    }
   ],
   "source": [
    "output"
   ]
  },
  {
   "cell_type": "code",
   "execution_count": null,
   "id": "1d2ee15d",
   "metadata": {},
   "outputs": [],
   "source": []
  },
  {
   "cell_type": "code",
   "execution_count": 7,
   "id": "a02bbefb",
   "metadata": {},
   "outputs": [
    {
     "data": {
      "text/html": [
       "<h1>OpenAI's Drama and Resolution</h1>\n",
       "<p>The recent events surrounding OpenAI, a pioneering force in generative AI, have sparked significant turmoil and upheaval within the tech industry. The sudden firing of CEO Sam Altman and the subsequent board upheaval have raised critical questions about board governance, power dynamics, and the role of AI in innovation. This report aims to provide a comprehensive overview of the OpenAI drama and its resolution.</p>\n",
       "<h2>Timeline of Turmoil</h2>\n",
       "<p>The drama at OpenAI unfolded over a short period, causing significant disruption within the organization and the AI industry as a whole. The sequence of events can be summarized as follows:</p>\n",
       "<ul>\n",
       "<li><strong>Friday</strong>: Altman's Departure</li>\n",
       "<li>Altman was abruptly fired during a Google Meet call with most of OpenAI's board, convened by fellow co-founder and OpenAI chief scientist Ilya Sutskever.</li>\n",
       "<li>The board also informed Greg Brockman, another co-founder and OpenAI president, that he would be removed from the board.</li>\n",
       "<li><strong>Saturday</strong>: Whispers of Reconciliation</li>\n",
       "<li>An anonymous letter written by former OpenAI employees during the Altman drama called on the board to examine whether Altman was putting commercial products and fundraising goals before the nonprofit's founding mission.</li>\n",
       "<li><strong>Sunday Afternoon</strong>: The Challenge of Absolution and Legal Implications</li>\n",
       "<li><strong>Sunday Night</strong>: The Board Resigns</li>\n",
       "<li>Altman's firing came as a complete surprise, adding a layer of astonishment to the unfolding narrative.</li>\n",
       "<li><strong>Monday Morning</strong>: New Beginnings</li>\n",
       "<li>Altman and Brockman announced a new initiative with Microsoft that would continue OpenAI's original mission in the tech industry.</li>\n",
       "</ul>\n",
       "<h2>Employee Response and Board Reshuffle</h2>\n",
       "<p>The drama at OpenAI reached a critical juncture when 702 out of OpenAI's 770 employees committed to leaving the company unless Altman was restored. The employees also demanded the assembly of a new board. This unprecedented show of solidarity from the majority of the workforce led to a significant shift in the organization's leadership.</p>\n",
       "<p>The board initially refused to entertain the possibility of Altman's return. However, the overwhelming support from the employees prompted a reshuffle, resulting in the restoration of Altman as CEO and the formation of a new, temporary board. Notably, only one former board member, Adam D'Angelo, the CEO of Quora, remained on the new board.</p>\n",
       "<h2>Root Causes of the Drama</h2>\n",
       "<p>The conflict at OpenAI can be traced back to the unusual way the company was structured. Founded in 2015 as a non-profit research lab by Altman, Elon Musk, and others, OpenAI prioritized principles over profit. However, tensions had long simmered under the surface of the company, culminating in the recent upheaval.</p>\n",
       "<p>One of the key issues that divided the company was Altman's drive to transition OpenAI from a nonprofit organization into a successful business. This clashed with board member concerns over the safety of AI tools and the organization's mission to develop AI tools that would \"benefit humanity as a whole, unconstrained by a need to generate financial return.\"</p>\n",
       "<h2>Industry Response and Implications</h2>\n",
       "<p>The OpenAI drama has sent shockwaves through the tech industry, prompting discussions about responsible innovation, ethical decision-making, and the expanding role of AI in shaping the technological future. The investigative reporting by prominent figures in the industry has shed light on the intricate dynamics of board governance, external influences, and the pursuit of AI advancement.</p>\n",
       "<p>The events at OpenAI serve as a compelling narrative, highlighting the complexities of balancing commercial interests with ethical leadership and transparency in the development of AI technologies. The resolution of the drama and the subsequent industry response have significant implications for the future of AI development and governance.</p>\n",
       "<h2>Conclusion</h2>\n",
       "<p>The OpenAI drama, characterized by the sudden firing and subsequent restoration of CEO Sam Altman, has brought to the forefront critical questions about the governance of AI organizations, the balance between commercial interests and ethical considerations, and the impact of internal dynamics on the pursuit of innovation. The resolution of the turmoil and the industry's response underscore the challenges and complexities inherent in the development and governance of AI technologies.</p>\n",
       "<p>The events at OpenAI have sparked a broader dialogue about responsible innovation, ethical decision-making, and the evolving role of AI in shaping the technological landscape. As the industry continues to grapple with the implications of the OpenAI drama, it serves as a pivotal moment in the ongoing discourse about the ethical development and governance of AI.</p>\n",
       "<p>References:\n",
       "- Forbes. (2023). The OpenAI Drama: Sam Altman And The Struggle For AI’s Future. [https://www.forbes.com/sites/digital-assets/2023/11/19/the-openai-drama-sam-altman-and-the-struggle-for-ais-future/]\n",
       "- NPR. (2023). How OpenAI's origins explain the Sam Altman drama. [https://www.npr.org/2023/11/24/1215015362/chatgpt-openai-sam-altman-fired-explained]\n",
       "- CNN. (2023). OpenAI’s wild 60 hours: Here’s what happened. [https://www.cnn.com/2023/11/22/tech/openai-sam-altman-chaos-explained-intl-hnk/index.html]\n",
       "- The Globe and Mail. (2023). The conflict at the heart of OpenAI. [https://www.theglobeandmail.com/business/commentary/article-the-conflict-at-the-heart-of-openai/]\n",
       "- Nature. (2023). What the OpenAI drama means for AI progress — and safety. [https://www.nature.com/articles/d41586-023-03700-4]</p>"
      ],
      "text/plain": [
       "<IPython.core.display.HTML object>"
      ]
     },
     "metadata": {},
     "output_type": "display_data"
    }
   ],
   "source": [
    "import markdown\n",
    "from IPython.display import HTML, display\n",
    "\n",
    "html_output = markdown.markdown(output)\n",
    "\n",
    "display(HTML(html_output))"
   ]
  },
  {
   "cell_type": "code",
   "execution_count": 9,
   "id": "7f3d3140",
   "metadata": {},
   "outputs": [],
   "source": [
    "\n",
    "import tiktoken\n",
    "\n",
    "def num_tokens_from_string(string: str) -> int:\n",
    "    \"\"\"Returns the number of tokens in a text string.\"\"\"\n",
    "    encoding = tiktoken.encoding_for_model(\"gpt-3.5-turbo\")\n",
    "    num_tokens = len(encoding.encode(string))\n",
    "    return num_tokens"
   ]
  },
  {
   "cell_type": "code",
   "execution_count": null,
   "id": "16c67618",
   "metadata": {},
   "outputs": [],
   "source": []
  },
  {
   "cell_type": "code",
   "execution_count": 10,
   "id": "27f32c00",
   "metadata": {},
   "outputs": [
    {
     "name": "stdout",
     "output_type": "stream",
     "text": [
      "1588\n"
     ]
    }
   ],
   "source": [
    "print(num_tokens_from_string(output))"
   ]
  },
  {
   "cell_type": "code",
   "execution_count": 39,
   "id": "1c31073b",
   "metadata": {},
   "outputs": [
    {
     "data": {
      "text/plain": [
       "0.01"
      ]
     },
     "execution_count": 39,
     "metadata": {},
     "output_type": "execute_result"
    }
   ],
   "source": [
    "0.0010*8 + 0.002"
   ]
  },
  {
   "cell_type": "code",
   "execution_count": 40,
   "id": "64b570ab",
   "metadata": {},
   "outputs": [
    {
     "data": {
      "text/plain": [
       "0.05"
      ]
     },
     "execution_count": 40,
     "metadata": {},
     "output_type": "execute_result"
    }
   ],
   "source": [
    "0.01*5"
   ]
  },
  {
   "cell_type": "code",
   "execution_count": 21,
   "id": "2d09a042",
   "metadata": {},
   "outputs": [
    {
     "ename": "NameError",
     "evalue": "name 'agent_role' is not defined",
     "output_type": "error",
     "traceback": [
      "\u001b[0;31m---------------------------------------------------------------------------\u001b[0m",
      "\u001b[0;31mNameError\u001b[0m                                 Traceback (most recent call last)",
      "Cell \u001b[0;32mIn[21], line 1\u001b[0m\n\u001b[0;32m----> 1\u001b[0m \u001b[43magent_role\u001b[49m\n",
      "\u001b[0;31mNameError\u001b[0m: name 'agent_role' is not defined"
     ]
    }
   ],
   "source": [
    "agent_role"
   ]
  },
  {
   "cell_type": "code",
   "execution_count": 23,
   "id": "bf680f53",
   "metadata": {},
   "outputs": [],
   "source": [
    "async def generate_report(context, question, agent_role):\n",
    "    \n",
    "    # try and except block remaining\n",
    "    response = await create_chat_completion(\n",
    "            messages = [\n",
    "                    {\"role\": \"system\", \"content\": f\"{agent_role}\"},\n",
    "                    {\"role\": \"user\", \"content\": f\"task: {generate_report_prompt(question, context)}\"}], \n",
    "            model=model\n",
    "    )\n",
    "    \n",
    "    return response"
   ]
  },
  {
   "cell_type": "code",
   "execution_count": 11,
   "id": "ec022006",
   "metadata": {},
   "outputs": [
    {
     "name": "stderr",
     "output_type": "stream",
     "text": [
      "2023-12-05 17:40:33,431 - DEBUG - This is a debug message\n",
      "2023-12-05 17:40:33,433 - INFO - This is an info message\n",
      "2023-12-05 17:40:33,433 - WARNING - This is a warning message\n",
      "2023-12-05 17:40:33,434 - ERROR - This is an error message\n",
      "2023-12-05 17:40:33,434 - CRITICAL - This is a critical message\n"
     ]
    }
   ],
   "source": [
    "import logging\n",
    "\n",
    "# Configure logging\n",
    "logging.basicConfig(\n",
    "    level=logging.DEBUG,  # Set the logging level (DEBUG, INFO, WARNING, ERROR, CRITICAL)\n",
    "    format='%(asctime)s - %(levelname)s - %(message)s',\n",
    "    handlers=[\n",
    "        logging.StreamHandler()  # Output logs to the console\n",
    "        # Additional handlers can be added here, such as logging to a file\n",
    "    ]\n",
    ")\n",
    "\n",
    "# Sample code that generates log messages\n",
    "def sample_function():\n",
    "    logging.debug(\"This is a debug message\")\n",
    "    logging.info(\"This is an info message\")\n",
    "    logging.warning(\"This is a warning message\")\n",
    "    logging.error(\"This is an error message\")\n",
    "    logging.critical(\"This is a critical message\")\n",
    "\n",
    "# Call the sample function\n",
    "sample_function()\n"
   ]
  },
  {
   "cell_type": "code",
   "execution_count": null,
   "id": "51c699a7",
   "metadata": {},
   "outputs": [],
   "source": []
  },
  {
   "cell_type": "code",
   "execution_count": null,
   "id": "771c3ec0",
   "metadata": {},
   "outputs": [],
   "source": []
  },
  {
   "cell_type": "code",
   "execution_count": null,
   "id": "02b4e97a",
   "metadata": {},
   "outputs": [],
   "source": []
  },
  {
   "cell_type": "code",
   "execution_count": 60,
   "id": "5c5cde24",
   "metadata": {},
   "outputs": [],
   "source": [
    "r = Researcher('Investment strategies and buying rental properties')"
   ]
  },
  {
   "cell_type": "code",
   "execution_count": null,
   "id": "5162ff2a",
   "metadata": {},
   "outputs": [],
   "source": []
  },
  {
   "cell_type": "code",
   "execution_count": null,
   "id": "cc57f431",
   "metadata": {},
   "outputs": [],
   "source": []
  },
  {
   "cell_type": "code",
   "execution_count": null,
   "id": "c660508a",
   "metadata": {},
   "outputs": [],
   "source": []
  },
  {
   "cell_type": "code",
   "execution_count": null,
   "id": "95655721",
   "metadata": {},
   "outputs": [],
   "source": []
  },
  {
   "cell_type": "code",
   "execution_count": null,
   "id": "888bfb13",
   "metadata": {},
   "outputs": [],
   "source": []
  },
  {
   "cell_type": "code",
   "execution_count": null,
   "id": "eee8c2fc",
   "metadata": {},
   "outputs": [],
   "source": []
  },
  {
   "cell_type": "code",
   "execution_count": null,
   "id": "08a0c70a",
   "metadata": {},
   "outputs": [],
   "source": []
  },
  {
   "cell_type": "code",
   "execution_count": 61,
   "id": "98cf7454",
   "metadata": {},
   "outputs": [
    {
     "name": "stdout",
     "output_type": "stream",
     "text": [
      "📘 Starting research for query: Investment strategies and buying rental properties\n",
      "Running 💰 Finance Agent ...\n",
      "🔍 Searching web with query: Best investment strategies for rental properties\n",
      "✅ Adding url https://www.forbes.com/advisor/investing/rental-property-real-estate-investing/ to our research\n",
      "✅ Adding url https://smartasset.com/investing/investing-in-rental-property-for-beginners to our research\n",
      "✅ Adding url https://www.investopedia.com/articles/investing/090815/buying-your-first-investment-property-top-10-tips.asp to our research\n",
      "✅ Adding url https://www.mashvisor.com/blog/rental-property-investment-strategy-definitive-guide/ to our research\n",
      "✅ Adding url https://www.moneygeek.com/mortgage/resources/rental-property-investing/ to our research\n",
      "🔍 Searching web with query: Pros and cons of buying rental properties as an investment\n",
      "✅ Adding url https://learn.roofstock.com/blog/pros-and-cons-of-owning-rental-property to our research\n",
      "✅ Adding url https://www.investopedia.com/articles/investing/051515/pros-cons-owning-rental-property.asp to our research\n",
      "✅ Adding url https://listwithclever.com/real-estate-blog/pros-and-cons-of-investing-in-rental-properties/ to our research\n",
      "✅ Adding url https://www.moneycrashers.com/buying-rental-property-investment/ to our research\n",
      "✅ Adding url https://blog.openforhomes.com/investing-rental-properties/ to our research\n",
      "🔍 Searching web with query: Rental property market trends and analysis\n",
      "✅ Adding url https://www.nerdwallet.com/article/finance/rental-market-trends to our research\n",
      "✅ Adding url https://www.zillow.com/rental-manager/market-trends/ to our research\n",
      "✅ Adding url https://www.zillowstatic.com/bedrock/app/uploads/sites/42/2023/11/Zillow-Rentals-Consumer-Housing-Trends-Report-2024.pdf to our research\n",
      "✅ Adding url https://www.forbes.com/sites/forbesbusinesscouncil/2023/09/21/guide-to-rental-property-investing-trends-and-developments/ to our research\n",
      "✅ Adding url https://www.statista.com/topics/4465/rental-market-in-the-us/ to our research\n",
      "🔍 Searching web with query: Investment strategies and buying rental properties\n",
      "✅ Adding url https://www.rocketmortgage.com/learn/buying-rental-house to our research\n",
      "✅ Adding url https://learn.roofstock.com/blog/how-to-buy-rental-property to our research\n"
     ]
    }
   ],
   "source": [
    "x = await r.run()"
   ]
  },
  {
   "cell_type": "code",
   "execution_count": 38,
   "id": "c1f78554",
   "metadata": {},
   "outputs": [
    {
     "data": {
      "text/plain": [
       "[[Document(page_content=\"Rental Properties: Pros and Cons\\nRental Properties: Pros and Cons\\nPete Rathburn is a copy editor and fact-checker with expertise in economics and personal finance and over twenty years of experience in the classroom.\\nOwning a rental property can be financially rewarding. If you're exploring this type of real estate as an investment, be aware of the risks and responsibilities.\\nRental Properties: An Overview\\nThe idea of buying a home or apartment to rent out for profit may sound alluring. But buying a rental property for income and long-term capital appreciation can have its ups and downs. For example, the housing market can fluctuate depending on location, supply and demand, and the economy.\", metadata={'url': 'https://www.investopedia.com/articles/investing/051515/pros-cons-owning-rental-property.asp'}),\n",
       "  Document(page_content='The Pros and Cons of Investing in Rental Properties\\nLike any investment, it’s important that you understand the benefits and limitations of owning a rental property. When you recognize the pros and cons of rental property investment, you can calculate whether this investment option suits your personal circumstances and long-term financial goals.\\nRental Income\\nThe most immediate benefit of rental property investing is the income you derive from renters. Ideally, your rental income should offset the mortgage and/or managing expenses incurred by the rental property. If a rental property sustains positive rental yield, you can use the increased annual cash flow to renovate the property, purchase another property, or diversify your investment portfolio.\\nProperty Value Growth', metadata={'url': 'https://listwithclever.com/real-estate-blog/pros-and-cons-of-investing-in-rental-properties/'}),\n",
       "  Document(page_content='20 must-know pros and cons of owning rental property\\nThe main reasons people purchase rental property – as well as any other asset – is to make money and build wealth over the long term. As with any other market, housing prices and demand for rental property can fluctuate up and down, depending on the real estate market cycle.\\nResidential rental properties come in all shapes and sizes. From single-family rental homes to condos and coops, townhouses and mobile homes, small multifamily properties with 2 to 4 units, fractional ownership shares of a home, crowdfunds and REITs.\\nThat’s one of the best things about real estate. There’s literally something for everyone who wants to invest in rental property.\\nHowever, just because owning a rental property may sound like an attractive investment, investing in real estate may not be the right decision for everyone. Let’s take a look at some of the biggest pros and cons of owning a rental property today.\\nKey takeaways', metadata={'url': 'https://learn.roofstock.com/blog/pros-and-cons-of-owning-rental-property'}),\n",
       "  Document(page_content='Financially speaking, in order for the rental property to be really profitable, the return you reap should be greater than what you could earn in conservative investments, such as bonds and dividend-paying blue-chip stocks, because of the real risks involved. And on the human side, not everyone has the ability to manage property and tenants.\\nKey Takeaways\\nPros\\xa0of Rental Properties\\nThere are several benefits to owning a rental property. They include:\\nTax Benefits\\nThe Internal Revenue Service allows you to deduct many expenses connected with rental property in the categories of:\\nThis means that you can deduct your insurance, interest on your mortgage, maintenance costs, and physical wear-and-tear on your property.', metadata={'url': 'https://www.investopedia.com/articles/investing/051515/pros-cons-owning-rental-property.asp'}),\n",
       "  Document(page_content='Clever’s Concierge Team can help you compare top local agents and negotiate better rates.\\nClever’s Concierge Team can help you compare top local agents and find the best expert for your search.\\n7 Pros and Cons of Investing In Rental Properties\\nSHARE\\nInvesting in a rental property and securing reliable tenants can be an excellent way to secure passive income. If you’re thinking of investing in a rental property, make sure you understand the advantages and disadvantages that come with this investment option.\\nWhen it comes to property investing, it’s easy to feel intimidated by the sheer volume of information available to novice investors. Although investing in property can be a time-consuming and stressful process, making the right property investment is one of the best ways to get on the fast-track to financial independence.\\nWhat is Rental Property Investing?', metadata={'url': 'https://listwithclever.com/real-estate-blog/pros-and-cons-of-investing-in-rental-properties/'}),\n",
       "  Document(page_content='Is rental property a good investment? Weighing pros & cons\\nWhen people have cash to invest, one of the first things they frequently think about is investing in real estate. Rental properties can generate additional income, increase in value, and offer tax benefits.\\nOn the other side of the coin, owning real estate isn’t nearly as easy as it might seem. Keep reading to learn more about why people invest in real estate, and to understand if rental property is really a good investment.\\nKey takeaways\\nRental properties can be a strong alternative to more volatile investments\\nWith inflation on the rise, turbulence in China and the Middle East, and the Federal Reserve’s promise to taper, many investors are looking at rental property as an alternative to common equities like stocks and bonds.', metadata={'url': 'https://learn.roofstock.com/blog/is-rental-property-a-good-investment'}),\n",
       "  Document(page_content='SFRs are uncorrelated to stocks\\nCorrelation is a statistic investors use to measure the degree that two asset classes move in relation to one another. A correlation coefficient of 1.00 means that two assets are perfectly correlated, while a correlation coefficient of 0.00 means they are perfectly uncorrelated.\\nSince 1971, single-family rental prices and stock prices have had a correlation coefficient of just 0.07. That means for the past 50 years, there is effectively no correlation between SFR prices and stock prices.\\nInvestors who add rental property to their investment portfolios can help to reduce their exposure to risk that the volatile swings of stocks and bonds historically bring.\\nPros and cons of investing in rental property\\nIn addition to stable returns and independence from the stock market, there are a variety of other factors that help to make rental property a good investment.', metadata={'url': 'https://learn.roofstock.com/blog/is-rental-property-a-good-investment'})],\n",
       " [Document(page_content='Investing in the Best Long Term and Short Term Rentals Markets in 2023\\nSo, weâ\\x80\\x99ve provided you with the 20 best rental markets in the US for 2023. They offer the highest possible return on investment (in terms of cash on cash return) in addition to relatively affordable prices and strong rental demand for the respective strategy. If youâ\\x80\\x99d like to optimize your investment outcomes, itâ\\x80\\x99s a good idea to focus on these top locations.\\nWhile investing in real estate can be scary for first-time investors, US housing market predictions for 2023 show that this is a great time to buy a long term or short term rental. A lack of previous experience or significant knowledge should not prevent you from making money with real estate.', metadata={'url': 'https://www.mashvisor.com/blog/fastest-growing-rental-markets-us/'}),\n",
       "  Document(page_content='So, investing in a long term rental property in a small market seems to be one of the most profitable strategies, at least at the beginning of 2023. Nevertheless, weâ\\x80\\x99d like to advise investors to keep a close eye on trends as they might start to change mid-year. As much as 90% of employers will require workers to return to the office in 2023, at least partially.\\nThe strengthening of the hybrid work model might force – at least some – employees to return to major US cities, which will affect demand for long term rentals. It might cause a gradual change in the top US cities and towns for investment.\\n3. High Real Estate Prices\\nThirdly, our analysis reveals that the top locations to buy long term rental properties in 2023 share high median property prices. All of these markets have a median home value above the $500,000 benchmark, with a few of them above $800,000. The figure is quite high compared to the US median residential real estate price of $357,319, as reported by Zillow.', metadata={'url': 'https://www.mashvisor.com/blog/fastest-growing-rental-markets-us/'}),\n",
       "  Document(page_content='Step 2: Figure Out the Top Neighborhoods for Your Rental Strategy\\nThe next step in finding a profitable rental property in the best rental markets for 2023 is choosing the top neighborhood for your preferred strategy. Real estate investment is highly local. It means that both the city and the area within the city affect all indicators and, ultimately, your ROI.\\nMashvisor offers two tools that can help you greatly with neighborhood analysis. First, you can use the real estate heatmap to locate the best areas for either long term or short term rentals in any US market. You can find neighborhoods with:\\nSecond, once youâ\\x80\\x99ve got a general idea of a few promising areas, you can use the Mashvisor neighborhood analysis pages to deepen your research. For each neighborhood, you will get access to comprehensive real estate data, as well as long term and short term rental data.\\nSome numbers include:', metadata={'url': 'https://www.mashvisor.com/blog/fastest-growing-rental-markets-us/'}),\n",
       "  Document(page_content='This trend can be largely explained by the impact of the Coronavirus pandemic on the US real estate market and vacation rental industry. In 2021 and 2022, major short term rental listings platforms like Airbnb reported a noticeable shift in preferences among travelers following the pandemic.\\nSpecifically, more and more short term rental guests got interested in smaller, traditionally less popular places in proximity to natural attractions like parks, mountains, lakes, and others. Guests also showed an increased demand for properties with amenities offering opportunities for outdoor activities, including patios, barbeques, playgrounds, etc.\\nSo, if youâ\\x80\\x99re planning to buy a short term rental in 2023, thatâ\\x80\\x99s a trend that you should definitely take into consideration. Investing in one of these top locations will help you boost Airbnb occupancy rate, as well as daily rates, which are the two most important factors affecting ROI for vacation rentals.\\n3. Affordable Real Estate Values', metadata={'url': 'https://www.mashvisor.com/blog/fastest-growing-rental-markets-us/'}),\n",
       "  Document(page_content='How to Find a Profitable Rental Property in the Best Rental Markets\\nIdentifying the top locations for your selected rental strategy is the first step in the process of buying a profitable long term or short term rental property. There are a few more steps that you need to take in order to guarantee a successful real estate investment.\\nBelow, weâ\\x80\\x99ve provided a step-by-step guide to what it takes to find a profitable rental property in the US market in 2023.\\nStep 1: Check Out the Rental Market Regulatory Environment\\nA successful rental business is a business that is not only profitable but also legal. The last thing you want as a landlord or an Airbnb host is to run into problems with the local authorities because of not complying with the rules in the market.', metadata={'url': 'https://www.mashvisor.com/blog/fastest-growing-rental-markets-us/'}),\n",
       "  Document(page_content='So, where are the hottest housing markets for 2023?\\nWithout further ado, here are the 10 top places to buy a long term rental property in 2023, ranked in descending order in terms of cash and cash return. Note that a few Arkansas and Florida markets are present in the list.\\n1. Lantana, Florida\\nStart searching for profitable long term rental properties in Lantana FL.\\n2. Saint Petersburg, Florida\\n3. Williamsburg, Virginia\\n4. Charleston, South Carolina\\n5. Fayetteville, Arkansas\\n6. Granbury, Texas\\n7. Springdale, Arkansas\\n8. Lake Havasu City, Arizona\\n9. Mount Pleasant, South Carolina\\n10. Bentonville, Arkansas\\nTo start searching for the most profitable long term rentals in these top locations or any other US market, click here.\\nThe 10 Best Short Term Rental Markets in 2023', metadata={'url': 'https://www.mashvisor.com/blog/fastest-growing-rental-markets-us/'}),\n",
       "  Document(page_content='Use the Best Real Estate Technology Tools Throughout\\nAs a final piece of advice, weâ\\x80\\x99d like to emphasize the importance of using the best real estate investment tools when looking for top-performing properties in the best rental markets. It is not really a step in the process but rather something that you should ensure throughout.\\nTraditionally, an investor needs to allocate three months to real estate research and analysis in order to find a profitable opportunity. The said duration has been brought down to just 15 minutes by the Mashvisor rental analysis platform.\\nMoreover, the results produced by the Mashvisor technology are much more robust and reliable than those from manual research. It is because they are based on the performance of all real estate comps and rental comps in the area and not just a small number of them.\\nTo find the top long term and short term rental properties for sale in the best rental markets in the US in 2023, sign up for a 7-day free trial of Mashvisor.', metadata={'url': 'https://www.mashvisor.com/blog/fastest-growing-rental-markets-us/'}),\n",
       "  Document(page_content='The 10 Best Long Term Rental Markets in 2023\\nNow that you know what features make for the top locations to buy a long term rental property this year, itâ\\x80\\x99s time to see which US cities and towns made it to the list.\\nOur ranking of the best rental markets for long term rentals in 2023 is based on Mashvisor nationwide real estate market analysis. Our team collected real estate and rental data from the entire US market before applying our AI-based, machine learning algorithms. It allowed us to locate the top places for this investment strategy.\\nIn our ranking, weâ\\x80\\x99ve focused on the cash on cash return. In other words, the best real estate markets are those that offer the highest long term rental cash on cash return in January 2023.\\nAdditionally, weâ\\x80\\x99ve included markets that meet the following criteria:\\nSo, where are the hottest housing markets for 2023?', metadata={'url': 'https://www.mashvisor.com/blog/fastest-growing-rental-markets-us/'}),\n",
       "  Document(page_content='Rental Property Calculator: Calculate Investment Property ROI\\n100 Best Short Term Rental Markets in 2023\\nHow to Buy an Airbnb Investment Property\\nAirbnb Rental Arbitrage: The Complete Guide\\n7 Best Investment Software for Real Estate Investors\\nTop 5 Websites to Analyze Investment Property\\n5 Steps to Finding the Best Rental Investment Property for Sale\\nThe Best Real Estate Competitive Market Analysis Software for 2023\\nWhat Is a Good Cash on Cash Return?: A Complete Guide\\nLooking for anInvestment Property?\\nUse analytics to ï¬\\x81nd lucrative traditional or Airbnb properties in a matter of minutes.\\nCompany\\nProduct\\nSolutions\\nFeatures\\nResources\\nExplore\\nReal Estate Markets\\nÂ© Copyright 2016 - 2023 Mashvisor. All rights reserved', metadata={'url': 'https://www.mashvisor.com/blog/fastest-growing-rental-markets-us/'})],\n",
       " [Document(page_content='Related topics\\nRecommended\\nReport on the topic\\nKey figures\\nThe most important key figures provide you with a compact summary of the topic of \"Rental market in the U.S.\" and take you straight to the corresponding statistics.\\nRenting vs owning\\nHomeownership rate in the U.S. 1990-2022\\nMultifamily property rent as a share of household income in the U.S. 2021, by city\\nMain reasons non-owners don\\'t currently own a home U.S. 2022\\nTenants\\nShare of residents who are renters in the U.S. 2020, by structure type\\nShare of residents who are renters in the U.S. 2020, by age\\nNumber of housing cost burdened households in the U.S. among renters 2003-2021\\nCoronavirus (COVID-19) effect\\nShare of renters with rent arrears in the U.S. 2022, by age group\\nShare of renters with rent arrears in the U.S. 2022, by race\\nFurther reportsGet the best reports to understand your industry\\nGet the best reports to understand your industry\\nContact\\nMon - Fri, 9am - 6pm (EST)\\nMon - Fri, 9am - 5pm (SGT)', metadata={'url': 'https://www.statista.com/topics/4465/rental-market-in-the-us/'}),\n",
       "  Document(page_content='Rental vacancy rates in the U.S. 2000-2023, by region\\nRental vacancy rates in the United States from 2000 to 2023, by region\\nU.S. housing stock: vacant rental units 2012-2022\\nNumber of unoccupied rental housing units in the United States from 2012 to 2nd quarter 2022\\nMarket share of rental property review sites U.S. 2021\\nMarket share of rental property review sites in the United States in 2021\\nRental costs\\nRental costs\\nAsking rent for unfurnished apartments in the U.S. 1980-2023\\nMonthly median asking rent for unfurnished apartments in the United States from 1980 to 2023 (in U.S. dollars)\\nRent for small and medium apartments in different states in the U.S. 2022\\nAverage monthly rent for one and two bedroom apartments in the United States as of September 2022, by state (in U.S. dollars)\\nYear-on-year apartment rent change in the U.S. 2021-2022, by state\\nAnnual change in average monthly apartment rent in the United States as of March 2021 and March 2022, by state', metadata={'url': 'https://www.statista.com/topics/4465/rental-market-in-the-us/'}),\n",
       "  Document(page_content=\"Rental Market Trends in the U.S. — Rents Accelerate Again\\nMany or all of the products featured here are from our partners who compensate us. This influences which products we write about and where and how the product appears on a page. However, this does not influence our evaluations. Our opinions are our own. Here is a list of our partners and here's how we make money.\\nUpdated Nov. 8 with the latest Zillow data for rent.\\nMore than 35% of households in the U.S. rent homes, according to 2017-2021 data from the U.S. Census Bureau[0]U.S. Census Bureau. QuickFacts, United States. Accessed Feb 13, 2023.View all sources. Over the last few years it’s become more expensive than ever to rent. But price growth is continuing to slow down since hitting an annual peak of 16% in Feb. 2022.\", metadata={'url': 'https://www.nerdwallet.com/article/finance/rental-market-trends'}),\n",
       "  Document(page_content='Customized Research & Analysis projects:\\nGet quick analyses with our professional research service\\nThe best of the best: the portal for top lists & rankings:\\nTransforming data into design:\\nStatista Content & Design\\nStrategy and business building for the data-driven economy:\\nU.S. Residential Rental Market - statistics & facts\\nHow much does renting an apartment in different states in the U.S. cost?\\nA profile of the American renter\\nKey insights\\nDetailed statistics\\nAverage monthly apartment rent in the U.S. 2017-2023, by apartment size\\nDetailed statistics\\nApartment rent in the United States in 2020-2022, by state\\nDetailed statistics\\nYear-on-year apartment rent change in the U.S. 2021-2022, by state\\nEditor’s Picks\\nCurrent statistics on this topic\\nCurrent statistics on this topic\\nApartments\\nAverage monthly apartment rent in the U.S. 2017-2023, by apartment size\\nApartments\\nStudio apartment rent in the different states in the U.S. in 2021\\nApartments', metadata={'url': 'https://www.statista.com/topics/4465/rental-market-in-the-us/'}),\n",
       "  Document(page_content='Lack of inventory. There is a shortage of vacant rental properties in general, and of affordable ones in particular.\\nExpired rent freezes and discounts. Landlords are making up for pandemic-era rent freezes and steep discounts in urban areas by hiking prices on new units and lease renewals.\\nA shifting workforce. As the pandemic increased the popularity of remote work, deep-pocketed renters sought larger homes in areas that had been previously relatively low-cost. This migration increased rents in suburban areas more than it lowered them in urban ones, yielding a net increase in rents.\\nMore demand to live alone. Prospective renters are increasingly looking for studio and one-bedroom apartments, driving up demand for available housing, according to a November 2022 report from the real estate website StreetEasy.', metadata={'url': 'https://www.nerdwallet.com/article/finance/rental-market-trends'}),\n",
       "  Document(page_content=\"» MORE: 7 tips for getting an apartment without a credit check\\nWho is most likely to rent?\\nSingle people are more likely to rent than couples, regardless of whether they have children, according to a 2022 rental housing report from Harvard University [0]Joint Center for Housing Studies of Harvard University. America's Rental Housing 2022. Accessed Feb 13, 2023.View all sources . Hispanic, Black and Asian residents are more likely to rent than own homes when compared with white residents. Those with incomes at or below $74,999 are more likely to rent than own compared with those with incomes $75,000 and over.\\n» MORE: \\xa0What does renters insurance cover?\\nDespite soaring rents, it’s still less expensive to rent than to buy. The typical rent for an average three-bedroom place is still more affordable than owning a similar-sized home in 95% of the 222 U.S. counties analyzed by ATTOM, a land and property real estate data curator, in its 2023 Rental Affordability Report.\", metadata={'url': 'https://www.nerdwallet.com/article/finance/rental-market-trends'}),\n",
       "  Document(page_content='Industry Overview\\nDigital & Trend reports\\nOverview and forecasts on trending topics\\nIndustry & Market reports\\nIndustry and market insights and forecasts\\nCompanies & Products reports\\nKey figures and rankings about companies and products\\nConsumer & Brand reports\\nConsumer and brand insights and preferences in various industries\\nPolitics & Society reports\\nDetailed information about political and social topics\\nCountry & Region reports\\nAll key figures about countries and regions\\nMarket forecast and expert KPIs for 1000+ markets in 190+ countries & territories\\nInsights on consumer attitudes and behavior worldwide\\nBusiness information on 100m+ public and private companies\\nExplore Company Insights\\nDetailed information for 39,000+ online stores and marketplaces\\nDirectly accessible data for 170 industries from 150+ countries\\nand over 1\\xa0Mio. facts.\\nCustomized Research & Analysis projects:\\nGet quick analyses with our professional research service', metadata={'url': 'https://www.statista.com/topics/4465/rental-market-in-the-us/'}),\n",
       "  Document(page_content=\"The generation of adults most likely to rent is Gen Z with 74% of the cohort renting their homes, according to a March 29 data analysis by RentCafe, an apartment listing service. That's a pretty recent development since Millennial home buyers only began to outweigh renters in the cohort as of 2022, the data shows. The analysis found 51.5% of millennials now own their own home. The amount of millennial homeowners increased 28% from 2019 to 2022. But baby boomers are still the dominant generation owning their own homes, representing 40% of all homeowners in the U.S.\\nRent vs. income\\nGenerally, households should be spending no more than 30% of their gross income on rent, according to the NYU Furman Center [0]NYU Furman Center. State of Renters and Their Homes. Accessed Feb 13, 2023.View all sources .\", metadata={'url': 'https://www.nerdwallet.com/article/finance/rental-market-trends'})],\n",
       " [Document(page_content='Beginner’s Guide to Rental Property Investing\\nReal estate investments can help diversify your portfolio while creating an additional income stream. There are different ways to invest in real estate, including owning one or more rental properties. Getting started with rental investments means understanding how to find properties, how to purchase them and how to use them to turn a profit. It’s a bit more involved than picking stocks or mutual funds, but there’s solid reward potential if you’re open to learning the ropes. Here’s a beginner’s guide to investing in rental property.\\nA financial advisor can help you diversify your portfolio with real estate and other investments.\\nTypes of Rental Properties for Investment\\nRental properties aren’t all alike in terms of how you can use them to create streams of income. There are three different ways to leverage rental properties in a portfolio:\\nEach of these three types of rental arrangements require getting answers to specific questions.', metadata={'url': 'https://smartasset.com/investing/investing-in-rental-property-for-beginners'}),\n",
       "  Document(page_content='10 Tips For Buying Your First Rental Property\\nKey Takeaways\\nWhy invest in rental properties?\\n10 tips for buying rental properties\\nThe concept of buying first rental property assets is one of the best ways to begin accumulating long-term wealth. A solid rental property can not only provide you with monthly cash flow, but can serve as the backbone of your retirement plan. The key, however, is finding the right property. Not every quality property you look at will make a good rental property. It takes the right mix of demand and location to maximize your return. If you have been interested in owning a rental, but weren’t sure what steps to take, here are some suggestions on buying first rental property assets.\\nWhy Buy A Rental Property?', metadata={'url': 'https://www.fortunebuilders.com/how-to-buy-your-first-rental-property/'}),\n",
       "  Document(page_content=\"How to Invest in Rental Property\\nTips for buying your first rental property\\nThinking about purchasing an investment property? Purchasing rental real estate requires knowledge of leasing, mortgage loans, tenant and landlord relationships, and property management. Buying real estate can be lucrative but, just like any investment, comes with benefits and challenges.\\nKey Takeaways\\nSo You Want to Be a Landlord?\\nBuying investment property and acting as a landlord can be a good way to earn income, but requires a commitment of time and money. After choosing the right property, prepping the unit, and finding reliable tenants, ongoing maintenance is required.\\nMaintenance and upkeep costs can decrease your rental income. There's always the potential for an emergency, such as roof damage. Investors should plan to set aside 1% of their property's value for repairs.\", metadata={'url': 'https://www.investopedia.com/articles/investing/090815/buying-your-first-investment-property-top-10-tips.asp'}),\n",
       "  Document(page_content='Buying your first rental property gives you the flexibility to sell when the time is right. With consistent cash flow, owners aren’t typically forced to sell when they need more liquidity.\\nAppreciation is never guaranteed, but history has taught us that home values increase more often than not. As a result, rental property owners can usually depend on the appreciation of their assets.\\nBuying first rental property assets isn’t the only way to invest. That said, becoming a landlord is a great way to diversify any growing portfolio.\\n1. Do Your Homework', metadata={'url': 'https://www.fortunebuilders.com/how-to-buy-your-first-rental-property/'}),\n",
       "  Document(page_content='Buying a Rental Property\\nLocation, Location, Location\\nA city or locale where the population is growing or a revitalization plan is underway often represents a potential investment opportunity. A neighborhood with a low crime rate, easy access to public transportation, and a growing job market may also mean a larger pool of renters.\\nWhen choosing a profitable rental property, look for a location with low property taxes, a good school district, and a host of\\xa0amenities, such as restaurants, coffee shops, shopping, trails, and parks.\\nOnline real estate property sites like Zillow.com provide information for investors including home rental rates and current investment property values. Airbnb.com provides investors with information on the going rental rates for vacation homes or condos.\\nFinancing Your Rental Property', metadata={'url': 'https://www.investopedia.com/articles/investing/090815/buying-your-first-investment-property-top-10-tips.asp'}),\n",
       "  Document(page_content='Before you buy an investment property, review your options and learn the ins and outs of what it takes to own rental property.\\nYou’re Responsible For Everything\\nWhen you purchase a rental property, you’re in charge of buying a house (often a multifamily home), finding tenants and maintaining the property while collecting monthly rent and paying property taxes. When planned and well executed, buying rental properties can be an investment that eventually becomes a source of real estate income and profit.\\nIt’s important to consider what type of property you want to rent out. Different types of houses carry different types of responsibilities. For example, renting out a house with a lawn can involve more landscaping and lawn care than an apartment building in the city. However, buying a multifamily home or apartment building means finding more tenants and maintaining several rental units.\\nSee What You Qualify For\\nType of Loan\\nHome Description\\nProperty Use\\nYour Credit Profile', metadata={'url': 'https://www.rocketmortgage.com/learn/buying-rental-house'}),\n",
       "  Document(page_content='Condos can be a good option for rental property buyers and they are often located in desirable locations.\\nThe Bottom Line\\nAs with many investments, real estate rental property is often a long-term project. Yet, rental properties can be a lucrative way to invest in real estate and provide a passive, steady income for investors. Investing in rental property requires knowledge about tenant and landlord laws, leasing, mortgages, and property management.\\nLending Tree. \"Down Payment Requirements on Rental Property.\"\\nRenters Warehouse. \"How to Budget Maintenance For Your Rental Property.\"\\nApartments.com. \"How Much Does It Cost to Hire a Property Manager?\"\\nNOLO. \"State Landlord-Tenant Laws.\"\\nAllstate. \"What Does Landlord Insurance Cover?\"\\nAP Mortgage. \"Differences Between a Second Home and an Investment Property.\"\\nConsumer Financial Protection Bureau. \"Having a Problem With a Financial Product or Service?\"\\nU.S. Department of Housing and Urban Development. \"Complaints.\"', metadata={'url': 'https://www.investopedia.com/articles/investing/090815/buying-your-first-investment-property-top-10-tips.asp'}),\n",
       "  Document(page_content='Everything You Need To Know Before Buying Rental Property\\nVictoria Araj9-minute read\\nNovember 14, 2023\\nShare:\\nBuying a rental property is a big decision with big financial implications. You’ll want to find a location that’s easy to rent and a property that fits your budget. Then, you’ll need to figure out how to pay for your new investment property before you make an offer.\\nThough every property is different, the process of making savvy property investment decisions is the same.\\nLet’s look at what you need to know when buying a house to rent out, the different factors you’ll need to consider and what to look for when buying your first rental property.\\nWhat You Need To Know Before Investing In Rental Property\\nBecause the goal is to turn a profit quickly, buying a rental property differs from buying a house as a primary residence. That means you’ll need to treat your investment as a business, choosing affordable properties and finding the right way to finance them.', metadata={'url': 'https://www.rocketmortgage.com/learn/buying-rental-house'})]]"
      ]
     },
     "execution_count": 38,
     "metadata": {},
     "output_type": "execute_result"
    }
   ],
   "source": [
    "x"
   ]
  },
  {
   "cell_type": "code",
   "execution_count": 37,
   "id": "4eabd10a",
   "metadata": {},
   "outputs": [
    {
     "ename": "IndexError",
     "evalue": "list index out of range",
     "output_type": "error",
     "traceback": [
      "\u001b[0;31m---------------------------------------------------------------------------\u001b[0m",
      "\u001b[0;31mIndexError\u001b[0m                                Traceback (most recent call last)",
      "Cell \u001b[0;32mIn[37], line 1\u001b[0m\n\u001b[0;32m----> 1\u001b[0m \u001b[38;5;28mlen\u001b[39m(\u001b[43mx\u001b[49m\u001b[43m[\u001b[49m\u001b[38;5;241;43m4\u001b[39;49m\u001b[43m]\u001b[49m)\n",
      "\u001b[0;31mIndexError\u001b[0m: list index out of range"
     ]
    }
   ],
   "source": [
    "len(x[4])"
   ]
  },
  {
   "cell_type": "code",
   "execution_count": 19,
   "id": "23459f73",
   "metadata": {},
   "outputs": [
    {
     "name": "stdout",
     "output_type": "stream",
     "text": [
      "✅ Adding url https://www.sofi.com/learn/content/the-pros-and-cons-of-owning-rental-property/ to our research\n"
     ]
    }
   ],
   "source": [
    "something = await r.get_content_using_query('Pros and cons of investing in rental properties')"
   ]
  },
  {
   "cell_type": "code",
   "execution_count": null,
   "id": "35f76da5",
   "metadata": {},
   "outputs": [],
   "source": []
  },
  {
   "cell_type": "markdown",
   "id": "29c9511a",
   "metadata": {},
   "source": [
    "## Playing with asyncio"
   ]
  },
  {
   "cell_type": "code",
   "execution_count": 79,
   "id": "8c574915",
   "metadata": {},
   "outputs": [],
   "source": [
    "import asyncio\n",
    "\n",
    "async def gg():\n",
    "    task = asyncio.create_task(haha())\n",
    "    print('A')\n",
    "    await asyncio.sleep(1)\n",
    "\n",
    "    print('B')\n",
    "    await task\n",
    "    \n",
    "async def haha():\n",
    "    print('1')\n",
    "    await asyncio.sleep(2)\n",
    "    print('2')"
   ]
  },
  {
   "cell_type": "code",
   "execution_count": 80,
   "id": "4caf1cd7",
   "metadata": {},
   "outputs": [
    {
     "name": "stdout",
     "output_type": "stream",
     "text": [
      "A\n",
      "1\n",
      "B\n",
      "2\n"
     ]
    }
   ],
   "source": [
    "await gg()"
   ]
  },
  {
   "cell_type": "code",
   "execution_count": 15,
   "id": "70167932",
   "metadata": {},
   "outputs": [
    {
     "name": "stdout",
     "output_type": "stream",
     "text": [
      "\n",
      "Hello\n",
      "!\n",
      " How\n",
      " can\n",
      " I\n",
      " assist\n",
      " you\n",
      " today\n",
      "?\n",
      "None\n"
     ]
    }
   ],
   "source": [
    "# Example of an OpenAI ChatCompletion request with stream=True\n",
    "# https://platform.openai.com/docs/guides/chat\n",
    "\n",
    "# a ChatCompletion request\n",
    "from openai import OpenAI\n",
    "\n",
    "client = OpenAI()\n",
    "\n",
    "completion = client.chat.completions.create(\n",
    "  model=\"gpt-3.5-turbo\",\n",
    "  messages=[\n",
    "    {\"role\": \"system\", \"content\": \"You are a helpful assistant.\"},\n",
    "    {\"role\": \"user\", \"content\": \"Hello!\"}\n",
    "  ],\n",
    "    stream=True\n",
    ")\n",
    "\n",
    "for chunk in completion:\n",
    "    print(chunk.choices[0].delta.content)"
   ]
  },
  {
   "cell_type": "code",
   "execution_count": null,
   "id": "37e9c413",
   "metadata": {},
   "outputs": [],
   "source": []
  },
  {
   "cell_type": "code",
   "execution_count": null,
   "id": "1496b449",
   "metadata": {},
   "outputs": [],
   "source": []
  },
  {
   "cell_type": "code",
   "execution_count": null,
   "id": "8015c129",
   "metadata": {},
   "outputs": [],
   "source": [
    "from django.http import JsonResponse, StreamingHttpResponse\n",
    "from rest_framework.decorators import api_view\n",
    "from rest_framework.response import Response\n",
    "import openai\n",
    "\n",
    "# Move the API key to Django settings\n",
    "OPENAI_API_KEY = 'your_openai_api_key'  # Replace with your actual API key\n",
    "\n",
    "@api_view([\"POST\"])\n",
    "def generate_names(request):\n",
    "    if request.method == 'POST':\n",
    "        # Parse the request body and extract the prompt\n",
    "        prompt = request.data.get('prompt')\n",
    "        \n",
    "        if not prompt:\n",
    "            return JsonResponse({'error': 'Prompt is required.'}, status=400)\n",
    "\n",
    "        # Set up the OpenAI API client\n",
    "        openai.api_key = OPENAI_API_KEY\n",
    "        \n",
    "        # Define a generator function to stream the response\n",
    "        def generate_response():\n",
    "            response = client.chat.completions.create(\n",
    "                          model=\"gpt-3.5-turbo\",\n",
    "                          messages=[\n",
    "                            {\"role\": \"system\", \"content\": \"You are a helpful assistant.\"},\n",
    "                            {\"role\": \"user\", \"content\": \"Hello!\"}\n",
    "                          ],\n",
    "                            stream=True\n",
    "                        )\n",
    "            for chunk in response:\n",
    "                content = chunk.choices[0].delta.content\n",
    "                if content is not None:\n",
    "                    yield content\n",
    "\n",
    "        # Return a streaming response to the client\n",
    "        return StreamingHttpResponse(generate_response(), content_type='text/event-stream')\n",
    "    \n",
    "    # Return a JSON error if the request method is not POST\n",
    "    return JsonResponse({'error': 'Method not allowed.'}, status=405)\n"
   ]
  },
  {
   "cell_type": "code",
   "execution_count": 5,
   "id": "dc1e244a",
   "metadata": {},
   "outputs": [
    {
     "data": {
      "text/plain": [
       "'/Users/cohlem/Projects/FastAPI/backend-fastapi/researcher/notebooks'"
      ]
     },
     "execution_count": 5,
     "metadata": {},
     "output_type": "execute_result"
    }
   ],
   "source": [
    "pwd"
   ]
  },
  {
   "cell_type": "code",
   "execution_count": 6,
   "id": "d557ae3c",
   "metadata": {},
   "outputs": [
    {
     "name": "stdout",
     "output_type": "stream",
     "text": [
      "Advanced RAG.ipynb                      hybrid fusion.ipynb\r\n",
      "Core.ipynb                              \u001b[34mhybrid_fusion_pack\u001b[m\u001b[m/\r\n",
      "chunking.ipynb                          langsmith benchmarking.ipynb\r\n",
      "\u001b[34mdata\u001b[m\u001b[m/                                   paul_graham_essay.txt\r\n",
      "embed.ipynb                             sec-guide-to-savings-and-investing.pdf\r\n",
      "eval.jsonl\r\n"
     ]
    }
   ],
   "source": [
    "ls"
   ]
  },
  {
   "cell_type": "code",
   "execution_count": 4,
   "id": "b6a71461",
   "metadata": {},
   "outputs": [],
   "source": [
    "from researcher.core.agent import Researcher"
   ]
  },
  {
   "cell_type": "code",
   "execution_count": 5,
   "id": "4f95c526",
   "metadata": {},
   "outputs": [],
   "source": [
    "r = Researcher('ag')"
   ]
  },
  {
   "cell_type": "code",
   "execution_count": 6,
   "id": "9c20c0fa",
   "metadata": {},
   "outputs": [
    {
     "name": "stdout",
     "output_type": "stream",
     "text": [
      "✅ Adding url https://www.taylorswift.com/ to our research\n",
      "✅ Adding url https://en.wikipedia.org/wiki/Taylor_Swift to our research\n",
      "✅ Adding url https://www.instagram.com/taylorswift/ to our research\n",
      "✅ Adding url https://www.youtube.com/c/TaylorSwift/videos to our research\n",
      "✅ Adding url https://www.biography.com/musicians/taylor-swift to our research\n"
     ]
    }
   ],
   "source": [
    "ans = await r.get_content_using_query('Taylor swift')"
   ]
  },
  {
   "cell_type": "code",
   "execution_count": 7,
   "id": "cbf880df",
   "metadata": {},
   "outputs": [
    {
     "data": {
      "text/plain": [
       "[{'url': 'https://en.wikipedia.org/wiki/Taylor_Swift',\n",
       "  'raw_content': 'Contents\\nTaylor Swift\\nTaylor Alison Swift (born December 13, 1989) is an American singer-songwriter. Her songwriting, artistry, and entrepreneurship have influenced the music industry and popular culture, and her life is a subject of widespread media coverage.\\nSwift began professional songwriting at age 14 and signed with Big Machine Records in 2005 to become a country singer. She released six studio albums under the label, four of them to country radio, starting with Taylor Swift (2006). Her next, Fearless (2008), explored country pop, and its singles \"Love Story\" and \"You Belong with Me\" catapulted her to mainstream fame. Speak Now (2010) infused rock influences, while Red (2012) experimented with electronic elements and featured Swift\\'s first Billboard Hot 100 number-one song, \"We Are Never Ever Getting Back Together\". She departed from her country image with 1989 (2014), a synth-pop album supported by the chart-topping songs \"Shake It Off\", \"Blank Space\", and \"Bad Blood\". Media scrutiny inspired the hip-hop-flavored Reputation (2017) and its number-one single \"Look What You Made Me Do\".\\nSwift signed with Republic Records in 2018. She released the eclectic pop album Lover (2019) and autobiographical documentary Miss Americana (2020), embraced indie folk and alternative rock on 2020 albums Folklore and Evermore, explored understated pop styles on Midnights (2022), and released four re-recorded albums subtitled Taylor\\'s Version after a dispute with Big Machine. These albums spawned the number-one songs \"Cruel Summer\", \"Cardigan\", \"Willow\", \"Anti-Hero\", \"All Too Well\", and \"Is It Over Now?\". The Eras Tour, her 2023–2024 concert tour, and its accompanying concert film both became the highest-grossing ever in their respective fields. Swift directed music videos and films such as All Too Well: The Short Film (2021).\\nOne of the world\\'s best-selling musicians with 200\\xa0million records sold, Swift has earned 117 Guinness World Records and received the Global Recording Artist of the Year award three times from the International Federation of the Phonographic Industry. She is the highest-grossing female touring act, the most-streamed woman on Spotify and Apple Music, and the first billionaire with music as the main source of income. The 2023 Time Person of the Year, Swift has appeared on lists such as Rolling Stone\\'s 100 Greatest Songwriters of All Time, Billboard\\'s Greatest of All Time Artists, and the World\\'s 100 Most Powerful Women by Forbes. Her accolades include 12 Grammy Awards (including three Album of the Year wins), 1 Primetime Emmy Award, 40 American Music Awards (including Artist of the Decade – 2010s), 40 Billboard Music Awards, and 23 MTV Video Music Awards. Swift is a philanthropist and an advocate for artists\\' rights and women\\'s empowerment.\\nLife and career\\nEarly life\\nTaylor Alison Swift was born on December 13, 1989,[1] in West Reading, Pennsylvania.[2] She is named after singer-songwriter James Taylor.[3] Her father, Scott Kingsley Swift, is a former stockbroker for Merrill Lynch[4] and her mother, Andrea Gardner Swift (née Finlay), is a former homemaker who previously worked as a mutual fund marketing executive.[5] Taylor has a younger brother, actor Austin Swift,[6] and is of Scottish,[7] German, and Italian descent.[8][9] Their maternal grandmother, Marjorie Finlay, was an opera singer.[10]\\nSwift spent her early years on a Christmas tree farm that her father had purchased from one of his clients.[11][12] She is a Christian.[13] She attended preschool and kindergarten at Alvernia Montessori School, run by Bernadine Franciscan sisters,[14] before transferring to the Wyndcroft School.[15] The family moved to a rented house in the suburban town of Wyomissing, Pennsylvania,[16] where Swift attended Wyomissing Area Junior/Senior High School.[17] She spent summers in Stone Harbor, New Jersey, until she was 14 years old, performing in a local coffee shop.[18][19]\\nAt age nine, Swift became interested in musical theater and performed in four Berks Youth Theatre Academy productions.[20] She also traveled regularly to New York City for vocal and acting lessons.[21] Swift later shifted her focus toward country music, inspired by Shania Twain\\'s songs, which made her \"want to just run around the block four times and daydream about everything\".[22] She spent weekends performing at local festivals and events.[23][24] After watching a documentary about Faith Hill, Swift felt she needed to move to Nashville, Tennessee, to pursue a career in music.[25] She traveled there with her mother at age eleven to visit record labels and submitted demo tapes of Dolly Parton and Dixie Chicks karaoke covers.[26] She was rejected, however, because \"everyone in that town wanted to do what I wanted to do. So, I kept thinking to myself, I need to figure out a way to be different.\"[27]\\nWhen Swift was around 12 years old, computer repairman and local musician Ronnie Cremer taught her to play guitar. Cremer helped with her first efforts as a songwriter, leading her to write \"Lucky You\".[28] In 2003, Swift and her parents started working with New York–based talent manager Dan Dymtrow. With his help, Swift modeled for Abercrombie & Fitch as part of their \"Rising Stars\" campaign, had an original song included on a Maybelline compilation CD, and met with major record labels.[29] After performing original songs at an RCA Records showcase, Swift, then 13 years old, was given an artist development deal and began making frequent trips to Nashville with her mother.[30][31][32] To help Swift break into the country music scene, her father transferred to Merrill Lynch\\'s Nashville office when she was 14 years old, and the family relocated to Hendersonville, Tennessee.[11][33] Swift attended Hendersonville High School[34] before transferring to Aaron Academy after two years, which better accommodated her touring schedule through homeschooling. She graduated one year early.[35][36]\\n2004–2008: Career beginnings and first album\\nIn Nashville, Swift worked with experienced Music Row songwriters such as Troy Verges, Brett Beavers, Brett James, Mac McAnally, and the Warren Brothers[37][38] and formed a lasting working relationship with Liz Rose.[39] They began meeting for two-hour writing sessions every Tuesday afternoon after school.[40] Rose called the sessions \"some of the easiest I\\'ve ever done. Basically, I was just her editor. She\\'d write about what happened in school that day. She had such a clear vision of what she was trying to say. And she\\'d come in with the most incredible hooks.\" Swift became the youngest artist signed by the Sony/ATV Tree publishing house,[41] but left then BMG-owned RCA Records (later bought by Sony Music) at the age of 14 due to the label\\'s lack of care and them \"cut[ting] other people\\'s stuff\". She was also concerned that development deals can shelve artists[32][24] and recalled: \"I genuinely felt that I was running out of time. I wanted to capture these years of my life on an album while they still represented what I was going through.\"[42]\\nAt an industry showcase at Nashville\\'s Bluebird Cafe in 2005, Swift caught the attention of Scott Borchetta, a DreamWorks Records executive who was preparing to form an independent record label, Big Machine Records. She had first met Borchetta in 2004.[44] She was one of Big Machine\\'s first signings,[32] and her father purchased a three-percent stake in the company for an estimated $120,000.[45][46] She began working on her eponymous debut album with producer Nathan Chapman, with whom she felt she had the right \"chemistry\".[24] Swift wrote three of the album\\'s songs alone and co-wrote the remaining eight with Rose, Robert Ellis Orrall, Brian Maher, and Angelo Petraglia.[47] Taylor Swift was released on October 24, 2006.[48] Country Weekly critic Chris Neal deemed Swift better than previous aspiring teenage country singers because of her \"honesty, intelligence and idealism\".[49] The album peaked at number five on the US Billboard 200, on which it spent 157 weeks—the longest stay on the chart by any release in the US in the 2000s decade.[50] Swift became the first female country music artist to write or co-write every track on a US platinum-certified debut album.[51]\\nBig Machine Records was still in its infancy during the June 2006 release of the lead single, \"Tim McGraw\", which Swift and her mother helped promote by packaging and sending copies of the CD single to country radio stations. As there was not enough furniture at the label yet, they would sit on the floor to do so.[52] She spent much of 2006 promoting Taylor Swift with a radio tour and television appearances; she opened for Rascal Flatts on select dates during their 2006 tour,[53] as a replacement for Eric Church.[54] Borchetta said that although record industry peers initially disapproved of his signing a 15-year-old singer-songwriter, Swift tapped into a previously unknown market—teenage girls who listen to country music.[52][11]\\nFollowing \"Tim McGraw\", four more singles were released throughout 2007 and 2008: \"Teardrops on My Guitar\", \"Our Song\", \"Picture to Burn\" and \"Should\\'ve Said No\". All appeared on Billboard\\'s Hot Country Songs, with \"Our Song\" and \"Should\\'ve Said No\" reaching number one. With \"Our Song\", Swift became the youngest person to single-handedly write and sing a number-one song on the chart.[55] \"Teardrops on My Guitar\" reached number thirteen on the US Billboard Hot 100.[56] Swift also released two EPs, The Taylor Swift Holiday Collection in October 2007 and Beautiful Eyes in July 2008.[57][58] She promoted her debut album extensively as the opening act for other country musicians\\' tours in 2006 and 2007, including those by George Strait,[59] Brad Paisley,[60] and Tim McGraw and Faith Hill.[61]\\nSwift won multiple accolades for Taylor Swift. She was one of the recipients of the Nashville Songwriters Association\\'s Songwriter/Artist of the Year in 2007, becoming the youngest person to be honored with the title.[62] She also won the Country Music Association\\'s Horizon Award for Best New Artist,[63] the Academy of Country Music Awards\\' Top New Female Vocalist,[64] and the American Music Awards\\' Favorite Country Female Artist honor.[65] She was also nominated for Best New Artist at the 50th Annual Grammy Awards.[66] In 2008, she opened for Rascal Flatts again,[67] and dated singer Joe Jonas briefly.[68][69]\\n2008–2010: Fearless\\nSwift\\'s second studio album, Fearless, was released on November 11, 2008, in North America,[72] and in March 2009 in other markets.[73] Critics lauded Swift\\'s honest and vulnerable songwriting in contrast to other teenage singers.[74] Five singles were released in 2008–2009: \"Love Story\", \"White Horse\", \"You Belong with Me\", \"Fifteen\", and \"Fearless\". The first single peaked at number four on the Billboard Hot 100 and number one in Australia.[56][75] It was the first country song to top Billboard\\'s Pop Songs chart.[76] \"You Belong with Me\" was the album\\'s highest-charting single on the Billboard Hot 100, peaking at number two,[77] and was the first country song to top Billboard\\'s all-genre Radio Songs chart.[78] All five singles were Hot Country Songs top-10 entries, with \"Love Story\" and \"You Belong with Me\" topping the chart.[79] Fearless became her first number-one album on the Billboard 200 and 2009\\'s top-selling album in the US.[80] The Fearless Tour, Swift\\'s first headlining concert tour, grossed over $63\\xa0million.[81] Journey to Fearless, a documentary miniseries, aired on television and was later released on DVD and Blu-ray.[82] Swift also performed as a supporting act for Keith Urban\\'s Escape Together World Tour in 2009.[83]\\nIn 2009, the music video for \"You Belong with Me\" was named Best Female Video at the 2009 MTV Video Music Awards.[84] Her acceptance speech was interrupted by rapper Kanye West,[85] an incident that became the subject of controversy, widespread media attention and Internet memes.[86] That year she won five American Music Awards, including Artist of the Year and Favorite Country Album.[87] Billboard named her 2009\\'s Artist of the Year.[88] She won Video of the Year and Female Video of the Year for \"Love Story\" at the 2009 CMT Music Awards, where she made a parody video of the song with rapper T-Pain called \"Thug Story\".[89] At the 52nd Annual Grammy Awards, Fearless was named Album of the Year and Best Country Album, and \"White Horse\" won Best Country Song and Best Female Country Vocal Performance. Swift was the youngest artist to win Album of the Year.[note 1] At the 2009 Country Music Association Awards, Swift won Album of the Year for Fearless and was named Entertainer of the Year, the youngest person to win the honor.[92]\\nSwift featured on John Mayer\\'s single \"Half of My Heart\" and Boys Like Girls\\' \"Two Is Better Than One\", the latter of which she co-wrote.[93][94] She co-wrote and recorded \"Best Days of Your Life\" with Kellie Pickler,[95] and wrote two songs for the Hannah Montana: The Movie soundtrack—\"You\\'ll Always Find Your Way Back Home\" and \"Crazier\".[71] She contributed two songs to the Valentine\\'s Day soundtrack, including the single \"Today Was a Fairytale\", which was her first number-one on the Canadian Hot 100 and peaked at number two on the US Hot 100.[96][97] While shooting her film debut Valentine\\'s Day in October 2009, Swift dated co-star Taylor Lautner.[98] In 2009, she made her television debut as a rebellious teenager in an CSI: Crime Scene Investigation episode.[99] She hosted and performed as the musical guest on Saturday Night Live; she was the first host ever to write their own opening monologue.[100][101]\\n2010–2014: Speak Now and Red\\nIn August 2010, Swift released \"Mine\", the lead single from her third studio album, Speak Now. It entered the Hot 100 at number three.[102] Swift wrote the album alone and co-produced every track.[103] It was released on October 25, 2010,[104] opening atop the Billboard 200 with over one million copies sold.[105] It became the fastest-selling digital album by a female artist, with 278,000 downloads in a week.[106] Critics appreciated Swift\\'s grown-up perspectives;[107] Rob Sheffield of Rolling Stone wrote, \"in a mere four years, the 20-year-old Nashville firecracker has put her name on three dozen or so of the smartest songs released by anyone in pop, rock or country.\"[108] \"Back to December\", \"Mean\", \"The Story of Us\", \"Sparks Fly\", and \"Ours\" became subsequent singles, with the latter two reaching number one on the Hot Country Songs[79] and the first two peaking in the top ten in Canada.[97] She dated actor Jake Gyllenhaal in 2010.[109]\\nAt the 54th Annual Grammy Awards in 2012, Swift won Best Country Song and Best Country Solo Performance for \"Mean\", which she performed during the ceremony.[110] Swift won other awards for Speak Now, including Songwriter/Artist of the Year by the Nashville Songwriters Association (2010 and 2011),[111][112] Woman of the Year by Billboard (2011),[113] and Entertainer of the Year by the Academy of Country Music (2011 and 2012)[114] and the Country Music Association in 2011.[115] At the American Music Awards of 2011, Swift won Artist of the Year and Favorite Country Album.[116] Rolling Stone named Speak Now amongst its \"50 Best Female Albums of All Time\" (2012), writing: \"She might get played on the country station, but she\\'s one of the few genuine rock stars we\\'ve got these days, with a flawless ear for what makes a song click.\"[117]\\nThe Speak Now World Tour ran from February 2011 to March 2012 and grossed over $123\\xa0million,[118] followed up by the live album, Speak Now World Tour: Live.[119] She contributed two original songs to The Hunger Games soundtrack album: \"Safe & Sound\", co-written and recorded with the Civil Wars and T-Bone Burnett, and \"Eyes Open\". \"Safe & Sound\" won the Grammy Award for Best Song Written for Visual Media and was nominated for the Golden Globe Award for Best Original Song.[120][121] Swift featured on B.o.B\\'s single \"Both of Us\", released in May 2012.[122] She dated Conor Kennedy that year.[123]\\nIn August 2012, Swift released \"We Are Never Ever Getting Back Together\", the lead single from her fourth studio album, Red. It became her first number one in the US and New Zealand,[124][125] and became the fastest-selling single in digital history.[126] Other singles from the album were \"Begin Again\", \"I Knew You Were Trouble\", \"22\", \"Everything Has Changed\", \"The Last Time\", and \"Red\". \"I Knew You Were Trouble\" reached the top five on charts in Australia, Canada, Denmark, Ireland, New Zealand, the UK and the US.[127] \"Begin Again\", \"22\", and \"Red\" reached the top 20 in the US.[56] On Red, released on October 22, 2012,[128] Swift worked with Chapman and Rose, as well as the new producers Max Martin and Shellback.[129] It incorporated many pop and rock styles such as heartland rock, dubstep and dance-pop.[130] Randall Roberts of Los Angeles Times said Swift \"strives for something much more grand and accomplished\" with Red.[131] It opened at number one on the Billboard 200 with 1.21\\xa0million sales, making Swift the first female to have two million-selling first-weeks.[132][133] Red was Swift\\'s first number-one album in the UK.[134] It earned several accolades, including four nominations at the 56th Annual Grammy Awards (2014).[135] Swift received American Music Awards for Best Female Country Artist in 2012, Artist of the Year in 2013,[136][137] and the Nashville Songwriters Association\\'s Songwriter/Artist Award for the fifth and sixth consecutive years.[138] The Red Tour ran from March 2013 to June 2014 and grossed over $150\\xa0million, becoming the highest-grossing country tour ever.[139] Swift was honored with the Pinnacle Award, making her the second recipient of the accolade after Garth Brooks.[140] During this time, she briefly dated English singer Harry Styles.[141]\\nIn 2013, Swift recorded \"Sweeter than Fiction\", a song she wrote and produced with Jack Antonoff for the One Chance soundtrack. The song received a Best Original Song nomination at the 71st Golden Globe Awards.[142] She provided guest vocals for Tim McGraw\\'s song \"Highway Don\\'t Care\", also featuring Keith Urban.[143] Swift performed \"As Tears Go By\" with the Rolling Stones in Chicago, Illinois, as part of the band\\'s 50 & Counting tour,[144] and joined Florida Georgia Line at their set at the 2013 Country Radio Seminar to sing \"Cruise\".[145] Swift voiced Audrey in the animated film The Lorax (2012),[146] made a cameo in the sitcom New Girl (2013),[147] and had a supporting role in the dystopian film The Giver (2014).[148]\\n2014–2018: 1989 and Reputation\\nIn March 2014, Swift began living in New York City.[note 2] She hired Tree Paine as her publicist,[151] and worked on her fifth studio album, 1989, with producers Jack Antonoff, Max Martin, Shellback, Imogen Heap, Ryan Tedder, and Ali Payami.[152] She promoted the album extensively, including inviting fans to secret album-listening sessions.[153] 1989 was released on October 27, 2014, and opened atop the Billboard 200 with 1.28\\xa0million copies sold.[154] Its singles \"Shake It Off\", \"Blank Space\" and \"Bad Blood\" reached number one in Australia, Canada and the US, the first two making Swift the first woman to replace herself at the Hot 100 top spot;[155] other singles include \"Style\", \"Wildest Dreams\", \"Out of the Woods\" and \"New Romantics\".[156] The 1989 World Tour (2015) was the highest-grossing tour of the year with $250\\xa0million in total revenue.[157]\\nPrior to 1989\\'s release, Swift stressed the importance of albums to artists and fans.[158] In November 2014, she removed her entire catalog from Spotify, arguing that the streaming company\\'s ad-supported, free service undermined the premium service, which provides higher royalties for songwriters.[159] In a June 2015 open letter, Swift criticized Apple Music for not offering royalties to artists during the streaming service\\'s free three-month trial period and stated that she would pull 1989 from the catalog.[160] The following day, Apple Inc. announced that it would pay artists during the free trial period,[161] and Swift agreed to let 1989 on the streaming service.[162] She then returned her entire catalog plus 1989 to Spotify, Amazon Music and Google Play and other digital streaming platforms in June 2017.[163] Swift was named Billboard\\'s Woman of the Year in 2014, becoming the first artist to win the award twice.[164] At the 2014 American Music Awards, Swift received the inaugural Dick Clark Award for Excellence.[165] On her 25th birthday in 2014, the Grammy Museum at L.A. Live opened an exhibit in her honor in Los Angeles that ran until October 4, 2015, and broke museum attendance records.[166][167] In 2015, Swift won the Brit Award for International Female Solo Artist.[168] The video for \"Bad Blood\" won Video of the Year and Best Collaboration at the 2015 MTV Video Music Awards.[169] At the 58th Grammy Awards (2016), 1989 won Album of the Year and Best Pop Vocal Album, making Swift the first woman and fifth act overall to win Album of the Year twice.[170]\\nSwift dated Scottish DJ Calvin Harris from March 2015 to June 2016.[171] They co-wrote the song \"This Is What You Came For\", featuring vocals from Barbadian singer Rihanna; Swift was initially credited under the pseudonym Nils Sjöberg.[172] In April 2016, Swift criticized the lyrics of West\\'s single \"Famous\", in which he sings \"I made that bitch famous\" in reference to his interruption of her acceptance speech at the 2009 MTV Video Music Awards. West claimed he had received her approval for the line, and his then-wife Kim Kardashian released video clips of Swift and West discussing the single amicably over the phone; a full recording of the call leaked in 2020 established that West did not disclose that he would call her a bitch.[173][174]\\nAfter briefly dating English actor Tom Hiddleston,[175] Swift entered a six-year relationship with English actor Joe Alwyn in September 2016.[176][177][178] She wrote the song \"Better Man\" for country band Little Big Town,[note 3] which earned her the Song of the Year award at the 51st CMA Awards.[180] Swift and English singer Zayn Malik released the joint single \"I Don\\'t Wanna Live Forever\" for Fifty Shades Darker: Original Motion Picture Soundtrack (2017). The song reached number two in the US.[181] In August 2017, Swift successfully countersued David Mueller, a former radio jockey for KYGO-FM, who sued her for damages from his loss of employment. Four years earlier, she informed Mueller\\'s bosses that he had sexually assaulted her by groping her at an event.[182]\\nAfter a one-year hiatus from the spotlight, Swift cleared her social media accounts and released \"Look What You Made Me Do\" as the lead single from her sixth album, Reputation.[183][184] The single was Swift\\'s first UK number-one single.[185] It topped charts in Australia, Ireland, New Zealand, and the US.[186] Reputation, released on November 10, 2017,[187] incorporated heavy electropop, along with hip hop, R&B, and EDM sounds.[188] Reviews praised Swift\\'s mature artistry, but some denounced the themes of fame and gossip.[189] The album opened atop the Billboard 200 with 1.21\\xa0million sales, making Swift the first act to have four albums sell one million copies in a week in the US.[190] The album topped the charts in the UK, Australia, and Canada,[191] and sold over 4.5\\xa0million copies worldwide as of 2018.[192] It spawned three more singles: \"...Ready for It?\",[193] \"End Game\" (featuring Ed Sheeran and rapper Future) and \"Delicate\".[156] Reputation was nominated for Best Pop Vocal Album at the 61st Annual Grammy Awards in 2019.[194] At the American Music Awards of 2018, Swift won four awards, including Artist of the Year and Favorite Pop/Rock Female Artist. Swift had garnered collected 23 AMAs in her career, becoming the most awarded female musician in the show, surpassing Whitney Houston.[195] In April 2018, Swift featured on country duo Sugarland\\'s \"Babe\".[note 4] She embarked on her Reputation Stadium Tour in 2018.[197] It broke many records, such as the highest-grossing North American concert tour in history with $345.7\\xa0million revenue worldwide.[198] It was followed up with an accompanying concert film on Netflix.[199]\\n2018–2020: Lover, Folklore, and Evermore\\nReputation was Swift\\'s last album under Big Machine. In November 2018, she signed a new deal with the Universal Music Group; her subsequent releases were promoted by Republic Records. Swift said the contract included a provision for her to maintain ownership of her masters. In addition, in the event that Universal sold any part of its stake in Spotify, it agreed to distribute a non-recoupable portion of the proceeds among its artists.[200] Vox called it a huge commitment from Universal, which was \"far from assured\" until Swift intervened.[201]\\nSwift released her seventh studio album, Lover, on August 23, 2019.[202] Besides Jack Antonoff, Swift worked with new producers Louis Bell, Frank Dukes, and Joel Little.[203] Lover made Swift the first female artist to have a sixth consecutive album sell more than 500,000 copies in one week in the US.[204] Critics commended the album\\'s free-spirited mood and emotional intimacy.[205][206] The lead single, \"Me!\", peaked at number two on the Hot 100.[207] Other singles from Lover were the US top 10 singles \"You Need to Calm Down\" and \"Lover\", top 40 single \"The Man\",[56] and \"Cruel Summer\", which became a resurgent success in 2023 and reached number one on the Hot 100.[208] Lover was the world\\'s best-selling album by a solo artist of 2019, selling 3.2\\xa0million copies,[209] and along with its singles earned nominations at the 62nd Annual Grammy Awards in 2020.[210] At the 2019 MTV Video Music Awards, \"Me!\" won Best Visual Effects, and \"You Need to Calm Down\" won Video of the Year and Video for Good. Swift was the first female and second artist overall to win Video of the Year for a video that they directed.[211]\\nWhile promoting Lover, Swift became embroiled in a public dispute with talent manager Scooter Braun and Big Machine over the purchase of the masters of her back catalog.[212] Swift said she had been trying to buy the masters, but Big Machine would only allow her to do so if she exchanged one new album for each older one under a new contract, which she refused to sign.[212][213] Swift began re-recording her back catalog in November 2020.[214] Besides music, she played Bombalurina in the film adaptation of Andrew Lloyd Webber\\'s musical Cats (2019), for which she co-wrote and recorded the Golden Globe-nominated original song \"Beautiful Ghosts\".[215][216] Critics panned the film but praised Swift\\'s performance.[217] The documentary Miss Americana, which chronicled parts of Swift\\'s life and career, premiered at the 2020 Sundance Film Festival and was released on Netflix that January.[218][219] Swift signed a global publishing deal with Universal Music Publishing Group in February 2020 after her 16-year-old contract with Sony/ATV expired.[220]\\nAmidst the COVID-19 pandemic, Swift released two surprise albums: Folklore on July 24, and Evermore on December 11, 2020.[221][222] Both explore indie folk and alternative rock with a more muted production compared to her previous upbeat pop songs.[223][224] Swift wrote and recorded the albums with Jack Antonoff, and Aaron Dessner from The National, as producers.[225] Alwyn co-wrote and co-produced select songs under the pseudonym William Bowery.[226] The albums garnered widespread critical acclaim. The Guardian and Vox opined that Folklore and Evermore emphasized Swift\\'s work ethic and increased her artistic credibility.[227][228] Three singles supported each of the albums, catering the US mainstream radio, country radio, and triple A radio. The singles, in that order, were \"Cardigan\", \"Betty\", and \"Exile\" from Folklore, and \"Willow\", \"No Body, No Crime\", and \"Coney Island\" from Evermore.[229] Swift became the first artist to debut a US number-one album and a number-one song at the same time with Folklore\\'s \"Cardigan\" and Evermore\\'s \"Willow\".[230] Folklore was 2020\\'s best-selling album in the US with 1.2\\xa0million copies.[231] It won Album of the Year at the 63rd Annual Grammy Awards, making Swift the first woman to win the award three times.[232] At the 2020 American Music Awards, she won three awards, including Artist of the Year for a record third consecutive time.[233] According to Billboard, she was 2020\\'s highest-paid musician in the US, and the world\\'s highest-paid solo musician.[234]\\n2021–present: Re-recordings, Midnights, and the Eras Tour\\nFollowing the masters dispute, Swift released re-recordings of her first six studio albums, beginning with Fearless (Taylor\\'s Version) and Red (Taylor\\'s Version) in April and November 2021, respectively. Both releases peaked atop the Billboard 200,[235] becoming the first ever re-recorded albums to do so.[236] Fearless (Taylor\\'s Version) was preceded by \"Love Story (Taylor\\'s Version)\", which made her the second artist after Dolly Parton to have both the original and re-recorded versions of a song reach number one on the Hot Country Songs chart.[237] Red (Taylor\\'s Version) was supported by \"All Too Well (10 Minute Version)\", which became the longest song in history to top the Hot 100.[238] The song was accompanied by a short film, which won a Grammy Award for Best Music Video[239] and Swift\\'s record third MTV Video Music Award for Video of the Year.[240]\\nSwift\\'s tenth studio album, Midnights, was released on October 21, 2022.[241] Characterized by an understated electropop[242][243] and synth-pop[244] sound, the album was dubbed by Rolling Stone critics as an instant classic.[245][246] The album was her fifth to open atop the Billboard 200 with first-week sales of over one million copies and broke various sales and streaming records,[247] including the most single-day streams and most single-week streams on Spotify.[248] Its tracks, led by single \"Anti-Hero\", monopolized the top 10 of the Hot 100, making Swift the first artist to do so.[249] Two other singles, \"Lavender Haze\" and \"Karma\", peaked at number two on the Hot 100.[250] Swift won nine awards at the 2023 MTV Video Music Awards, including Video of the Year (\"Anti-Hero\") for a record fourth time,[251] and received six nominations at the 66th Annual Grammy Awards, including a record seventh for Song of the Year (\"Anti-Hero\").[127]\\nIn March 2023, Swift embarked on the Eras Tour, a retrospective tour covering all her 10 studio albums. Media outlets extensively covered the tour\\'s cultural and economic impact,[252] and its US leg broke the record for the most tickets sold in a day.[249] Ticketmaster received public and political criticisms for mishandling the tour\\'s ticket sales.[253] The Eras Tour became the highest-grossing tour in history, collecting over $1 billion; its concert film, released to theaters worldwide on October 13, 2023, became the highest-grossing concert film ever, with over $250 million earned worldwide, and was nominated for the Golden Globe Award for Cinematic and Box Office Achievement.[254][255][256]\\nSwift continued releasing her re-recorded albums during the Eras Tour. Speak Now (Taylor\\'s Version), released on July 7, 2023, made Swift the woman with the most number-one albums (12) in Billboard 200 history, surpassing Barbra Streisand.[257] 1989 (Taylor\\'s Version), released on October 27, 2023, became Swift\\'s record-extending sixth album to sell one million copies in a single week in the US.[258] and the best-selling album of 2023. It surpassed Midnights for her career\\'s largest album sales week.[258] Its single \"Is It Over Now?\" debuted atop the Billboard Hot 100, replacing her own \"Cruel Summer\".[259] Swift\\'s music releases, touring, and related activities culminated in an unprecedented height of popularity post-pandemic.[260] Music Business Worldwide remarked that she entered a \"new stratosphere of global career success\" in 2023.[261] Swift was the most streamed artist of 2023 on Spotify,[262] Apple Music,[263] and Amazon Music,[264] the first act to place number one on the year-end Billboard top artists list in three different decades (2009, 2015 and 2023),[265] and the first living artist to simultaneously chart five albums in the top 10 of the Billboard 200.[266]\\nBeyond her albums, Swift featured on five songs from 2021 to 2023: \"Renegade\" and \"Birch\" by Big Red Machine,[267] a remix of \"Gasoline\" by Haim,[268] \"The Joker and the Queen\" by Ed Sheeran,[269] and \"The Alcott\" by the National.[270] For the soundtrack of the 2022 film Where the Crawdads Sing, she recorded \"Carolina\", which received nominations for Best Original Song at the Golden Globes and Best Song Written for Visual Media at the Grammy Awards.[271] Outside of music, Swift had a supporting role in the 2022 period comedy film Amsterdam and has signed to direct an upcoming feature film for Searchlight Pictures.[272][273] She began dating American football player Travis Kelce in 2023.[274]\\nArtistry\\nInfluences\\nOne of Swift\\'s earliest memories of music is listening to her maternal grandmother, Marjorie Finlay, sing in church.[5] As a child, she enjoyed Disney film soundtracks: \"My parents noticed that, once I had run out of words, I would just make up my own.\"[275] Swift said she owes her confidence and \"fascination with writing and storytelling\" to her mother, who helped her prepare for class presentations as a child.[276][277]\\nSwift was drawn to the storytelling aspect of country music,[278] introduced to the genre by female country artists of the 1990s: Shania Twain, Faith Hill, and the Dixie Chicks.[279][280] Twain, both as a songwriter and performer, was her biggest musical influence.[281] Hill was Swift\\'s childhood role model, as she would often imitate her.[282] She admired the Chicks\\' defiant attitude and ability to play their own instruments,[283] and was also influenced by older country stars like Patsy Cline, Loretta Lynn, Tammy Wynette, and Dolly Parton,[23] the last of whom she believes is exemplary to female songwriters.[113] As a songwriter, Swift was influenced by Joni Mitchell\\'s emotional and autobiographical lyrics, highlighting Mitchell\\'s album Blue as a favorite \"because it explores somebody\\'s soul so deeply\".[284] She also spoke of influence from 1990s songwriters such as Melissa Etheridge, Sarah McLachlan, and Alanis Morissette,[285][286] and alt-country artists like Patty Griffin[287] and Lori McKenna.[288]\\nVarious pop and rock artists have also influenced Swift. She lists Paul McCartney, Bruce Springsteen, Emmylou Harris, and Kris Kristofferson as her career role models.[11][289] 1989 was influenced by some of her favorite 1980s pop acts, including Peter Gabriel, Annie Lennox, Phil Collins, and Madonna.[290][291] She also cited Keith Urban\\'s musical style and Fall Out Boy\\'s lyrics as major influences.[292][293]\\nGenres\\n\"If there\\'s one thing that Swift has proven throughout her career, it\\'s that she refuses to be put in a box. Her ever-evolving sound took her from country darling to pop phenom to folk\\'s newest raconteur.\"\\n—The Recording Academy, 2021[294]\\nSwift is known for venturing into various music genres and undergoing artistic reinventions,[295][273] having been described as a \"music chameleon\".[296][297] She self-identified as a country musician until 2012, when she released her fourth studio album, Red.[298] Her albums were promoted to country radio, but music critics noted wide-ranging styles of pop and rock.[299][300] After 2010, they observed that Swift\\'s melodies are rooted in pop music, and the country music elements are limited to instruments such as banjo, mandolin, and fiddle, and her slight twang;[301][302] some commented that her country music identity was an indicator of her narrative songwriting rather than musical style.[303][304] Although the Nashville music industry was receptive of Swift\\'s status as a country musician, critics accused her of abandoning her roots in favor of crossover success in the mainstream pop market.[305][306] Red\\'s eclectic pop, rock, and electronic styles intensified the critical debate, to which Swift responded, \"I leave the genre labeling to other people.\"[307]\\nMusic journalist Jody Rosen commented that by originating her musical career in Nashville, Swift made a \"bait-and-switch maneuver, planting roots in loamy country soil, then pivoting to pop\".[308] She abandoned her country music identity in 2014 with the release of her synth-pop fifth studio album, 1989. Swift described it as her first \"documented, official pop album\".[309] Her subsequent albums Reputation (2017) and Lover (2019) have an upbeat pop production; the former incorporates hip hop, trap, and EDM elements.[310][311][312] Midnights (2022), on the other hand, is distinguished by a more experimental, \"subdued and amorphous pop sound\".[313][314] Although reviews of Swift\\'s pop albums were generally positive, some critics lamented that the pop music production indicated Swift\\'s pursuit of mainstream success, eroding her authenticity as a songwriter nurtured by her country music background—a criticism that has been retrospectively described as rockist.[315][316] Musicologist Nate Sloan remarked that Swift\\'s pop music transition was rather motivated by her need to expand her artistry.[317] Swift eschewed mainstream pop in favor of alternative, folk and indie rock styles with her 2020 studio albums Folklore and Evermore.[318][319] Clash said her career \"has always been one of transcendence and covert boundary-pushing\", reaching a point at which \"Taylor Swift is just Taylor Swift\", not defined by any genre.[320]\\nVoice\\nSwift possesses a mezzo-soprano vocal range,[323] and a generally soft but versatile timbre.[324][325] As a country singer, her vocals were criticized by some as weak and strained compared to those of her contemporaries.[326] Swift admitted her vocal ability often concerned her in her early career and has worked hard to improve.[327] Reviews of her vocals remained mixed after she transitioned to pop music with 1989; critics complained that she lacked proper technique but appreciated her usage of her voice to communicate her feelings to the audience, prioritizing \"intimacy over power and nuance\".[328] They also praised her for refraining from correcting her pitch with Auto-Tune.[329]\\nThe Los Angeles Times remarked that Swift\\'s defining vocal feature is her attention to detail to convey an exact feeling—\"the line that slides down like a contented sigh or up like a raised eyebrow\".[330] With Reputation, critics noted she was \"learning how to use her voice as a percussion instrument of its own\",[331] swapping her \"signature\" expressive vocals for \"cool, conversational, detached\" cadences and rhythms similar to hip hop and R&B styles.[332][333][334] Alternative Press stated that her \"evocative\" vocal stylings are more reminiscent of pop-punk and emo genres.[335]\\nReviews of Swift\\'s later albums and performances were more appreciative of her vocals, finding them less nasal, richer, more resonant, and more powerful.[302][336][337] With Folklore and Evermore, Swift received praise for her sharp and agile yet translucent and controlled voice.[338][339][340] Pitchfork described it as \"versatile and expressive\".[341] With her 2021 re-recorded albums, critics began to praise the mature, deeper and \"fuller\" tone of her voice.[342][343][344] An i review said Swift\\'s voice is \"leagues better now\" with her newfound vocal furniture.[345] The Guardian highlighted \"yo-yoing vocal yelps\" and passionate climaxes as the trademarks of Swift\\'s voice,[346] and that her country twang faded away.[347] Midnights received acclaim for Swift\\'s nuanced vocal delivery.[348] She ranked 102nd on the 2023 Rolling Stone list of the 200 Greatest Singers of All Time.[325] In a review of the Eras Tour, The New Yorker critic Amanda Petrusich praised the clarity and tone of Swift\\'s live vocals.[349] Musicologist Alyssa Barna said that Swift\\'s timbre is \"breathy and bright\" in her upper register and \"full and dark\" in the lower.[224]\\nSongwriting\\nSwift has been referred to as one of the greatest songwriters ever by several publications.[350][351][352] English-language scholars like Jonathan Bate and Stephanie Burt have noted that her literary and melodic sensibility and verbal writing style are rare amongst her peers.[353][354] Swift\\'s bridges are often underscored as one of the best aspects of her songs,[355][356] earning her the title \"Queen of Bridges\" from Time.[357] Mojo described her as \"a sharp narrator with a gift for the extended metaphor\".[358]\\nIn The New Yorker in 2011, Swift said she identifies as a songwriter first: \"I write songs, and my voice is just a way to get those lyrics across\".[11] Her personal experiences were a common inspiration for her early songs, which helped her navigate life.[359][360] Her \"diaristic\" technique began with identifying an emotion, followed by a corresponding melody.[361][362] On her first three studio albums, love, heartbreak, and insecurities, from an adolescent perspective, were dominant themes.[363][364] She delved into the tumult of toxic relationships on Red,[365] and embraced nostalgia and post-romance positivity on 1989.[290] Reputation was inspired by the downsides of Swift\\'s fame,[366] and Lover detailed her realization of the \"full spectrum of love\".[367] Other themes in Swift\\'s music include family dynamics, friendship,[368][369] alienation, self-awareness, and tackling vitriol, especially sexism.[277][370]\\nHer confessional lyrics received positive reviews from critics,[371][11][372] who highlighted their vivid details and emotional engagement, which they found uncommon in pop music.[373][374][375] Critics also praised her melodic compositions; Rolling Stone described Swift as \"a songwriting savant with an intuitive gift for verse-chorus-bridge architecture\".[376][377] NPR dubbed Swift \"a master of the vernacular in her lyrics\",[333] remarking that her songs offer emotional engagement because \"the wit and clarity of her arrangements turn them from standard fare to heartfelt disclosures\".[377] Despite the positive reception, The New Yorker stated she was generally portrayed \"more as a skilled technician than as a Dylanesque visionary\".[11] Tabloid media often speculated and linked the subjects of her songs with her ex-lovers, a practice reviewers and Swift herself criticized as sexist.[378][379][380] Aside from clues in album liner notes, Swift avoided talking about the subjects of her songs.[381]\\nOn her 2020 albums Folklore and Evermore, Swift was inspired by escapism and romanticism to explore fictional narratives.[382] Without referencing her personal life, she imposed emotions onto imagined characters and story arcs, which liberated her from tabloid attention and suggested new paths for her artistry.[361] Swift explained that she welcomed the new songwriting direction after she stopped worrying about commercial success.[382] According to Spin, she explored complex emotions with \"precision and devastation\" on Evermore.[383] Consequence stated her 2020 albums convinced skeptics of her songwriting prowess, noting her transformation from \"teenage wunderkind to a confident and careful adult\".[356]\\nSwift divides her writing into three types: \"quill lyrics\", referring to songs rooted in antiquated poeticism; \"fountain pen lyrics\", based on modern and vivid storylines; and \"glitter gel pen lyrics\", which are lively and frivolous.[384] Critics note the fifth track of every Swift album as the most \"emotionally vulnerable\" song of the album.[385] Awarding her with the Songwriter Icon Award in 2021, the National Music Publishers\\' Association remarked that \"no one is more influential when it comes to writing music today\" than Swift.[386] The Week deemed her the foremost female songwriter of modern times,[387] and the Nashville Songwriters Association International named her Songwriter-Artist of the Decade in 2022.[249] Swift has also published two original poems: \"Why She Disappeared\" and \"If You\\'re Anything Like Me\".[388]\\nPerformances\\nJournalists have described Swift as one of the all-time great live performers. Often praised for her showmanship and stage presence,[389][390][391][392][393] Swift is known for her ability to command large audiences, such as in a stadium,[394][395][396] without having to rely fully on dance like her contemporaries do.[397] According to V magazine\\'s Greg Krelenstein, she possesses \"a rare gift of turning a stadium spectacle into an intimate setting\", irrespective of whether she is \"plucking a guitar or leading an army of dancers\".[398]\\nIn a 2008 review of Swift\\'s early performances, Sasha Frere-Jones of The New Yorker called Swift a \"preternaturally skilled\" entertainer with a vibrant stage presence, adding \"she returned the crowd\\'s energy with the professionalism she has shown since the age of fourteen.\"[399] In 2023, Adrian Horton of The Guardian noted her \"seemingly endless stamina\" on the Eras Tour,[400] and i critic Ilana Kaplan called her showmanship \"unparalleled\".[401]\\nCritics have highlighted Swift\\'s versatility as an entertainer, praising her ability to switch onstage personas and performance styles depending on the varying themes and aesthetics of her albums.[402][403] Her concert productions have been characterized by elaborate Broadway theatricality and high technology,[404] and her performances frequently incorporate a live band, with whom she has played and toured since 2007.[405] Swift also often accompanies herself with musical instruments such as electric guitar;[406] acoustic guitar; piano;[407] and sometimes twelve-string guitar,[408][409] banjo,[410] or ukulele.[411] Interacting frequently with the audience, her solo acoustic performances are considered intimate and emotionally resonant, complementing her story-based lyrics and fan connection.[349][412] Lydia Burgham of The Spinoff opined that this intimacy remains \"integral to her singer-songwriter origins\".[413][407] Chris Willman of Variety called Swift \"pop\\'s most approachable superstar\",[414] and the 21st century\\'s most popular performer.[415]\\nVideo and film\\nSwift emphasizes visuals as a key creative component of her music making process.[416] She has collaborated with different directors to produce her music videos, and over time she has become more involved with writing and directing. She developed the concept and treatment for \"Mean\" in 2011[417] and co-directed the music video for \"Mine\" with Roman White the year before.[418] In an interview, White said that Swift \"was keenly involved in writing the treatment, casting and wardrobe. And she stayed for both the 15-hour shooting days, even when she wasn\\'t in the scenes.\"[419]\\nFrom 2014 to 2018, Swift collaborated with director Joseph Kahn on eight music videos—four each from her albums 1989 and Reputation. Kahn has praised Swift\\'s involvement in the craft.[420] She worked with American Express for the \"Blank Space\" music video (which Kahn directed), and served as an executive producer for the interactive app AMEX Unstaged: Taylor Swift Experience, for which she won a Primetime Emmy Award for Outstanding Interactive Program in 2015.[421] Swift produced the music video for \"Bad Blood\" and won a Grammy Award for Best Music Video in 2016.[422]\\nHer production company, Taylor Swift Productions, is credited with producing all of her visual media starting with the 2018 concert documentary Reputation Stadium Tour.[423] She continued to co-direct music videos for the Lover singles \"Me!\" with Dave Meyers, and \"You Need to Calm Down\" (also serving as a co-executive producer) and \"Lover\" with Drew Kirsch,[424] but first ventured into sole direction with the video for \"The Man\" (which won her the MTV Video Music Award for Best Direction).[425] After Folklore: The Long Pond Studio Sessions, Swift debuted as a filmmaker with All Too Well: The Short Film,[249] which made her the first artist to win the Grammy Award for Best Music Video as a sole director.[426] Swift has cited Chloé Zhao, Greta Gerwig, Nora Ephron, Guillermo del Toro, John Cassavetes, and Noah Baumbach as her filmmaking influences.[416]\\nAchievements\\nSwift\\'s discography is a \"critically hailed songbook\", as per Time\\'s Sam Lansky.[427] She has won 12 Grammy Awards (including three for Album of the Year—tying for the most by an artist),[428] an Emmy Award,[429] 40 American Music Awards (the most won by an artist),[430] 39 Billboard Music Awards (the most won by an artist—tying with Drake),[431] 117 Guinness World Records,[432] 23 MTV Video Music Awards (including four Video of the Year wins—the most by an act),[251] 12 Country Music Association Awards (including the Pinnacle Award),[433] eight Academy of Country Music Awards,[434] and two Brit Awards.[168] As a songwriter, she has been honored by the Nashville Songwriters Association,[62][435] the Songwriters Hall of Fame, and the National Music Publishers\\' Association and was the youngest person on Rolling Stone\\'s list of the 100 Greatest Songwriters of All Time in 2015.[436][437] At the 64th BMI Awards in 2016, Swift was the first woman to be honored with an award named after its recipient.[438]\\nCommercially, from available data, Swift has amassed over 50\\xa0million album sales and 150\\xa0million single sales as of 2019,[439][440][441] and 114\\xa0million units globally, including 78\\xa0billion streams as of 2021.[442][443] The International Federation of the Phonographic Industry (IFPI) ranked her as the Global Recording Artist of the Year for a record three times (2014, 2019 and 2022).[444] Swift has the most number-one albums in the United Kingdom and Ireland for a female artist this millennium,[445][446] earned the highest income for an artist on Chinese digital music platforms (RMB\\xa0159,000,000 as of 2021),[447] and is the first artist to replace themselves at the top spot and occupy the entire top five of the Australian albums chart.[448][449] Swift remains the world\\'s highest-grossing female touring act ever, with cumulative ticket sales at $1.96 billion as of November 2023 according to Pollstar.[450] The Eras Tour is the highest-grossing tour of all time as of December 2023, and the first to surpass $1 billion in revenue.[451] Beginning with Fearless, each of her studio albums have opened with over one million global units.[452][453] Swift is the most streamed female act on Spotify and Apple Music.[454][455] On Spotify, she is the only artist to have received more than 200 and 250 million streams in one day (260 million on October 27, 2023),[456] and the only female act to reach 100 million monthly listeners.[238] The most entries and the most simultaneous entries for an artist on the Billboard Global 200, with 143 and 31 songs, respectively, are among her feats.[457][458]\\nIn the US, Swift has sold over 37.3\\xa0million albums as of 2019,[441] when Billboard placed her eighth on its Greatest of All Time Artists Chart.[459] Eleven of her songs have topped the Billboard Hot 100.[259] She is the longest-reigning act of the Billboard Artist 100 (91 weeks);[460] the soloist with the most cumulative weeks atop the Billboard 200 (68);[461] the woman with the most Billboard 200 number-ones (13),[238] Hot 100 entries (232),[238][156] top-ten songs (49),[259] and weeks atop the Top Country Albums chart (101);[462] and the act with the most number-one songs on Pop Airplay (12) and Digital Songs (28).[463][464] Swift is the first woman to simultaneously chart five albums in the top 10 and eleven albums on the entire Billboard 200;[465][466] and the first act to occupy the top four spots on the Top Album Sales chart.[467] She is the second highest-certified female digital singles artist (and fifth overall) in the US, with 137.5\\xa0million total units certified by the Recording Industry Association of America (RIAA),[468] and the first woman to have both an album (Fearless) and a song (\"Shake It Off\") certified Diamond.[469] Swift is the only artist in Luminate Data history to have six albums sell over a million copies in a week.[470]\\nSwift has appeared in various power listings. Time included her on its annual list of the 100 most influential people in 2010, 2015, and 2019.[471] She was one of the \"Silence Breakers\" that the magazine spotlighted as Person of the Year in 2017 for speaking up about sexual assault,[472] and received the honor again in 2023 for her cultural domination that year.[427] Time described Swift as the first Person of the Year to be recognized for \"achievement in the arts\", as well as the first woman to be recognized and appear on a Person of the Year cover more than once.[473][474] In 2014, she was named to Forbes\\' 30 Under 30 list in the music category[475] and again in 2017 in its \"All-Star Alumni\" category.[476] Swift became the youngest woman to be included on Forbes\\' list of the 100 most powerful women in 2015, ranked at number 64.[477] In 2023, she was ranked by Forbes as the fifth-most powerful woman in the world, the first entertainer to ever place in the top five.[478][479] Swift received an honorary Doctor of Fine Arts degree from New York University and served as its commencement speaker on May 18, 2022.[249]\\nCultural status\\nSwift has been credited with making a profound impact on the music industry, popular culture and the economy.[480][481] She dominates cultural conversations,[482][483] which has led publications to describe her as a cultural \"vitality\" or zeitgeist.[484][485][486] Her music, life and public image are points of attention in global celebrity culture.[295] Initially a teen idol,[487] she has been referred to as a pop icon;[310][488] publications describe her immense popularity and longevity as a kind of fame unwitnessed since the 20th century.[489][490] In 2013, New York magazine\\'s Jody Rosen dubbed Swift the \"world\\'s biggest pop star\" and opined that the trajectory of her stardom has defied established patterns. Rosen added that Swift \"falls between genres, eras, demographics, paradigms, trends\", leaving her contemporaries \"vying for second place\".[308] Critics regard Swift as a rare yet successful combination of the pop star and singer-songwriter archetypes.[491]\\nHer fans are known as Swifties.[253] Billboard noted only few artists have had her chart success, critical acclaim, and fan support.[492] Swift\\'s million-selling albums are considered an anomaly in the streaming-dominated industry following the end of the album era in the 2010s.[493][494] Economist Alan Krueger described Swift as an \"economic genius\".[495]\\nAlthough labeled by the media in her early career as \"America\\'s Sweetheart\" for her girl next door persona,[496][497] Swift has been accused by detractors of being \"calculated\" and manipulative of her image, a narrative bolstered by her 2016 dispute with West.[173][174] Critics have also noted that her personal life and career have been subject to intense misogyny and \"slut-shaming\",[498][499] as well as a topic of rampant media scrutiny and tabloid speculation.[500] She has been a victim of numerous house break-ins and stalkers, some of whom were armed.[501][502]\\nLegacy\\n\"You have different artists dominating different sectors of the industry: Some are huge at streaming, some are big draws on the road. But we\\'re at this moment where there\\'s no one better than Taylor Swift, whether that\\'s on the radio, with streaming, ticket sales or just cultural impact.\"\\n– Jason Lipshutz, Billboard executive director, 2023[503]\\nSwift helped shape the modern country music scene,[504] having extended her success beyond the Anglosphere,[308][504] pioneered the use of internet (Myspace) as a marketing tool,[32][52] and introduced the genre to a younger generation.[505][308] Country labels have since become interested in signing young singers who write their own music;[506] her guitar performances contributed to the \"Taylor Swift factor\", a phenomenon to which an upsurge in guitar sales to women, a previously ignored demographic, is attributed.[507][508]\\nAccording to publications, Swift changed the music landscape with her genre transitions, a discography that accommodates cultural shifts,[509] and her ability to popularize any sound in mainstream music.[510] Lyrically, in being personal and vulnerable in her songs, music journalist Nick Catucci opined Swift helped make space for later singers like Billie Eilish, Ariana Grande, and Halsey to do the same.[511] Scholars have highlighted the literary sensibility and poptimist implications of Swift in the 21st century.[353][512] She has been credited with legitimizing and popularizing the concept of album \"eras\".[513][514] Swift is a subject of academic study and scholarly media research.[295] Various educational institutions offer courses on Swift in literary, cultural and sociopolitical contexts.[515][295]\\nSwift has influenced numerous music artists, and her albums have inspired an entire generation of singer-songwriters.[505][318][516] Journalists praise her ability to reform industry practices, noting how her actions changed streaming policies, prompted awareness of intellectual property in new musicians,[517][518] and reshaped ticketing models.[519] Various sources deem Swift\\'s music a paradigm representing the millennial generation;[520] Vox called her the \"millennial Bruce Springsteen\",[521] and The Times named her \"the Bob Dylan of our age\".[522] Swift earned the title Woman of the Decade (2010s) from Billboard,[523] Artist of the Decade (2010s) at the American Music Awards,[524] and Global Icon at the Brit Awards for her impact.[443] Senior artists such as McCartney,[525] Mick Jagger,[526] Madonna,[527] and Parton have praised her musicianship.[528] Carole King regards Swift her \"professional grand daughter\" and thanked Swift for \"carrying the torch forward\".[529] Springsteen called her a \"tremendous\" writer,[530] while Ringo Starr and Billy Joel considered Swift the Beatles\\' successor.[531][532] Britney Spears labeled Swift \"the most iconic pop woman of our generation\".[533]\\nEntrepreneurship\\nMedia outlets describe Swift as a savvy businesswoman.[534][535] She is also known for her traditional album rollouts, consisting of a variety of promotional activities that Rolling Stone termed as an inescapable \"multimedia bonanza\".[536][537] Easter eggs and cryptic teasers became a common practice in contemporary pop music because of Swift.[538] Publications describe her discography as a music \"universe\" subject to analyses by fans, critics and journalists.[539][540][541] Swift maintains an active presence on social media and a close relationship with fans, to which many journalists attribute her success.[542][481][543] Her in-house management team is called 13 Management.[544]\\nSwift has endorsed many brands and businesses, such as having launched clothing lines with L.E.I. and Stella McCartney,[545][546] designed American Greetings cards and Jakks Pacific dolls, [547][548] released a number of fragrances with Elizabeth Arden,[549] and signed multi-year deals with AT&T and Capital One.[550][551] She was a spokesperson for the National Hockey League\\'s Nashville Predators and Sony Cyber-shot digital cameras,[552][553] and became the global ambassador for New York City in 2014 and the Record Store Day in 2022.[554][555]\\nSocial activism\\nSwift identifies as a pro-choice feminist,[556] and is one of the founding signatories of the Time\\'s Up movement against sexual harassment.[557] She criticized the US Supreme Court\\'s decision to end federal abortion rights in 2022.[558] Swift also advocates for LGBT rights,[559] and has called for the passing of the Equality Act, which prohibits discrimination based on sex, sexual orientation, and gender identity.[560][561] She performed during WorldPride NYC 2019 at the Stonewall Inn, a gay rights monument, and has donated to the LGBT organizations Tennessee Equality Project and GLAAD.[562][563][564]\\nA supporter of the March for Our Lives movement and gun control reform in the US,[565] Swift is a vocal critic of white supremacy, racism, and police brutality.[566][556] Following the George Floyd protests, she donated to the NAACP Legal Defense and Educational Fund and the Black Lives Matter movement,[567] called for the removal of Confederate monuments in Tennessee,[568] and advocated for Juneteenth to become a national holiday.[569] In 2020, Swift urged her fans to check their voter registration ahead of elections, which resulted in 65,000 people registering to vote within one day of her post,[570] and endorsed Joe Biden and Kamala Harris in the US presidential election.[571] She has openly criticized former president Donald Trump.[572]\\nWealth\\nSwift\\'s net worth is estimated by Forbes and Bloomberg News at $1.1 billion as of October 2023, making her the first musician to achieve billionaire status \"solely based on her songs and performances\".[573][574] Forbes named her the annual top-earning female musician four times (2016, 2019, 2021, and 2022).[575] She was the highest-paid celebrity of 2016 with $170\\xa0million—a feat recognized by the Guinness World Records as the highest annual earnings ever for a female musician,[576] which she herself surpassed with $185\\xa0million in 2019.[577] Overall, Forbes listed Swift as the highest-paid female artist of the 2010s, earning $825\\xa0million.[578] She has also developed a real estate portfolio worth $150\\xa0million as of 2023, with properties in Nashville; Tribeca, Manhattan; Los Angeles (Samuel Goldwyn Estate); and Rhode Island (High Watch).[579]\\nPhilanthropy\\nSwift is known for her philanthropic efforts.[580] She ranked number one on DoSomething\\'s 2015 \"Gone Good\" list,[581] having received the Star of Compassion from the Tennessee Disaster Services and the Big Help Award from the Nickelodeon Kids\\' Choice Awards for her \"dedication to helping others\" and \"inspiring others through action\".[582][583] She donated $100,000 to the Red Cross to help the victims of the Iowa flood of 2008.[584] In 2009, she sang at BBC\\'s Children in Need concert and raised £13,000 for the cause.[585] Swift has performed at charity relief events, including Sydney\\'s Sound Relief concert.[586] In response to the May 2010 Tennessee floods, Swift donated $500,000 during a telethon hosted by WSMV.[587] In 2011, Swift used a dress rehearsal of her Speak Now tour as a benefit concert for victims of recent tornadoes in the US, raising more than $750,000.[588] In 2016, she donated $1\\xa0million to Louisiana flood relief efforts and $100,000 to the Dolly Parton Fire Fund.[589][590] Swift donated to food banks after Hurricane Harvey struck Houston in 2017 and at every stop of the Eras Tour in 2023;[591][592] she also directly employed local businesses throughout the tour and gave $55 million in bonus payments to her entire crew.[593][594] Swift donated $1\\xa0million for Tennessee tornado relief in 2020 and again in 2023.[595][596]\\nShe is a supporter of the arts. A benefactor of the Nashville Songwriters Hall of Fame,[597] Swift has donated $75,000 to Nashville\\'s Hendersonville High School to help refurbish the school auditorium,[598] $4\\xa0million to fund the building of a new education center at the Country Music Hall of Fame and Museum in Nashville,[599] $60,000 to the music departments of six US colleges,[600] and $100,000 to the Nashville Symphony.[601] Also a promoter of children\\'s literacy, she has donated money and books to various schools around the country to improve education.[602][603] In 2007, Swift partnered with the Tennessee Association of Chiefs of Police to launch a campaign to protect children from online predators.[604] She has donated items to several charities for auction, including the UNICEF Tap Project and MusiCares.[605] As recipient of the Academy of Country Music\\'s Entertainer of the Year in 2011, Swift donated $25,000 to St. Jude Children\\'s Research Hospital, Tennessee.[606] In 2012, Swift participated in the Stand Up to Cancer telethon, performing the charity single \"Ronan\", which she wrote in memory of a four-year-old boy who died of neuroblastoma.[607] She has also donated $100,000 to the V Foundation for Cancer Research[608] and $50,000 to the Children\\'s Hospital of Philadelphia.[609] Swift has encouraged young people to volunteer in their local communities as part of Global Youth Service Day.[610]\\nSwift donated to fellow singer-songwriter Kesha to help with her legal battles against Dr. Luke and to actress Mariska Hargitay\\'s Joyful Heart Foundation organization.[580][611] During the COVID-19 pandemic, Swift donated to the World Health Organization and Feeding America,[612] and supported independent record stores.[613][614] Swift performed \"Soon You\\'ll Get Better\" on the One World: Together At Home television special, a benefit concert curated by Lady Gaga for Global Citizen to raise funds for the World Health Organization\\'s COVID-19 Solidarity Response Fund.[615] In 2018 and 2021, Swift donated to the Rape, Abuse & Incest National Network in honor of Sexual Assault Awareness and Prevention Month.[580][616] In addition to charitable causes, she has made donations to her fans several times for their medical or academic expenses.[617] In December 2023, Swift attended Ramy Youssef\\'s fundraiser for Gaza.[618]\\nDiscography\\nStudio albums\\nRe-recorded albums\\nFilmography\\nDocumentary and concert films\\nTours\\nSee also\\nFootnotes\\nReferences\\nCited literature\\nExternal links'},\n",
       " {'url': 'https://www.biography.com/musicians/taylor-swift',\n",
       "  'raw_content': 'Taylor Swift\\nTwelve-time Grammy winner Taylor Swift made a splash in the country music world in 2006 and is now one of the biggest pop music stars.\\nWe may earn commission from links on this page, but we only recommend products we back.\\nTaylor Swift News: Golden Globe–Nominated Eras Tour Concert Movie Is Now Streaming\\nNewly minted 34-year-old Taylor Swift has a lot to celebrate. The pop star and Time’s 2023 Person of the Year released Taylor Swift: The Eras Tour (Extended Version) for streaming on December 13—her birthday. The movie is available for rent on major streaming platforms, including Amazon Prime Video and Apple TV+. It includes performances of three songs—“Long Live,” “The Archer,” and “Wildest Dreams”—that didn’t make the theatrical cut.\\nOn Monday, the 12-time Grammy winner notched her first Golden Globe Award nomination for the movie, which smashed the record for highest-grossing concert film of all time. The Eras Tour is competing in the new Cinematic and Box Office Achievement category alongside some of this year’s biggest blockbusters including Greta Gerwig’s Barbie, The Super Mario Bros. Movie, and Christopher Nolan’s Oppenheimer. The award recognizes excellence among movies that earned at least $150 million, including $100 million domestically. The 2024 Golden Globes are on January 7.\\nRent Taylor Swift: The Eras Tour (Extended Version) on Amazon Prime Video or Apple TV+.\\nSwift’s ongoing Eras Tour, which restarts in February for its mostly international leg, has already earned more than $1 billion, according to the concert trade publication Pollstar. She is the first musician to ever accomplish this feat, topping Elton John’s previous record for his Farewell Yellow Brick Road Tour.\\nJump to:\\nWho Is Taylor Swift?\\nMusician Taylor Swift began earning renown as a country singer by age 16. Early hits like “Love Story” and “You Belong With Me” appealed to country and pop fans alike and helped fuel the multiplatinum success of her albums, including the award-winning Fearless. Now a pop megastar with 12 Grammys to her name, the “Shake It Off” and “Anti-Hero” singer released her latest studio album, Midnights, one year ago and shared her rerecorded 1989 (Taylor’s Version) album this October. Named Time’s 2023 Person of the Year, Swift is currently performing on her record-breaking Eras Tour and is dating professional football player Travis Kelce.\\nQuick Facts\\nFULL NAME: Taylor Alison SwiftBORN: December 13, 1989BIRTHPLACE: Reading, PennsylvaniaASTROLOGICAL SIGN: Sagittarius\\nWhere Is Taylor Swift From?\\nTaylor Alison Swift was born on December 13, 1989, in Reading, Pennsylvania. Swift spent her early years with her parents, Scott and Andrea, and brother, Austin, on the family’s Christmas tree farm in nearby Wyomissing. “I had the most magical childhood, running free and going anywhere I wanted to in my head,” she told Rolling Stone. She learned to ride horses and even competed for a time, but a greater passion soon took root.\\nSwift followed in the musical footsteps of her grandmother Marjorie Finlay, who was a professional opera singer. By age 10, Swift was singing at a variety of local events, including fairs and contests. She sang “The Star-Spangled Banner” at a Philadelphia 76ers basketball game at age 11 and began writing her own songs and learning guitar at 12 years old. Her early music idols included Shania Twain and The Chicks.\\nTo pursue her music career, Swift often visited Nashville, Tennessee, the country music capital. There, she cowrote songs and tried to land a recording contract. Noting her dedication, her family moved to nearby Hendersonville when she was 13 in an attempt to further young Swift’s career. She attended Hendersonville High School before finishing out her education through the home schooling program of Aaron Academy, a private Christian school, once her musical career took off.\\nMusic Career\\nOne of today’s biggest pop stars, Swift has worked her way from performing at local venues in Tennessee to commanding stadiums full of Swifties—her adoring fans—on international tours. A stellar performance at The Bluebird Café in Nashville helped her get a contract with Scott Borchetta’s Big Machine Records at age 14.\\nShe spent her early career as a country musician, and her first single, “Tim McGraw,” was named after one of the genre’s biggest stars. The 2006 song, which she wrote in her freshman year math class, became a Top 10 hit on Billboard’s country chart, quickly launching Swift into the spotlight. McGraw and fellow country music singer Faith Hill even brought Swift on their Soul2Soul tour the next year as an opening act. Reminiscing on the tour years later, McGraw told ET Canada, “Faith and I both knew that there was no stopping her. She’s a special talent.”\\nIt wasn’t long before Swift began receiving critical praise for her work. The teenager won the Horizon Award from the Country Music Association (CMA) and the Academy of Country Music (ACM) Award for Top New Female Vocalist in 2007. The next year, she was nominated for Best New Artist at the Grammys. She became the youngest artist to win the Grammy for Album of the Year, for Fearless in 2010.\\nThe country music darling eventually began experimenting with genre. With her fifth album, 1989, she decisively reintroduced herself as a pop musician. Her new sound excited fans, and the 2014 release is one of her most successful to date, spending 11 weeks atop the Billboard 200 and selling more than 1.2 million copies in its first week.\\nNot everything about her music changed, though. Personal experiences, including her romantic relationships, continue to fuel Swift’s songwriting. “I’m enthralled by relationships, and I love the drama in them, but that’s usually where it lives,” Swift told Rolling Stone in 2009, maintaining “I’m not a dramatic person.” Hardly the first musician to utilize this practice, the pop star usually doesn’t reveal who her song subjects are, unless they are family or friends. Instead, her loyal fans obsess over easter eggs in her lyrics and music videos to pinpoint a likely person.\\nSince March 2023, Swift has been performing on her headline-grabbing Eras Tour. It marks her sixth international tour, having first headlined her own concert series after the release of her award-winning sophomore album, Fearless. When presale tickets for the Eras Tour went live in November 2022, so many fans attempted to snag their seats that Ticketmaster canceled the general sale, leading to a congressional hearing about the debacle. Already one of the highest-grossing touring musicians as of July 2022, Swift has earned more than $1 billion on the Eras Tour so far—surpassing Elton John’s record-setting farewell tour that spanned five years. The Eras Tour wraps in December 2024 after dozens more concerts, mostly abroad.\\nSwift’s successes in 2023 also include the release of the 1989 (Taylor’s Version) album and the record-setting concert film Taylor Swift: The Eras Tour, two more No. 1 songs on the Billboard Hot 100, tying with Drake as the artist with the most Billboard Music Awards in history, dethroning Bad Bunny as Spotify’s most streamed artist of the year, and achieving billionaire status. All that culminated in Time naming her its 2023 Person of the Year. Swift is the fifth woman to receive the honor.\\nHow Many Grammys Does Taylor Swift Have?\\nSwift has won 12 Grammy Awards out of 52 nominations, including six nominations for the upcoming 2024 awards show.\\nShe was first nominated in 2008 for Best New Artist. Although Amy Winehouse claimed the honor, 20-year-old Swift lived up to her promising career start by collecting four Grammys the next year. Fearless won Album of the Year and Best Country Album, and “White Horse” was named Best Country Song and Best Female Country Vocal Performance in 2009.\\nSwift has now won Album of the Year three times: for Fearless, 1989, and folklore. She is the only woman to accomplish this feat for solo recordings. Even so, Swift has never won the top song honor of Song of the Year, though she has received a record seven nominations in the category. As for Best Country Song, the artist has won twice in five nominations; “Mean” earned the trophy the year after “White Horse” did.\\nIn 2024, the pop star could become the first artist to win Album of the Year four times with Midnights, which is also competing for Best Pop Vocal Album. Her other 2024 Grammy nominations include: Record of the Year, Song of the Year, and Best Pop Solo Performance for “Anti-Hero,” as well as Best Pop Duo/Group Performance for “Karma” featuring Ice Spice.\\nThe singer-songwriter has won a host of other accolades, including nine CMA Awards and eight ACM Awards. Both country music organizations have twice named her Entertainer of the Year. Since her first in 2009, Swift has taken home 23 Video Music Awards, second only to Beyoncé. Billboard named her Woman of the Year in 2012, one of Swift’s 29 awards from the publication.\\nIn December 2023, Swift notched another first when she received her first Golden Globe Award nomination for Taylor Swift: The Eras Tour. Her concert film is competing in the Cinematic and Box Office Achievement category at the January 2024 awards ceremony.\\nHit Songs\\nEver since her first single, “Tim McGraw,” in 2006, Swift’s music has found a home on the Billboard charts. As of December 13, 2023, she has had 232 songs grace the mainstream Hot 100. That includes 11 No. 1 hits and a record-setting 49 songs in the top 10; no woman has had more top 10 hits, and Swift only trails Drake among all artists. She also holds nine No. 1 Hot Country Songs, including “Our Song” and “Should’ve Said No.”\\n“Fearless” debuted at No. 9 on the mainstream chart in November 2008, marking Swift’s first top 10 song. Her first chart-topper was roughly four years away. That came in September 2012 with Grammy-nominated “We Are Never Ever Getting Back Together.” Her other No 1. songs include:\\nAt 10 minutes, 13 seconds, “All Too Well (Taylor’s Version)” is the longest No. 1 hit in history. “Shake It Off” is Swift’s only diamond-certified song, having sold the equivalent of 10 million copies.\\nAlbums\\nTo date, Swift has released 18 albums, including 10 original studio albums, four rereleases, and four live albums. Excluding those live recordings, every album since her sophomore effort, Fearless, has nabbed the No. 1 spot on the Billboard 200 for at least one week. In December 2023, she became the first living artist to have five albums rank among the chart’s top 10 simultaneously.\\nHer first album came in 2006 with Taylor Swift, and her most recent all-new music is on 2022’s Midnights. Her latest rerecorded album, 1989 (Taylor’s Version), debuted in October 2023.\\nHer albums, in order, are:\\nTaylor Swift\\nTaylor Swift\\nThe young musician’s self-titled debut album was released in October 2006 when she was 16. Spurred on by the success of songs like “Tim McGraw,” “Teardrops on My Guitar,” and “Our Song,” it became a No. 1 country album in August 2007 and held the top spot for a total of 24 weeks. Indicating her future crossover success, the album also reached No. 5 on the Billboard 200. Taylor Swift has sold more than 7 million copies to date.\\nFearless\\nFearless\\nIn November 2008, Swift released her next album, Fearless, which quickly hit the top of both the country and pop charts, marking her first No. 1 mainstream album. It maintained its apex ranking on the charts for weeks on end. By the end of the year, Swift had become 2008’s highest-selling country artist.\\nNow a Diamond-certified album, Fearless earned Swift her first Grammy Awards in January 2010. In addition to Best Country Album, it took home one of the night’s top honors with Album of the Year. The track “White Horse” won Best Country Song and Best Female Country Vocal Performance, while “You Belong With Me” was nominated for three Grammys. Also named Album of the Year at the CMA and ACM Awards, Fearless featured the top 10 hits “Love Story,” “Fearless,” and “Change.”\\nSpeak Now\\nSpeak Now\\nAfter skeptics doubted her involvement in her songwriting, Swift chose to write her next album alone. Speak Now came out in October 2010 and immediately found success. It debuted at No. 1 on the Billboard 200 and sold more than 1 million copies in its first week. Popular tracks included “Mine,” “Back To December,” “Speak Now,” and the Grammy-winning “Mean.” Swift was once again nominated for Best Country Album at the Grammys but didn’t win.\\nRed\\nRed\\nEdging her way into pop music, Swift followed with Red, which featured her first No. 1 single “We Are Never Ever Getting Back Together” and also topped 1 million in its first week of sales. The October 2012 release collected Grammy nominations for Album of the Year and Best Country Album. “I Knew You Were Trouble,” “Red,” and “Begin Again” were among its most popular songs.\\n1989\\n1989\\nWith her next effort, Swift stepped outside her country music roots squarely into mainstream pop. She released 1989 in October 2014. It tied her record (set by Fearless) for most weeks at No. 1 on the Billboard 200, produced three chart-topping singles, and moved more than 1.2 million copies in its first week. That made Swift the first artist to pass the 1 million mark in opening-week sales for three albums. She won her second Album of the Year award at the Grammys in February 2016 as well as Best Pop Vocal Album for her work.\\nreputation\\nreputation\\nIn late August 2017, using an image of a snake, Swift revealed that she would release her sixth studio album, reputation, that November.\\xa0Swift debuted the first single, “Look What You Made Me Do,” on August 24. In the music video, Swift played characters of all her misrepresentations. The video had more than 19 million views on YouTube within the first day.\\nDays before reputation’s scheduled November 10 release, its secret tracklist was leaked to social media. Swift responded by posting the complete list to her Instagram page: 15 songs, including a collaborative effort with Ed Sheeran and rapper Future titled “End Game.” The two later appeared in the video for the track, which debuted in January 2018.\\nReputation sold 1.05 million copies in the United States over its first four days. Along with giving the artist her fourth consecutive album to surpass 1 million in sales for its opening week, that total made reputation the top-selling album of 2017. Its success continued into 2018, surpassing 2 million in sales while generating the release of seven singles. By the end of the year, Grammy-nominated reputation had been honored with Favorite Pop/Rock Album at the American Music Awards and Top Selling Album at the Billboard Music Awards.\\nLover\\nLover\\nOn April 26, 2019, Swift debuted “ME!” with Brendon Urie of Panic! at the Disco, along with a video of the duo singing and dancing amid a panoply of elaborate sets and swirling colors. It became the first single from her seventh studio album, Lover, with “You Need to Calm Down” and the title track also hitting the airwaves as singles over the next few months. The album was released in August.\\nIn November, Swift claimed a whopping six wins at the American Music Awards, including Artist of the Year and Artist of the Decade honors. Swift also received her third consecutive Grammy nomination for Best Pop Vocal Album. A few weeks later, it was reported that Lover was the only album to sell 1 million copies in the U.S. in 2019.\\nNearly four years later, Lover’s “Cruel Summer” was promoted as her latest single amid her highly successful Eras tour. The song enjoyed renewed success, becoming Swift’s 10th song to top the Billboard Hot 100.\\nfolklore\\nfolklore\\nOn July 23, 2020, Swift announced on Instagram that she planned to release her eighth studio album, folklore. The 16-track album—made with Aaron Dessner of The National, Jack Antonoff of Bleachers, and Justin Vernon, better known as Bon Iver—debuted the next day at midnight. The alternative influence of her collaborators was apparent throughout.\\nFolklore produced the top 10 hits “The 1” and “Exile” featuring Bon Iver, plus went on to win Album of the Year at the 2021 Grammys. Swift also made history that year, becoming the only female solo artist to win that award three times.\\nevermore\\nevermore\\nLess than six months later, Swift dropped another surprise album to accompany folklore. She announced on December 10, 2020, that evermore would release at midnight the next day. “To put it plainly, we just couldn’t stop writing songs,” Swift wrote in a social media post. “In the past I’ve always treated albums as one-off eras and moved onto planning the next one after an album was released. There was something different with folklore. In making it, I felt less like I was departing and more like I was returning.” Evermore earned a Grammy nomination for Album of the Year, though unlike its sister album, it didn’t win.\\nMidnights\\nMidnights\\nSwift released her 10th studio album, Midnights, at midnight on October 21, 2022. Three hours later, she released seven extra tracks in a deluxe version titled Midnights (3 am Edition). The album broke new ground for the already prolific Swift, making her the first artist to have a song on all of the top 10 slots on the Billboard Hot 100. That included “Anti-Hero” at No. 1, “Snow On The Beach” featuring Lana Del Rey, “Lavender Haze,” and “Karma.” Actor Zoë Kravitz earned writing credits on the latter two songs, and Jack Antonoff played a heavy hand in the album’s creation, cowriting 11 of Midnights’ 13 songs.\\nTaylor’s Version albums\\nTaylor’s Version albums\\nAfter the master recordings to her first six studio albums were sold in 2019, Swift decided to rerecord her old music to regain artistic and financial control of her catalog. So far, she has released four of six: Fearless (Taylor’s Version) in April 2021, Red (Taylor’s Version) in November 2021,\\xa0Speak Now (Taylor’s Version) in July 2023, and\\xa01989 (Taylor’s Version) in October 2023. Each included previously unreleased songs labeled as “From The Vault,” some of which she recorded with fellow musicians Keith Urban, Ed Sheeran, Chris Stapleton, and Phoebe Bridgers, among others.\\nSwift hasn’t shared when she will rerelease Taylor Swift and reputation.\\nWhat Is Taylor Swift’s Net Worth?\\nWhen she was 26, Swift was the highest-paid musician—and celebrity of any industry—of 2016 per Forbes, earning $170 million. It was one successful year among many, allowing the pop star to amass a huge net worth.\\nAs of December 13, 2023, Swift has a net worth of $1.1 billion, according to Forbes. Bloomberg first reported that Swift had become a billionaire in late October.\\nHer wealth has skyrocketed in the past year fueled by the pop star’s highly successful Eras Tour. Pollstar reported in December 2023 that the ongoing tour has earned $1,039,263,762 so far, making Swift the first musician to gross more than $1 billion on a single tour. The trade publication previously estimated the tour brings in $14 million in ticket sales each night.\\nSwift ranks No. 17 on Pollstar’s list of highest-grossing touring artists since 1980, having sold nearly $925 million in tickets from her first five tours and other appearances as of July 2022. The only women higher on the list are Madonna, Celine Dion, and Beyoncé.\\nContributing to her overall net worth are her real estate holdings. According to Business Insider, her properties total $84 million. She also has lucrative endorsement deals with Capitol One, Stella McCartney, Diet Coke, Apple, and more.\\nOver the years, the musician has shared some of her fortune to help others. For example, in 2013, she funded the $4 million Taylor Swift Education Center at the Country Music Hall of Fame in Nashville. The facility opened with three classrooms, a learning lab, and a space dedicated to exhibits for children. In an interview with CMT Hot 20 Countdown, she explained that “music education is really such an important part of my life. My life changed so completely when I discovered writing my own songs and playing guitar, and that can’t necessarily all be taught to you in school because there aren’t enough hours in the day.”\\nSexual Assault Trial and Copyright Lawsuits\\nThe megastar has been involved in a few legal disputes, which all have gone in her favor. In August 2017, she testified in a trial against David Mueller, a former radio DJ she accused of groping her four years earlier. Mueller denied Swift’s allegations and said the incident cost him his job, which led him to sue Swift, her mother, and a radio station employee in 2015. Swift countersued him for alleged assault and battery, and a jury ruled in her favor in 2017, awarding her $1 in damages as a symbolic gesture.\\nSwift responded to the verdict in a statement: “I acknowledge the privilege that I benefit from in life, in society, and in my ability to shoulder the enormous cost of defending myself in a trial like this. My hope is to help those whose voices should also be heard. Therefore, I will be making donations in the near future to multiple organizations that help sexual assault victims defend themselves.”\\nAlso in 2017, Swift was on the receiving end of a lawsuit, when two songwriters claimed that she stole the chorus of their song “Playas Gon’ Play” for her hit “Shake It Off.” Although a judge dismissed the case in early 2018, on the grounds that the “allegedly infringed lyrics are short phrases that lack the modicum of originality and creativity required for copyright protection,” an appeals court revived the suit in October 2019. Shortly before the trial was scheduled to begin, a judge dismissed the case in December 2022 at the request of both parties. A few media outlets reported there was a settlement, but if so, the terms weren’t publicly released.\\nThe musician was ensnared in another copyright lawsuit when a Mississippi woman claimed “a number of creative elements” from her self-published poetry book appeared in Swift’s companion book for her Lover (2019) album. The author sued in August 2022 but voluntarily dropped her case the next July.\\nScooter Braun Masters Controversy and Rerecording Project\\nIn November 2018, Swift signed with Universal Music Group’s Republic Records. The deal granted the musician ownership of her master recordings, something she didn’t have in her agreement with her first label, Big Machine Records.\\nThe next June, Swift revealed her dismay that Big Machine sold her catalog of music from her first six albums, up to reputation, to a company owned by Scooter Braun, manager of artists like Justin Bieber and Ariana Grande and a person she accused of bullying tactics. “Scooter has stripped me of my life’s work, that I wasn’t given an opportunity to buy,” she wrote on Tumblr. “Essentially, my musical legacy is about to lie in the hands of someone who tried to dismantle it.” Just before the August 2019 release of Lover, Swift confirmed she would rerecord her old music to regain artistic and financial control of her catalog.\\nSwift’s catalog was sold once again, in October 2020, to Shamrock Holdings for around $300 million. In a lengthy post on Twitter (now called X), Swift gave her fans an update:\\nSwift added the deal still allows Braun to profit from her music and that she was in the process of rerecording her old music.\\nHer first rerecorded release, “Love Story (Taylor’s Version),” came at midnight on February 12, 2021. So far, she has reissued four of six albums from her early catalog.\\nWho Has Taylor Swift Dated?\\nCurrently, Swift is dating NFL football player Travis Kelce. On a July 2023 episode of his New Heights podcast, Kelce explained how he tried to give Swift his number on a friendship bracelet after attending the Eras Tour in Kansas City. Soon after, Swift reached out, and they went public with their romance in the fall. “Obviously, I’ve never dated anyone with that kind of aura about them... I’ve never dealt with it,” Kelce told The Wall Street Journal. “But at the same time, I’m not running away from any of it.”\\nSwift has attended six of his NFL games this season. “By the time I went to that first game, we were a couple,” she told Time.“I think some people think that they saw our first date at that game? We would never be psychotic enough to hard launch a first date.”\\nKelce returned the support in mid-November 2023, traveling to Buenos Aires, Argentina, to attend one of her concerts on the Eras Tour. During the show, Swift changed one of her lyrics in the song “Karma” to reference Kelce, and the couple were caught kissing on camera for the first time.\\nOver the years, Swift has dated several celebrities. During much of 2008, reports circulated that she was dating musician Joe Jonas of The Jonas Brothers. The song, “Forever & Always,” is reportedly about Jonas. The next year, Swift briefly dated actor Taylor Lautner, who she met while they filmed the 2010 movie Valentine’s Day. Swift then dated fellow singer-songwriter John Mayer for a brief period beginning in late 2009; he’s thought to be the inspiration for her song “Dear John.”\\nFrom there, Swift was romantically linked to actors Cory Monteith and Jake Gyllenhaal in 2010, then Conor Kennedy—son of Robert F. Kennedy Jr.—in 2012. She celebrated the new year with One Direction’s Harry Styles in 2013, but the relationship ended later that year. In 2015, Swift dated DJ and music producer Calvin Harris, though the couple reportedly broke up in June 2016. Shortly thereafter, the pop star began dating actor Tom Hiddleston, but the couple split three months later.\\nSwift’s longest relationship to date was with actor Joe Alwyn. The pair met at the 2016 Met Gala and were together from 2017 until spring 2023. Beyond being another boyfriend to spark her songwriting, Alwyn also helped write songs on her folklore, evermore, and Midnights albums under the pseudonym William Bowery.\\nJust prior to the rumors about her and Kelce, Swift was said to be dating musician Matty Healy of The 1975 band.\\nFeud with Kanye West\\nBeyond her romantic relationships, Swift has had many high-profile friendships—with singer and actor Selena Gomez, model Karlie Kloss, and actor Blake Lively, to name a few—as well as headline-making feuds. Chief among those is her beef with rapper Kanye West.\\nIn 2009, when Swift won the MTV Video Music Award’s Best Female Video for “You Belong With Me,” West leaded to the stage as the young singer was giving her acceptance speech. He took the mic and famously declared, “Yo, Taylor, I’m really happy for you, I’mma let you finish, but Beyoncé had one of the best videos of all time!”\\nThe stunned Swift was unable to finish her acceptance speech, and West was removed from the show. When Beyoncé accepted her award for Best Video of the Year later in the night, she called Swift to the stage to finish her speech. West later apologized to Swift privately and made a public apology on The Jay Leno Show.\\nIn early 2016, West released his song “Famous” that includes a lyric taking credit for her fame and calling her a derogatory word. The rapper said Swift had approved the line in a phone call, though her team initially denied the conversation. Days later, Swift said in a Grammys acceptance speech:\\nKim Kardashian, who was married to West at the time, defended her husband in a GQ interview that summer and released clips of the phone call between the musicians. Although edited, the recordings proved Swift’s PR team had been lying in their initial statement. Kardashian also implied Swift was a snake in a July 2016 social media post. The pop star alluded to the fight in the songs “Look What You Made Me Do” and “This Is Why We Can’t Have Nice Things” from her reputation (2017) album. She has also used snakes in music videos and onstage in concerts. The feud briefly reignited in March 2020 when a 25-minute video of the phone conversation leaked online.\\nDocumentary and Movies\\nPreviously having released several concert movies, Swift made a bigger splash with her Netflix documentary Miss Americana. The January 2020 release covered the makings of her recent studio albums as well as other high-profile events like her sexual assault trial. Miss Americana earned a limited run in theaters simultaneously to its streaming release.\\nSwift’s new concert movie, Taylor Swift: The Eras Tour, capitalizes on her massive star power. The film opened exclusively in theaters—3,850 locations in North America alone—in October 2023. According to Comscore, no other concert movie has enjoyed as wide of a release. It also has showtimes in some 90 other countries and has grossed nearly $250 million worldwide as of December 5, 2023, making it the highest-grossing concert film of all time. An extended version, with three additional songs, is now available to rent on streaming services.\\nSwift has also dabbled in acting. She appeared in the 2010 blockbuster Valentine’s Day, alongside Julia Roberts, Jamie Foxx, Jessica Biel, Bradley Cooper, and other Hollywood heavyweights. A voice role in The Lorax (2012) and another role in The Giver (2014) followed. In December 2019, Swift was featured in a live-action adaptation of the famed Broadway musical Cats, along with Jennifer Hudson, James Corden, and Rebel Wilson. She also teamed with Cats creator Andrew Lloyd Webber to write a song, “Beautiful Ghosts,” for the movie. Swift also had a cameo in 2022’s Amsterdam.\\nQuotes\\nThe Biography.com staff is a team of people-obsessed and news-hungry editors with decades of collective experience. We have worked as daily newspaper reporters, major national magazine editors, and as editors-in-chief of regional media publications. Among our ranks are book authors and award-winning journalists. Our staff also works with freelance writers, researchers, and other contributors to produce the smart, compelling profiles and articles you see on our site. To meet the team, visit our About Us page: https://www.biography.com/about/a43602329/about-us\\nAdrienne directs the daily news operation and content production for Biography.com. She joined the staff in October 2022 and most recently worked as an editor for Popular Mechanics, Runner’s World, and Bicycling. Adrienne has served as editor-in-chief of two regional print magazines, and her work has won several awards, including the Best Explanatory Journalism award from the Alliance of Area Business Publishers. Her current working theory is that people are the point of life, and she’s fascinated by everyone who (and every system that) creates our societal norms. When she’s not behind the news desk, find her hiking, working on her latest cocktail project, or eating mint chocolate chip ice cream.\\nGrammy Awards\\n8 Facts About “Need A Favor” Singer Jelly Roll\\nLainey Wilson\\nCéline Dion\\nJelly Roll\\nLuke Combs Sets the Record Straight About Lawsuit\\nSean “Diddy” Combs\\nDolly Parton\\nOlivia Rodrigo\\nSZA\\nChris Stapleton\\nWillie Nelson\\nZach Bryan\\nA Part of Hearst Digital Media\\nWe may earn commission from links on this page, but we only recommend products we back.\\n©2024 Hearst Magazine Media, Inc. Site contains certain content that is owned A&E Television Networks, LLC. All Rights Reserved. Biography and associated logos are trademarks of A+E Networks®protected in the US and other countries around the globe.'}]"
      ]
     },
     "execution_count": 7,
     "metadata": {},
     "output_type": "execute_result"
    }
   ],
   "source": [
    "ans"
   ]
  },
  {
   "cell_type": "code",
   "execution_count": 38,
   "id": "0386b77a",
   "metadata": {},
   "outputs": [
    {
     "name": "stdout",
     "output_type": "stream",
     "text": [
      "['https://www.nytimes.com/2023/11/22/technology/openai-board-capitalists.html', 'https://www.npr.org/2023/11/24/1215015362/chatgpt-openai-sam-altman-fired-explained', 'https://www.nytimes.com/2023/12/09/technology/openai-boardroom-key-players.html', 'https://www.forbes.com/sites/digital-assets/2023/11/19/the-openai-drama-sam-altman-and-the-struggle-for-ais-future/', 'https://www.nytimes.com/2023/11/20/technology/openai-sam-altman-microsoft.html', 'https://www.nature.com/articles/d41586-023-03700-4', 'https://www.businessinsider.com/chatgpt-openai-sam-altman-ai-year-review-2023-12?op=1', 'https://www.nytimes.com/2023/12/09/technology/openai-altman-inside-crisis.html', 'https://edition.cnn.com/2023/11/18/tech/openai-sam-altman-shakeup-what-happened/', 'https://www.bbc.com/news/technology-67497157']\n",
      "1.4495320320129395\n"
     ]
    }
   ],
   "source": [
    "from duckduckgo_search import DDGS\n",
    "start_time = time.time()\n",
    "\n",
    "with DDGS() as ddgs:\n",
    "    results = [r['href'] for r in ddgs.text(\"openai's recent drama\", max_results=10)]\n",
    "    print(results)\n",
    "    \n",
    "end_time = time.time()\n",
    "\n",
    "print(end_time - start_time)"
   ]
  },
  {
   "cell_type": "code",
   "execution_count": null,
   "id": "e9b5bf74",
   "metadata": {},
   "outputs": [],
   "source": [
    "res"
   ]
  },
  {
   "cell_type": "code",
   "execution_count": 8,
   "id": "2f8a394e",
   "metadata": {},
   "outputs": [
    {
     "name": "stdout",
     "output_type": "stream",
     "text": [
      "Enter your search query: openai's recent drama\n",
      "Links on the front search page:\n",
      "https://www.nytimes.com/2023/11/22/technology/openai-board-capitalists.html\n",
      "https://www.npr.org/2023/11/24/1215015362/chatgpt-openai-sam-altman-fired-explained\n",
      "https://www.nytimes.com/2023/12/09/technology/openai-boardroom-key-players.html\n",
      "https://www.nature.com/articles/d41586-023-03700-4\n",
      "https://www.forbes.com/sites/digital-assets/2023/11/19/the-openai-drama-sam-altman-and-the-struggle-for-ais-future/\n",
      "https://www.cnn.com/2023/11/18/tech/openai-sam-altman-shakeup-what-happened/index.html\n",
      "https://www.npr.org/2023/11/20/1197958395/the-messy-human-drama-behind-openai\n",
      "https://finance.yahoo.com/news/timeline-openais-ongoing-drama-sam-231839055.html\n",
      "https://www.nytimes.com/2023/12/09/technology/openai-altman-inside-crisis.html\n",
      "https://www.wsj.com/livecoverage/stock-market-today-dow-jones-11-20-2023/card/what-you-need-to-know-about-the-openai-drama-lqea8KlL7rmenTN9KruT\n",
      "https://www.latimes.com/opinion/story/2023-11-29/openai-sam-altman-firing-chatgpt-artificial-intelligence\n",
      "https://www.wired.com/story/openai-boardroom-drama-sam-altman-could-mess-up-your-future/\n",
      "https://observer.com/2023/11/openai-sam-altman-leadership-shakeup/\n",
      "https://www.businessinsider.com/chatgpt-openai-sam-altman-ai-year-review-2023-12?op=1\n",
      "https://www.theinformation.com/articles/openais-annualized-revenue-tops-1-6-billion-as-customers-shrug-off-ceo-drama\n",
      "https://observer.com/2023/11/sam-altman-return-openai-new-board/\n",
      "https://openaimaster.com/open-ai-drama-explained/\n",
      "https://dnyuz.com/2023/12/09/key-players-in-openais-boardroom-drama/\n",
      "https://www.foxbusiness.com/technology/openai-raked-1-6-billion-revenue-year-ceo-sam-altman-drama\n",
      "https://www.reuters.com/legal/microsoft-openai-hit-with-new-lawsuit-by-authors-over-ai-training-2024-01-05/\n",
      "https://www.yahoo.com/tech/microsoft-executive-dee-templeton-joins-220825863.html\n",
      "https://www.nytimes.com/2023/12/29/business/media/media-openai-chatgpt.html\n",
      "https://www.businessinsider.com/experts-ai-in-2024-could-be-bad-news-for-openai-2023-12?op=1\n",
      "https://www.nytimes.com/2024/01/05/podcasts/nyt-lawsuit-openai-imessage-new-years-tech.html\n",
      "https://fortune.com/2023/12/27/openai-microsoft-new-york-times-lawsuit-ai-copyright-infringement/\n",
      "https://www.vice.com/en/article/xgwk34/openais-make-or-break-lawsuit-and-the-golden-idol-of-agi\n",
      "https://www.linkedin.com/pulse/openais-drama-tale-trust-leadership-governance-zemenu-tsegaye-rk8ye\n"
     ]
    }
   ],
   "source": [
    "import requests\n",
    "from bs4 import BeautifulSoup\n",
    "\n",
    "def get_duckduckgo_links(query):\n",
    "    url = f\"https://duckduckgo.com/html?q={query}\"\n",
    "    headers = {\n",
    "        'User-Agent': 'Mozilla/5.0 (Windows NT 10.0; Win64; x64) AppleWebKit/537.36 (KHTML, like Gecko) Chrome/91.0.4472.124 Safari/537.36'\n",
    "    }\n",
    "\n",
    "    response = requests.get(url, headers=headers)\n",
    "\n",
    "    if response.status_code == 200:\n",
    "        soup = BeautifulSoup(response.text, 'html.parser')\n",
    "        links = [a['href'] for a in soup.find_all('a', class_='result__url')]\n",
    "        return links\n",
    "    else:\n",
    "        print(f\"Error: {response.status_code}\")\n",
    "        return []\n",
    "\n",
    "if __name__ == \"__main__\":\n",
    "    search_query = input(\"Enter your seatrch query: \")\n",
    "    links = get_duckduckgo_links(search_query)\n",
    "\n",
    "    if links:\n",
    "        print(\"Links on the front search page:\")\n",
    "        for link in links:\n",
    "            print(link)\n",
    "    else:\n",
    "        print(\"No links found.\")\n"
   ]
  },
  {
   "cell_type": "code",
   "execution_count": 34,
   "id": "4e3d5717",
   "metadata": {},
   "outputs": [],
   "source": [
    "import asyncio\n",
    "import aiohttp\n",
    "from bs4 import BeautifulSoup\n",
    "\n",
    "async def fetch_url(session, query):\n",
    "    url = f\"https://duckduckgo.com/html?q={query}\"\n",
    "    headers = {\n",
    "        'User-Agent': 'Mozilla/5.0 (Windows NT 10.0; Win64; x64) AppleWebKit/537.36 (KHTML, like Gecko) Chrome/91.0.4472.124 Safari/537.36'\n",
    "    }\n",
    "\n",
    "    async with session.get(url, headers=headers) as response:\n",
    "        if response.status == 200:\n",
    "            html = await response.text()\n",
    "            soup = BeautifulSoup(html, 'html.parser')\n",
    "            links = [a['href'] for a in soup.find_all('a', class_='result__url')]\n",
    "            return links\n",
    "        else:\n",
    "            print(f\"Error: {response.status}\")\n",
    "            return []\n",
    "\n",
    "async def main():\n",
    "    search_queries = [\"Openai's recent drama\", \"Sam altman recent firing\", \"microsoft's role in openai\"]  # Add your search queries here\n",
    "    async with aiohttp.ClientSession() as session:\n",
    "        tasks = [fetch_url(session, query) for query in search_queries]\n",
    "        results = await asyncio.gather(*tasks)\n",
    "\n",
    "    for query, links in zip(search_queries, results):\n",
    "        if links:\n",
    "            print(f\"Links for query '{query}':\")\n",
    "            for link in links:\n",
    "                print(link)\n",
    "        else:\n",
    "            print(f\"No links found for query '{query}'.\")\n",
    "\n",
    "\n",
    "            \n",
    "\n"
   ]
  },
  {
   "cell_type": "code",
   "execution_count": 35,
   "id": "d4677f1c",
   "metadata": {},
   "outputs": [],
   "source": [
    "import time"
   ]
  },
  {
   "cell_type": "code",
   "execution_count": 36,
   "id": "5f46f6e2",
   "metadata": {},
   "outputs": [
    {
     "name": "stdout",
     "output_type": "stream",
     "text": [
      "Links for query 'Openai's recent drama':\n",
      "https://www.nytimes.com/2023/11/22/technology/openai-board-capitalists.html\n",
      "https://www.npr.org/2023/11/24/1215015362/chatgpt-openai-sam-altman-fired-explained\n",
      "https://www.forbes.com/sites/digital-assets/2023/11/19/the-openai-drama-sam-altman-and-the-struggle-for-ais-future/\n",
      "https://www.nature.com/articles/d41586-023-03700-4\n",
      "https://www.nytimes.com/2023/12/09/technology/openai-boardroom-key-players.html\n",
      "https://www.nytimes.com/2023/11/20/technology/openai-sam-altman-microsoft.html\n",
      "https://www.nytimes.com/2023/12/09/technology/openai-altman-inside-crisis.html\n",
      "https://edition.cnn.com/2023/11/18/tech/openai-sam-altman-shakeup-what-happened/\n",
      "https://www.wsj.com/livecoverage/stock-market-today-dow-jones-11-20-2023/card/what-you-need-to-know-about-the-openai-drama-lqea8KlL7rmenTN9KruT\n",
      "https://www.bbc.com/news/technology-67497157\n",
      "https://finance.yahoo.com/news/timeline-openais-ongoing-drama-sam-231839055.html\n",
      "https://www.latimes.com/opinion/story/2023-11-29/openai-sam-altman-firing-chatgpt-artificial-intelligence\n",
      "https://observer.com/2023/11/openai-sam-altman-leadership-shakeup/\n",
      "https://www.wired.com/story/openai-boardroom-drama-sam-altman-could-mess-up-your-future/\n",
      "https://www.businessinsider.com/chatgpt-openai-sam-altman-ai-year-review-2023-12?op=1\n",
      "https://www.nytimes.com/2023/11/21/briefing/open-ai-sam-altman-microsoft.html\n",
      "https://www.forbes.com/sites/nishatalagala/2023/11/21/the-open-ai-drama-what-is-agi-and-why-should-you-care/\n",
      "https://www.theinformation.com/articles/openais-annualized-revenue-tops-1-6-billion-as-customers-shrug-off-ceo-drama\n",
      "https://observer.com/2023/11/sam-altman-return-openai-new-board/\n",
      "https://www.theinformation.com/articles/the-war-within-openai-and-what-comes-next\n",
      "https://openaimaster.com/open-ai-drama-explained/\n",
      "https://www.foxbusiness.com/technology/openai-raked-1-6-billion-revenue-year-ceo-sam-altman-drama\n",
      "https://news.yahoo.com/opinion-openais-drama-marks-scary-110010254.html\n",
      "https://dnyuz.com/2023/12/09/key-players-in-openais-boardroom-drama/\n",
      "https://www.reuters.com/legal/microsoft-openai-hit-with-new-lawsuit-by-authors-over-ai-training-2024-01-05/\n",
      "https://www.nytimes.com/2023/12/29/business/media/media-openai-chatgpt.html\n",
      "https://www.businessinsider.com/experts-ai-in-2024-could-be-bad-news-for-openai-2023-12?op=1\n",
      "https://www.nytimes.com/2024/01/05/podcasts/nyt-lawsuit-openai-imessage-new-years-tech.html\n",
      "Links for query 'Sam altman recent firing':\n",
      "https://www.npr.org/2023/11/24/1215015362/chatgpt-openai-sam-altman-fired-explained\n",
      "https://www.yahoo.com/tech/timeline-sam-altmans-firing-openai-201646553.html\n",
      "https://www.abc.net.au/news/2023-11-21/who-is-sam-altman-and-why-was-he-fired-from-open-ai/103130058\n",
      "https://techcrunch.com/2023/11/29/a-timeline-of-sam-altmans-firing-from-openai-and-the-fallout/\n",
      "https://www.theguardian.com/technology/2023/nov/17/openai-ceo-sam-altman-fired\n",
      "https://www.bloomberg.com/news/articles/2023-11-20/sam-altman-openai-latest-inside-his-shock-firing-by-the-board\n",
      "https://www.usnews.com/news/us/articles/2023-11-22/what-the-events-leading-up-to-sam-altmans-reinstatement-at-openai-mean-for-the-industrys-future\n",
      "https://www.cbc.ca/news/business/openai-sam-altman-return-explainer-1.7036795\n",
      "https://www.cnn.com/2023/11/19/tech/sam-altman-open-ai-firing-board/index.html\n",
      "https://www.nytimes.com/2023/11/17/technology/openai-sam-altman-ousted.html\n",
      "https://www.theguardian.com/technology/2023/nov/23/huge-egos-are-in-play-behind-the-firing-and-rehiring-of-openais-sam-altman\n",
      "https://arstechnica.com/tech-policy/2023/11/sam-altman-wins-power-struggle-returns-to-openai-with-new-board/\n",
      "https://www.washingtonpost.com/technology/2023/11/22/sam-altman-back-openai/\n",
      "https://www.chicagotribune.com/business/ct-biz-sam-altman-ai-20231123-2g37rwaqwrbenihfsxgkcgjcfu-story.html\n",
      "https://www.theverge.com/2023/11/29/23982046/sam-altman-interview-openai-ceo-rehired\n",
      "https://techxplore.com/news/2023-11-sam-altman-firingand-quick-reinstatementmean.html\n",
      "https://blog.hubspot.com/ai/openai-ceo-fired\n",
      "https://edition.cnn.com/2023/11/20/tech/openai-employees-quit-mira-murati-sam-altman/index.html?ref=ed-zitrons-wheres-your-ed-at.ghost.io\n",
      "https://www.businessinsider.com/timeline-sam-altman-openai-shock-firing-microsoft-switch-2023-11?op=1\n",
      "https://www.theverge.com/23966325/openai-sam-altman-fired-turmoil-chatgpt\n",
      "https://www.huffpost.com/entry/openai-executive-addresses-ceo-sam-altman-firing_n_65593feae4b0e4767014850d\n",
      "https://www.rollingstone.com/culture/culture-features/sam-altman-mystery-firing-openai-1234886100/\n",
      "https://auburnpub.com/partners/ap/business/what-does-sam-altmans-firing-and-quick-reinstatement-mean-for-the-future-of-ai/article_815bfea6-8939-55bc-b151-22ec6b4bd49d.html\n",
      "https://www.msn.com/en-us/news/technology/openais-sam-altman-opens-up-about-shock-firing/ar-AA1lfa2U\n",
      "https://fortune.com/2024/01/04/altman-musk-dangers-of-superstar-ceos-leadership-jennifer-sundberg/?ref=biztoc.com\n",
      "https://www.engadget.com/apples-iphone-designer-is-leaving-to-work-with-jony-ive-and-sam-altman-on-ai-hardware-093028794.html\n",
      "https://finance.yahoo.com/news/openai-boss-sam-altman-says-032058166.html\n",
      "https://www.msn.com/en-us/news/other/sam-altman-returns-as-openai-ceo-and-shares-valuable-insights/ar-AA1m2W0v\n",
      "Links for query 'microsoft's role in openai':\n",
      "https://www.newyorker.com/magazine/2023/12/11/the-inside-story-of-microsofts-partnership-with-openai\n",
      "https://www.ft.com/content/458b162d-c97a-4464-8afc-72d65afb28ed\n",
      "https://www.thurrott.com/a-i/openai-a-i/295729/microsofts-dee-templeton-has-joined-the-openai-board-of-directors\n",
      "https://www.nytimes.com/2023/11/20/technology/openai-microsoft-altman-nadella.html\n",
      "https://www.microsoft.com/en-us/microsoft-cloud/blog/2023/11/07/come-build-with-us-microsoft-and-openai-partnership-unveils-new-ai-opportunities/\n",
      "https://blogs.microsoft.com/blog/2023/01/23/microsoftandopenaiextendpartnership/\n",
      "https://www.theinformation.com/briefings/microsoft-exec-deanna-templeton-fills-openai-board-observer-role-report\n",
      "https://news.bloomberglaw.com/artificial-intelligence/microsofts-answer-to-openai-inquiry-it-doesnt-own-a-stake\n",
      "http://www.openai.com/blog/openai-and-microsoft-extend-partnership\n",
      "https://www.bloomberg.com/news/articles/2024-01-05/microsoft-picks-dee-templeton-as-openai-board-observer\n",
      "https://www.windowscentral.com/microsoft/openai-sneaks-out-website-update-no-longer-lists-microsoft-as-minority-owner\n",
      "https://www.businessinsider.com/microsoft-mask-power-over-openai-sam-altman-antitrust-2023-12?op=1\n",
      "https://analyticsindiamag.com/microsofts-role-in-the-success-of-openai/\n",
      "https://news.sky.com/story/microsofts-multibillion-dollar-openai-partnership-examined-by-uk-watchdog-13025603\n",
      "https://techcrunch.com/2024/01/05/a-timeline-of-sam-altmans-firing-from-openai-and-the-fallout/\n",
      "https://finance.yahoo.com/news/microsoft-answer-openai-inquiry-doesn-211600451.html\n",
      "https://news.microsoft.com/2019/07/22/openai-forms-exclusive-computing-partnership-with-microsoft-to-build-new-azure-ai-supercomputing-technologies/\n",
      "https://finance.yahoo.com/news/microsofts-role-openai-eu-antitrust-141011791.html\n",
      "https://www.reuters.com/legal/microsoft-openai-hit-with-new-lawsuit-by-authors-over-ai-training-2024-01-05/\n",
      "https://www.bbc.com/news/technology-67826601\n",
      "https://learn.microsoft.com/en-us/azure/ai-services/openai/overview\n",
      "https://www.cnn.com/2023/12/27/tech/new-york-times-sues-openai-microsoft/index.html\n",
      "https://www.msn.com/en-us/money/careersandeducation/openai-welcomes-new-leadership-amid-strategic-partnerships-and-ai-advancements/ar-AA1k7YbI\n",
      "https://www.msn.com/en-us/money/other/microsoft-needs-a-better-seat-at-openai-s-table/ar-AA1kDsmb\n",
      "https://www.cnbc.com/2024/01/05/microsoft-openai-sued-over-copyright-infringement-by-authors.html\n",
      "https://www.washingtonpost.com/technology/2024/01/04/nyt-ai-copyright-lawsuit-fair-use/\n",
      "https://techcrunch.com/2024/01/06/this-week-in-ai-microsofts-sticks-an-ai-ad-on-keyboards/\n",
      "1.2975640296936035\n"
     ]
    }
   ],
   "source": [
    "\n",
    "\n",
    "start_time = time.time()\n",
    "await main()\n",
    "end_time = time.time()\n",
    "\n",
    "print(end_time - start_time)"
   ]
  },
  {
   "cell_type": "code",
   "execution_count": 42,
   "id": "fcd33164",
   "metadata": {},
   "outputs": [],
   "source": [
    "import asyncio\n",
    "import aiohttp\n",
    "from bs4 import BeautifulSoup\n",
    "import time\n",
    "\n",
    "async def fetch_url(session, query, max_links):\n",
    "    url = f\"https://duckduckgo.com/html?q={query}\"\n",
    "    headers = {\n",
    "        'User-Agent': 'Mozilla/5.0 (Windows NT 10.0; Win64; x64) AppleWebKit/537.36 (KHTML, like Gecko) Chrome/91.0.4472.124 Safari/537.36'\n",
    "    }\n",
    "\n",
    "    async with session.get(url, headers=headers) as response:\n",
    "        if response.status == 200:\n",
    "            html = await response.text()\n",
    "            soup = BeautifulSoup(html, 'html.parser')\n",
    "            links = [a['href'] for a in soup.find_all('a', class_='result__url')][:max_links]\n",
    "            return links\n",
    "        else:\n",
    "            print(f\"Error: {response.status}\")\n",
    "            return []\n",
    "\n",
    "async def get_links_from_queries(search_queries, max_links=4):\n",
    "    \"\"\"\n",
    "    Input:\n",
    "    search_queries [list] : list of search_quries\n",
    "    \n",
    "    Returns:\n",
    "    \n",
    "    \"\"\"\n",
    "    start_time = time.time()\n",
    "\n",
    "    # Add your search queries here\n",
    "    async with aiohttp.ClientSession() as session:\n",
    "        tasks = [fetch_url(session, query, max_links) for query in search_queries]\n",
    "        results = await asyncio.gather(*tasks)\n",
    "\n",
    "    for query, links in zip(search_queries, results):\n",
    "        if links:\n",
    "#             print(f\"Links for query '{query}':\")\n",
    "\n",
    "            return links\n",
    "        else:\n",
    "            print(f\"No links found for query '{query}'.\")\n",
    "\n",
    "\n",
    "\n",
    "\n"
   ]
  },
  {
   "cell_type": "code",
   "execution_count": 43,
   "id": "1f5ab1fc",
   "metadata": {},
   "outputs": [],
   "source": [
    "ans = await get_links_from_queries([\"Openai's recent drama\"])"
   ]
  },
  {
   "cell_type": "code",
   "execution_count": 47,
   "id": "9ffadb3a",
   "metadata": {},
   "outputs": [],
   "source": [
    "from researcher.search.duckduckgo import Duckduckgo"
   ]
  },
  {
   "cell_type": "code",
   "execution_count": 48,
   "id": "a1357f2c",
   "metadata": {},
   "outputs": [],
   "source": [
    "d = Duckduckgo('openais recent drama')"
   ]
  },
  {
   "cell_type": "code",
   "execution_count": 50,
   "id": "1ac7b2fb",
   "metadata": {},
   "outputs": [
    {
     "name": "stdout",
     "output_type": "stream",
     "text": [
      "{'title': 'The OpenAI Drama Has a Clear Winner: The Capitalists - The New York Times', 'href': 'https://www.nytimes.com/2023/11/22/technology/openai-board-capitalists.html', 'body': 'The OpenAI Drama Has a Clear Winner: The Capitalists - The New York Times Advertisement The Shift A.I. Belongs to the Capitalists Now The fight over OpenAI was at least partly about dueling...'}\n",
      "{'title': 'OpenAI drama continues: Sam Altman may be mulling a return to the company', 'href': 'https://www.cnn.com/2023/11/18/tech/openai-sam-altman-shakeup-what-happened/index.html', 'body': \"CNN — In a surprise twist after Friday's unexpected firing of OpenAI CEO Sam Altman, the artificial intelligence leader may be mulling a return. Multiple news reports, including the Wall Street...\"}\n",
      "{'title': \"Key Players in OpenAI's Boardroom Drama - The New York Times\", 'href': 'https://www.nytimes.com/2023/12/09/technology/openai-boardroom-key-players.html', 'body': \"Dec. 9, 2023 On Nov. 17, Silicon Valley tumbled into turmoil when Sam Altman, chief executive of the high-profile A.I. start-up OpenAI, was suddenly removed by the company's board of directors.\"}\n",
      "{'title': \"How OpenAI's origins explain the Sam Altman drama - NPR\", 'href': 'https://www.npr.org/2023/11/24/1215015362/chatgpt-openai-sam-altman-fired-explained', 'body': \"With his sudden return to OpenAI, Sam Altman becomes the latest 'boomerang CEO' But in 2018, two things happened: First, Musk quit the board of OpenAI after he said he invested $50 million,...\"}\n",
      "{'title': \"A Timeline of OpenAI's (Ongoing) Drama With Sam Altman - Yahoo Finance\", 'href': 'https://finance.yahoo.com/news/timeline-openais-ongoing-drama-sam-231839055.html', 'body': \"Justin Sullivan/Getty Images It has been a chaotic weekend at OpenAI, the company behind ChatGPT, with a whirlwind of events unfolding around Sam Altman, one of the company's cofounders and now...\"}\n"
     ]
    }
   ],
   "source": [
    "for i in d.search():\n",
    "    print(i)"
   ]
  },
  {
   "cell_type": "code",
   "execution_count": 44,
   "id": "c8e2882d",
   "metadata": {},
   "outputs": [
    {
     "data": {
      "text/plain": [
       "['https://www.npr.org/2023/11/24/1215015362/chatgpt-openai-sam-altman-fired-explained',\n",
       " 'https://www.nytimes.com/2023/11/22/technology/openai-board-capitalists.html',\n",
       " 'https://www.forbes.com/sites/digital-assets/2023/11/19/the-openai-drama-sam-altman-and-the-struggle-for-ais-future/',\n",
       " 'https://observer.com/2023/11/openai-sam-altman-leadership-shakeup/']"
      ]
     },
     "execution_count": 44,
     "metadata": {},
     "output_type": "execute_result"
    }
   ],
   "source": [
    "ans "
   ]
  },
  {
   "cell_type": "code",
   "execution_count": 30,
   "id": "ddb174df",
   "metadata": {},
   "outputs": [
    {
     "name": "stdout",
     "output_type": "stream",
     "text": [
      "Token Usage: CompletionUsage(completion_tokens=30, prompt_tokens=81, total_tokens=111)\n",
      "2.9458158016204834\n"
     ]
    }
   ],
   "source": [
    "start_time = time.time()\n",
    "ans = await get_sub_queries(\"Openai's recent drama\", \"research agent\", Config())\n",
    "\n",
    "end_time = time.time()\n",
    "\n",
    "print(end_time - start_time)"
   ]
  },
  {
   "cell_type": "code",
   "execution_count": 31,
   "id": "b1940129",
   "metadata": {},
   "outputs": [
    {
     "data": {
      "text/plain": [
       "['Openai recent controversy January 07, 2024',\n",
       " 'Openai criticism 2024',\n",
       " 'Openai public response to recent issues']"
      ]
     },
     "execution_count": 31,
     "metadata": {},
     "output_type": "execute_result"
    }
   ],
   "source": [
    "ans"
   ]
  },
  {
   "cell_type": "code",
   "execution_count": 2,
   "id": "30e2d6f1",
   "metadata": {},
   "outputs": [],
   "source": [
    "ans = Researcher('Openais recent drama')"
   ]
  },
  {
   "cell_type": "code",
   "execution_count": null,
   "id": "2fb0e868",
   "metadata": {},
   "outputs": [
    {
     "name": "stdout",
     "output_type": "stream",
     "text": [
      "📘 Starting research for query: Openais recent drama\n",
      "Token Usage: CompletionUsage(completion_tokens=64, prompt_tokens=350, total_tokens=414)\n",
      "Running 🤖 Technology News Agent ...\n",
      "Token Usage: CompletionUsage(completion_tokens=27, prompt_tokens=121, total_tokens=148)\n",
      "🔍 Searching web with query: OpenAI recent drama January 07, 2024\n",
      "✅ Adding url https://www.forbes.com/sites/jamesbroughel/2023/12/09/openai-is-now-unambiguously-profit-driven-and-thats-a-good-thing/ to our research\n",
      "✅ Adding url https://www.forbes.com/sites/rogertrapp/2023/11/28/drama-at-openai-poses-questions-for-venture-capital-industry/ to our research\n",
      "✅ Adding url https://www.msn.com/en-us/money/other/despite-drama-chatgpt-maker-openai-is-growing-revenue-at-a-rapid-pace/ar-AA1mmpll to our research\n",
      "✅ Adding url https://www.engadget.com/the-ftc-is-reportedly-looking-into-microsofts-13-billion-openai-investment-185201614.html to our research\n",
      "✅ Adding url https://www.forbes.com/sites/digital-assets/2023/11/19/the-openai-drama-sam-altman-and-the-struggle-for-ais-future/ to our research\n",
      "🔍 Searching web with query: OpenAI controversy 2024\n",
      "✅ Adding url https://www.reuters.com/legal/microsoft-openai-hit-with-new-lawsuit-by-authors-over-ai-training-2024-01-05/ to our research\n",
      "✅ Adding url https://www.businessinsider.com/experts-ai-in-2024-could-be-bad-news-for-openai-2023-12?op=1 to our research\n",
      "✅ Adding url https://www.cnn.com/2024/01/03/opinions/new-york-times-openai-microsoft-lawsuit-oconnor/index.html to our research\n",
      "✅ Adding url https://www.forbes.com/sites/cindygordon/2023/12/29/testing-ethical-boundaries-the-new-york-times-sues-microsoft-and-openai-on-copyright-concerns/ to our research\n",
      "✅ Adding url https://venturebeat.com/ai/why-nyt-vs-openai-will-be-the-copyright-fight-to-watch-in-2024-the-ai-beat/ to our research\n",
      "🔍 Searching web with query: OpenAI latest news\n",
      "✅ Adding url https://edition.cnn.com/2023/11/20/tech/openai-sam-altman-what-happened/index.html to our research\n",
      "✅ Adding url https://www.technologyreview.com/2023/12/14/1085344/openai-super-alignment-rogue-agi-gpt-4/ to our research\n",
      "✅ Adding url https://openai.com/blog/ to our research\n",
      "✅ Adding url https://www.reuters.com/technology/openai-talks-raise-new-funding-100-bln-valuation-bloomberg-news-2023-12-22/ to our research\n",
      "✅ Adding url https://openai.com/blog/sam-altman-returns-as-ceo-openai-has-a-new-initial-board to our research\n",
      "🔍 Searching web with query: Openais recent drama\n",
      "✅ Adding url https://www.npr.org/2023/11/24/1215015362/chatgpt-openai-sam-altman-fired-explained to our research\n",
      "✅ Adding url https://www.nytimes.com/2023/11/22/technology/openai-board-capitalists.html to our research\n",
      "✅ Adding url https://www.nytimes.com/2023/12/09/technology/openai-boardroom-key-players.html to our research\n",
      "✅ Adding url https://www.latimes.com/opinion/story/2023-11-29/openai-sam-altman-firing-chatgpt-artificial-intelligence to our research\n",
      "Total chunk count 38\n",
      "Generating Report...\n",
      "using 2000 words \n"
     ]
    }
   ],
   "source": [
    "new_ans = await ans.run()"
   ]
  },
  {
   "cell_type": "code",
   "execution_count": 57,
   "id": "c63e03af",
   "metadata": {},
   "outputs": [
    {
     "data": {
      "text/plain": [
       "\"# OpenAI's Recent Drama\\n\\nOpenAI, a prominent player in the artificial intelligence (AI) industry, has recently been embroiled in a dramatic series of events involving the firing and subsequent reinstatement of its CEO, Sam Altman. The unfolding crisis has sent shockwaves through the tech community and raised questions about the company's governance, strategic direction, and the potential impact on the development of AI technologies.\\n\\n## Background\\n\\nOpenAI, founded in 2015, initially positioned itself as a non-profit research lab with a mission to develop AI tools for the benefit of humanity, free from financial obligations. However, the company's recent actions have raised concerns about its adherence to these founding principles.\\n\\n## The Crisis Unfolds\\n\\nThe crisis at OpenAI began with the abrupt firing of CEO Sam Altman by the company's board of directors. The board cited Altman's alleged lack of candor in his communications with them as the reason for his dismissal. This move, which took place on November 17, 2023, sent shockwaves through the tech industry and raised questions about the company's internal dynamics and decision-making processes.\\n\\nThe firing of Altman was reportedly linked to a disagreement between him and OpenAI's chief scientist, Ilya Sutskever, regarding the company's strategic direction. Altman's purported push for aggressive development of AI technologies clashed with the board's desire for a more cautious approach, leading to a significant rift within the organization.\\n\\n## Reinstatement and Ongoing Developments\\n\\nIn a surprising turn of events, just days after his dismissal, reports emerged that the board was reconsidering its decision and was in discussions with Altman about his potential return to the company. This unexpected development has added further complexity to the situation and raised questions about the stability and leadership of OpenAI.\\n\\n## Impact on the AI Industry\\n\\nThe turmoil at OpenAI has not gone unnoticed within the AI industry. The company's high-profile status and its pivotal role in AI research and development have made its internal struggles a matter of significant interest and concern for industry stakeholders, investors, and the broader tech community.\\n\\n## Future Implications\\n\\nThe ongoing drama at OpenAI has the potential to have far-reaching implications for the company's future trajectory, its relationships with strategic partners such as Microsoft, and its ability to attract and retain top talent in the competitive AI landscape. The outcome of the crisis and the decisions made by the company's leadership in the coming months will likely shape the company's standing and influence in the AI industry.\\n\\n## Conclusion\\n\\nThe crisis at OpenAI involving the firing and potential reinstatement of CEO Sam Altman has brought to light the complexities and challenges inherent in navigating the intersection of technology, governance, and ethical considerations in the AI industry. The company's actions and decisions in the aftermath of this crisis will be closely watched and are likely to have a lasting impact on the company's reputation and its role in shaping the future of AI.\\n\\nIn conclusion, the events at OpenAI underscore the delicate balance between technological advancement and ethical responsibility in the development and deployment of AI technologies. The company's ability to navigate these challenges and emerge with a clear strategic direction will be closely monitored by industry observers and stakeholders.\\n\\nReferences:\\n- The Guardian. (2023, November 25). Sacking, revolt, return: how crisis at OpenAI over Sam Altman unfolded. [https://www.theguardian.com/technology/2023/nov/25/how-crisis-openai-sam-altman-unfolded]\\n- CNN Business. (2023, November 19). Firing of the CEO behind ChatGPT company sent shock waves through Silicon Valley – only for him to be reinstated days later. [https://edition.cnn.com/2023/11/19/tech/sam-altman-open-ai-firing-board/index.html]\\n- NPR. (2023, November 20). The messy human drama behind OpenAI. [https://www.npr.org/2023/11/20/1197958395/the-messy-human-drama-behind-openai]\\n- OpenAI Blog. (n.d.). OpenAI Blog. [https://openai.com/blog/]\\n- The Brookings Institution. (n.d.). The politics of AI: ChatGPT and political bias. [https://www.brookings.edu/articles/the-politics-of-ai-chatgpt-and-political-bias/]\\n- GitHub. (n.d.). OpenAI Python API library. [https://github.com/openai/openai-python]\\n- MIT Technology Review. (2023, December 14). OpenAI’s superalignment team is trying to keep GPT-4 in check. [https://www.technologyreview.com/2023/12/14/1085344/openai-super-alignment-rogue-agi-gpt-4/]\\n- Yahoo Finance. (n.d.). A Timeline of OpenAI's (Ongoing) Drama With Sam Altman. [https://finance.yahoo.com/news/timeline-openais-ongoing-drama-sam-231839055.html]\""
      ]
     },
     "execution_count": 57,
     "metadata": {},
     "output_type": "execute_result"
    }
   ],
   "source": [
    "new_ans"
   ]
  },
  {
   "cell_type": "code",
   "execution_count": null,
   "id": "39f9a271",
   "metadata": {},
   "outputs": [],
   "source": [
    "response = openai.Completion.create(\n",
    "    # Other stuff...\n",
    "    stream=True,\n",
    ")\n",
    "try:\n",
    "    for stream_resp in response:\n",
    "        # Do stuff...\n",
    "        if thing_happens:\n",
    "          break\n",
    "except Exception as e:\n",
    "    print(e)\n",
    "finally:\n",
    "    response.close()"
   ]
  },
  {
   "cell_type": "code",
   "execution_count": 7,
   "id": "45767214",
   "metadata": {},
   "outputs": [
    {
     "name": "stdout",
     "output_type": "stream",
     "text": [
      "········\n"
     ]
    }
   ],
   "source": [
    "from getpass import getpass\n",
    "\n",
    "key = getpass()"
   ]
  },
  {
   "cell_type": "code",
   "execution_count": 26,
   "id": "162825e6",
   "metadata": {},
   "outputs": [],
   "source": [
    "from openai import AsyncOpenAI\n",
    "from dotenv import load_dotenv\n",
    "import os\n",
    "load_dotenv()\n",
    "\n",
    "client = AsyncOpenAI(api_key=key)"
   ]
  },
  {
   "cell_type": "code",
   "execution_count": null,
   "id": "4ecee0b4",
   "metadata": {},
   "outputs": [],
   "source": []
  },
  {
   "cell_type": "code",
   "execution_count": 45,
   "id": "f252c6e9",
   "metadata": {},
   "outputs": [
    {
     "name": "stdout",
     "output_type": "stream",
     "text": [
      "<openai.AsyncOpenAI object at 0x109eafe80>\n"
     ]
    }
   ],
   "source": [
    "print(client)"
   ]
  },
  {
   "cell_type": "code",
   "execution_count": 46,
   "id": "9cb5230c",
   "metadata": {},
   "outputs": [
    {
     "data": {
      "text/plain": [
       "<coroutine object AsyncAPIClient.close at 0x10a5e94c0>"
      ]
     },
     "execution_count": 46,
     "metadata": {},
     "output_type": "execute_result"
    }
   ],
   "source": [
    "client.close()"
   ]
  },
  {
   "cell_type": "code",
   "execution_count": 48,
   "id": "1ead3724",
   "metadata": {},
   "outputs": [],
   "source": []
  },
  {
   "cell_type": "code",
   "execution_count": null,
   "id": "3db646a5",
   "metadata": {},
   "outputs": [],
   "source": []
  },
  {
   "cell_type": "code",
   "execution_count": 54,
   "id": "4a369a16",
   "metadata": {},
   "outputs": [],
   "source": [
    "async def stream_checking():\n",
    "    \n",
    "    client = AsyncOpenAI(api_key=key)\n",
    "    \n",
    "    try:\n",
    "        \n",
    "    \n",
    "        messages=[\n",
    "                    {\"role\": \"system\", \"content\": f\"you are an ai assistant\"},\n",
    "                    {\n",
    "                        \"role\": \"user\",\n",
    "                        \"content\": f\"generate detailed format about openai\",\n",
    "                    },\n",
    "                ]\n",
    "        response = await client.chat.completions.create(\n",
    "            model='gpt-3.5-turbo',\n",
    "            messages=messages,\n",
    "            stream=True,\n",
    "        )\n",
    "\n",
    "        all_content = \"\"\n",
    "        async for chunk in response:\n",
    "            content = chunk.choices[0].delta.content\n",
    "            finish_reason = chunk.choices[0].finish_reason\n",
    "            # print(\"haha\", content)\n",
    "            print(content)\n",
    "            # if content:\n",
    "            # all_content += content\n",
    "            if content:\n",
    "                all_content += content\n",
    "            yield all_content\n",
    "            \n",
    "    except Exception as e:\n",
    "            print(e)\n",
    "        \n",
    "\n",
    "            \n",
    "    "
   ]
  },
  {
   "cell_type": "code",
   "execution_count": null,
   "id": "5a494258",
   "metadata": {},
   "outputs": [],
   "source": [
    "finally:\n",
    "    await client.close()\n",
    "    print('gg')"
   ]
  },
  {
   "cell_type": "code",
   "execution_count": 55,
   "id": "0e690d32",
   "metadata": {},
   "outputs": [
    {
     "name": "stdout",
     "output_type": "stream",
     "text": [
      "\n",
      "\n",
      "Title\n",
      "Title\n",
      ":\n",
      "Title:\n",
      " Detailed\n",
      "Title: Detailed\n",
      " Format\n",
      "Title: Detailed Format\n",
      " on\n",
      "Title: Detailed Format on\n",
      " Open\n",
      "Title: Detailed Format on Open\n",
      "AI\n",
      "Title: Detailed Format on OpenAI\n",
      "\n",
      "\n",
      "\n",
      "Title: Detailed Format on OpenAI\n",
      "\n",
      "\n",
      "Introduction\n",
      "Title: Detailed Format on OpenAI\n",
      "\n",
      "Introduction\n",
      ":\n",
      "\n",
      "Title: Detailed Format on OpenAI\n",
      "\n",
      "Introduction:\n",
      "\n",
      "Open\n",
      "Title: Detailed Format on OpenAI\n",
      "\n",
      "Introduction:\n",
      "Open\n",
      "AI\n",
      "Title: Detailed Format on OpenAI\n",
      "\n",
      "Introduction:\n",
      "OpenAI\n",
      " is\n",
      "Title: Detailed Format on OpenAI\n",
      "\n",
      "Introduction:\n",
      "OpenAI is\n",
      " an\n",
      "Title: Detailed Format on OpenAI\n",
      "\n",
      "Introduction:\n",
      "OpenAI is an\n",
      " advanced\n",
      "Title: Detailed Format on OpenAI\n",
      "\n",
      "Introduction:\n",
      "OpenAI is an advanced\n",
      " artificial\n",
      "Title: Detailed Format on OpenAI\n",
      "\n",
      "Introduction:\n",
      "OpenAI is an advanced artificial\n",
      " intelligence\n",
      "Title: Detailed Format on OpenAI\n",
      "\n",
      "Introduction:\n",
      "OpenAI is an advanced artificial intelligence\n",
      " research\n",
      "Title: Detailed Format on OpenAI\n",
      "\n",
      "Introduction:\n",
      "OpenAI is an advanced artificial intelligence research\n",
      " laboratory\n",
      "Title: Detailed Format on OpenAI\n",
      "\n",
      "Introduction:\n",
      "OpenAI is an advanced artificial intelligence research laboratory\n",
      " and\n",
      "Title: Detailed Format on OpenAI\n",
      "\n",
      "Introduction:\n",
      "OpenAI is an advanced artificial intelligence research laboratory and\n",
      " technology\n",
      "Title: Detailed Format on OpenAI\n",
      "\n",
      "Introduction:\n",
      "OpenAI is an advanced artificial intelligence research laboratory and technology\n",
      " company\n",
      "Title: Detailed Format on OpenAI\n",
      "\n",
      "Introduction:\n",
      "OpenAI is an advanced artificial intelligence research laboratory and technology company\n",
      " that\n",
      "Title: Detailed Format on OpenAI\n",
      "\n",
      "Introduction:\n",
      "OpenAI is an advanced artificial intelligence research laboratory and technology company that\n",
      " aims\n",
      "Title: Detailed Format on OpenAI\n",
      "\n",
      "Introduction:\n",
      "OpenAI is an advanced artificial intelligence research laboratory and technology company that aims\n",
      " to\n",
      "Title: Detailed Format on OpenAI\n",
      "\n",
      "Introduction:\n",
      "OpenAI is an advanced artificial intelligence research laboratory and technology company that aims to\n",
      " ensure\n",
      "Title: Detailed Format on OpenAI\n",
      "\n",
      "Introduction:\n",
      "OpenAI is an advanced artificial intelligence research laboratory and technology company that aims to ensure\n",
      " that\n",
      "Title: Detailed Format on OpenAI\n",
      "\n",
      "Introduction:\n",
      "OpenAI is an advanced artificial intelligence research laboratory and technology company that aims to ensure that\n",
      " artificial\n",
      "Title: Detailed Format on OpenAI\n",
      "\n",
      "Introduction:\n",
      "OpenAI is an advanced artificial intelligence research laboratory and technology company that aims to ensure that artificial\n",
      " general\n",
      "Title: Detailed Format on OpenAI\n",
      "\n",
      "Introduction:\n",
      "OpenAI is an advanced artificial intelligence research laboratory and technology company that aims to ensure that artificial general\n",
      " intelligence\n",
      "Title: Detailed Format on OpenAI\n",
      "\n",
      "Introduction:\n",
      "OpenAI is an advanced artificial intelligence research laboratory and technology company that aims to ensure that artificial general intelligence\n",
      " (\n",
      "Title: Detailed Format on OpenAI\n",
      "\n",
      "Introduction:\n",
      "OpenAI is an advanced artificial intelligence research laboratory and technology company that aims to ensure that artificial general intelligence (\n",
      "AG\n",
      "Title: Detailed Format on OpenAI\n",
      "\n",
      "Introduction:\n",
      "OpenAI is an advanced artificial intelligence research laboratory and technology company that aims to ensure that artificial general intelligence (AG\n",
      "I\n",
      "Title: Detailed Format on OpenAI\n",
      "\n",
      "Introduction:\n",
      "OpenAI is an advanced artificial intelligence research laboratory and technology company that aims to ensure that artificial general intelligence (AGI\n",
      ")\n",
      "Title: Detailed Format on OpenAI\n",
      "\n",
      "Introduction:\n",
      "OpenAI is an advanced artificial intelligence research laboratory and technology company that aims to ensure that artificial general intelligence (AGI)\n",
      " benefits\n",
      "Title: Detailed Format on OpenAI\n",
      "\n",
      "Introduction:\n",
      "OpenAI is an advanced artificial intelligence research laboratory and technology company that aims to ensure that artificial general intelligence (AGI) benefits\n",
      " all\n",
      "Title: Detailed Format on OpenAI\n",
      "\n",
      "Introduction:\n",
      "OpenAI is an advanced artificial intelligence research laboratory and technology company that aims to ensure that artificial general intelligence (AGI) benefits all\n",
      " of\n",
      "Title: Detailed Format on OpenAI\n",
      "\n",
      "Introduction:\n",
      "OpenAI is an advanced artificial intelligence research laboratory and technology company that aims to ensure that artificial general intelligence (AGI) benefits all of\n",
      " humanity\n",
      "Title: Detailed Format on OpenAI\n",
      "\n",
      "Introduction:\n",
      "OpenAI is an advanced artificial intelligence research laboratory and technology company that aims to ensure that artificial general intelligence (AGI) benefits all of humanity\n",
      ".\n",
      "Title: Detailed Format on OpenAI\n",
      "\n",
      "Introduction:\n",
      "OpenAI is an advanced artificial intelligence research laboratory and technology company that aims to ensure that artificial general intelligence (AGI) benefits all of humanity.\n",
      " With\n",
      "Title: Detailed Format on OpenAI\n",
      "\n",
      "Introduction:\n",
      "OpenAI is an advanced artificial intelligence research laboratory and technology company that aims to ensure that artificial general intelligence (AGI) benefits all of humanity. With\n",
      " a\n",
      "Title: Detailed Format on OpenAI\n",
      "\n",
      "Introduction:\n",
      "OpenAI is an advanced artificial intelligence research laboratory and technology company that aims to ensure that artificial general intelligence (AGI) benefits all of humanity. With a\n",
      " mission\n",
      "Title: Detailed Format on OpenAI\n",
      "\n",
      "Introduction:\n",
      "OpenAI is an advanced artificial intelligence research laboratory and technology company that aims to ensure that artificial general intelligence (AGI) benefits all of humanity. With a mission\n",
      " to\n",
      "Title: Detailed Format on OpenAI\n",
      "\n",
      "Introduction:\n",
      "OpenAI is an advanced artificial intelligence research laboratory and technology company that aims to ensure that artificial general intelligence (AGI) benefits all of humanity. With a mission to\n",
      " build\n",
      "Title: Detailed Format on OpenAI\n",
      "\n",
      "Introduction:\n",
      "OpenAI is an advanced artificial intelligence research laboratory and technology company that aims to ensure that artificial general intelligence (AGI) benefits all of humanity. With a mission to build\n",
      " safe\n",
      "Title: Detailed Format on OpenAI\n",
      "\n",
      "Introduction:\n",
      "OpenAI is an advanced artificial intelligence research laboratory and technology company that aims to ensure that artificial general intelligence (AGI) benefits all of humanity. With a mission to build safe\n",
      " and\n",
      "Title: Detailed Format on OpenAI\n",
      "\n",
      "Introduction:\n",
      "OpenAI is an advanced artificial intelligence research laboratory and technology company that aims to ensure that artificial general intelligence (AGI) benefits all of humanity. With a mission to build safe and\n",
      " beneficial\n",
      "Title: Detailed Format on OpenAI\n",
      "\n",
      "Introduction:\n",
      "OpenAI is an advanced artificial intelligence research laboratory and technology company that aims to ensure that artificial general intelligence (AGI) benefits all of humanity. With a mission to build safe and beneficial\n",
      " AG\n",
      "Title: Detailed Format on OpenAI\n",
      "\n",
      "Introduction:\n",
      "OpenAI is an advanced artificial intelligence research laboratory and technology company that aims to ensure that artificial general intelligence (AGI) benefits all of humanity. With a mission to build safe and beneficial AG\n",
      "gg\n"
     ]
    },
    {
     "ename": "CancelledError",
     "evalue": "",
     "output_type": "error",
     "traceback": [
      "\u001b[0;31m---------------------------------------------------------------------------\u001b[0m",
      "\u001b[0;31mSSLWantReadError\u001b[0m                          Traceback (most recent call last)",
      "File \u001b[0;32m~/anaconda3/envs/okprofessor/lib/python3.9/site-packages/anyio/streams/tls.py:131\u001b[0m, in \u001b[0;36mTLSStream._call_sslobject_method\u001b[0;34m(self, func, *args)\u001b[0m\n\u001b[1;32m    130\u001b[0m \u001b[38;5;28;01mtry\u001b[39;00m:\n\u001b[0;32m--> 131\u001b[0m     result \u001b[38;5;241m=\u001b[39m \u001b[43mfunc\u001b[49m\u001b[43m(\u001b[49m\u001b[38;5;241;43m*\u001b[39;49m\u001b[43margs\u001b[49m\u001b[43m)\u001b[49m\n\u001b[1;32m    132\u001b[0m \u001b[38;5;28;01mexcept\u001b[39;00m ssl\u001b[38;5;241m.\u001b[39mSSLWantReadError:\n",
      "File \u001b[0;32m~/anaconda3/envs/okprofessor/lib/python3.9/ssl.py:889\u001b[0m, in \u001b[0;36mSSLObject.read\u001b[0;34m(self, len, buffer)\u001b[0m\n\u001b[1;32m    888\u001b[0m \u001b[38;5;28;01melse\u001b[39;00m:\n\u001b[0;32m--> 889\u001b[0m     v \u001b[38;5;241m=\u001b[39m \u001b[38;5;28;43mself\u001b[39;49m\u001b[38;5;241;43m.\u001b[39;49m\u001b[43m_sslobj\u001b[49m\u001b[38;5;241;43m.\u001b[39;49m\u001b[43mread\u001b[49m\u001b[43m(\u001b[49m\u001b[38;5;28;43mlen\u001b[39;49m\u001b[43m)\u001b[49m\n\u001b[1;32m    890\u001b[0m \u001b[38;5;28;01mreturn\u001b[39;00m v\n",
      "\u001b[0;31mSSLWantReadError\u001b[0m: The operation did not complete (read) (_ssl.c:2633)",
      "\nDuring handling of the above exception, another exception occurred:\n",
      "\u001b[0;31mCancelledError\u001b[0m                            Traceback (most recent call last)",
      "Cell \u001b[0;32mIn[55], line 1\u001b[0m\n\u001b[0;32m----> 1\u001b[0m \u001b[38;5;28;01masync\u001b[39;00m \u001b[38;5;28;01mfor\u001b[39;00m result \u001b[38;5;129;01min\u001b[39;00m stream_checking():\n\u001b[1;32m      2\u001b[0m     \u001b[38;5;66;03m# Process the streaming result\u001b[39;00m\n\u001b[1;32m      3\u001b[0m     \u001b[38;5;28mprint\u001b[39m(result)\n",
      "Cell \u001b[0;32mIn[54], line 22\u001b[0m, in \u001b[0;36mstream_checking\u001b[0;34m()\u001b[0m\n\u001b[1;32m     15\u001b[0m response \u001b[38;5;241m=\u001b[39m \u001b[38;5;28;01mawait\u001b[39;00m client\u001b[38;5;241m.\u001b[39mchat\u001b[38;5;241m.\u001b[39mcompletions\u001b[38;5;241m.\u001b[39mcreate(\n\u001b[1;32m     16\u001b[0m     model\u001b[38;5;241m=\u001b[39m\u001b[38;5;124m'\u001b[39m\u001b[38;5;124mgpt-3.5-turbo\u001b[39m\u001b[38;5;124m'\u001b[39m,\n\u001b[1;32m     17\u001b[0m     messages\u001b[38;5;241m=\u001b[39mmessages,\n\u001b[1;32m     18\u001b[0m     stream\u001b[38;5;241m=\u001b[39m\u001b[38;5;28;01mTrue\u001b[39;00m,\n\u001b[1;32m     19\u001b[0m )\n\u001b[1;32m     21\u001b[0m all_content \u001b[38;5;241m=\u001b[39m \u001b[38;5;124m\"\u001b[39m\u001b[38;5;124m\"\u001b[39m\n\u001b[0;32m---> 22\u001b[0m \u001b[38;5;28;01masync\u001b[39;00m \u001b[38;5;28;01mfor\u001b[39;00m chunk \u001b[38;5;129;01min\u001b[39;00m response:\n\u001b[1;32m     23\u001b[0m     content \u001b[38;5;241m=\u001b[39m chunk\u001b[38;5;241m.\u001b[39mchoices[\u001b[38;5;241m0\u001b[39m]\u001b[38;5;241m.\u001b[39mdelta\u001b[38;5;241m.\u001b[39mcontent\n\u001b[1;32m     24\u001b[0m     finish_reason \u001b[38;5;241m=\u001b[39m chunk\u001b[38;5;241m.\u001b[39mchoices[\u001b[38;5;241m0\u001b[39m]\u001b[38;5;241m.\u001b[39mfinish_reason\n",
      "File \u001b[0;32m~/anaconda3/envs/okprofessor/lib/python3.9/site-packages/openai/_streaming.py:94\u001b[0m, in \u001b[0;36mAsyncStream.__aiter__\u001b[0;34m(self)\u001b[0m\n\u001b[1;32m     93\u001b[0m \u001b[38;5;28;01masync\u001b[39;00m \u001b[38;5;28;01mdef\u001b[39;00m \u001b[38;5;21m__aiter__\u001b[39m(\u001b[38;5;28mself\u001b[39m) \u001b[38;5;241m-\u001b[39m\u001b[38;5;241m>\u001b[39m AsyncIterator[ResponseT]:\n\u001b[0;32m---> 94\u001b[0m     \u001b[38;5;28;01masync\u001b[39;00m \u001b[38;5;28;01mfor\u001b[39;00m item \u001b[38;5;129;01min\u001b[39;00m \u001b[38;5;28mself\u001b[39m\u001b[38;5;241m.\u001b[39m_iterator:\n\u001b[1;32m     95\u001b[0m         \u001b[38;5;28;01myield\u001b[39;00m item\n",
      "File \u001b[0;32m~/anaconda3/envs/okprofessor/lib/python3.9/site-packages/openai/_streaming.py:107\u001b[0m, in \u001b[0;36mAsyncStream.__stream__\u001b[0;34m(self)\u001b[0m\n\u001b[1;32m    104\u001b[0m process_data \u001b[38;5;241m=\u001b[39m \u001b[38;5;28mself\u001b[39m\u001b[38;5;241m.\u001b[39m_client\u001b[38;5;241m.\u001b[39m_process_response_data\n\u001b[1;32m    105\u001b[0m iterator \u001b[38;5;241m=\u001b[39m \u001b[38;5;28mself\u001b[39m\u001b[38;5;241m.\u001b[39m_iter_events()\n\u001b[0;32m--> 107\u001b[0m \u001b[38;5;28;01masync\u001b[39;00m \u001b[38;5;28;01mfor\u001b[39;00m sse \u001b[38;5;129;01min\u001b[39;00m iterator:\n\u001b[1;32m    108\u001b[0m     \u001b[38;5;28;01mif\u001b[39;00m sse\u001b[38;5;241m.\u001b[39mdata\u001b[38;5;241m.\u001b[39mstartswith(\u001b[38;5;124m\"\u001b[39m\u001b[38;5;124m[DONE]\u001b[39m\u001b[38;5;124m\"\u001b[39m):\n\u001b[1;32m    109\u001b[0m         \u001b[38;5;28;01mbreak\u001b[39;00m\n",
      "File \u001b[0;32m~/anaconda3/envs/okprofessor/lib/python3.9/site-packages/openai/_streaming.py:98\u001b[0m, in \u001b[0;36mAsyncStream._iter_events\u001b[0;34m(self)\u001b[0m\n\u001b[1;32m     97\u001b[0m \u001b[38;5;28;01masync\u001b[39;00m \u001b[38;5;28;01mdef\u001b[39;00m \u001b[38;5;21m_iter_events\u001b[39m(\u001b[38;5;28mself\u001b[39m) \u001b[38;5;241m-\u001b[39m\u001b[38;5;241m>\u001b[39m AsyncIterator[ServerSentEvent]:\n\u001b[0;32m---> 98\u001b[0m     \u001b[38;5;28;01masync\u001b[39;00m \u001b[38;5;28;01mfor\u001b[39;00m sse \u001b[38;5;129;01min\u001b[39;00m \u001b[38;5;28mself\u001b[39m\u001b[38;5;241m.\u001b[39m_decoder\u001b[38;5;241m.\u001b[39maiter(\u001b[38;5;28mself\u001b[39m\u001b[38;5;241m.\u001b[39mresponse\u001b[38;5;241m.\u001b[39maiter_lines()):\n\u001b[1;32m     99\u001b[0m         \u001b[38;5;28;01myield\u001b[39;00m sse\n",
      "File \u001b[0;32m~/anaconda3/envs/okprofessor/lib/python3.9/site-packages/openai/_streaming.py:190\u001b[0m, in \u001b[0;36mSSEDecoder.aiter\u001b[0;34m(self, iterator)\u001b[0m\n\u001b[1;32m    188\u001b[0m \u001b[38;5;28;01masync\u001b[39;00m \u001b[38;5;28;01mdef\u001b[39;00m \u001b[38;5;21maiter\u001b[39m(\u001b[38;5;28mself\u001b[39m, iterator: AsyncIterator[\u001b[38;5;28mstr\u001b[39m]) \u001b[38;5;241m-\u001b[39m\u001b[38;5;241m>\u001b[39m AsyncIterator[ServerSentEvent]:\n\u001b[1;32m    189\u001b[0m \u001b[38;5;250m    \u001b[39m\u001b[38;5;124;03m\"\"\"Given an async iterator that yields lines, iterate over it & yield every event encountered\"\"\"\u001b[39;00m\n\u001b[0;32m--> 190\u001b[0m     \u001b[38;5;28;01masync\u001b[39;00m \u001b[38;5;28;01mfor\u001b[39;00m line \u001b[38;5;129;01min\u001b[39;00m iterator:\n\u001b[1;32m    191\u001b[0m         line \u001b[38;5;241m=\u001b[39m line\u001b[38;5;241m.\u001b[39mrstrip(\u001b[38;5;124m\"\u001b[39m\u001b[38;5;130;01m\\n\u001b[39;00m\u001b[38;5;124m\"\u001b[39m)\n\u001b[1;32m    192\u001b[0m         sse \u001b[38;5;241m=\u001b[39m \u001b[38;5;28mself\u001b[39m\u001b[38;5;241m.\u001b[39mdecode(line)\n",
      "File \u001b[0;32m~/anaconda3/envs/okprofessor/lib/python3.9/site-packages/httpx/_models.py:966\u001b[0m, in \u001b[0;36mResponse.aiter_lines\u001b[0;34m(self)\u001b[0m\n\u001b[1;32m    964\u001b[0m decoder \u001b[38;5;241m=\u001b[39m LineDecoder()\n\u001b[1;32m    965\u001b[0m \u001b[38;5;28;01mwith\u001b[39;00m request_context(request\u001b[38;5;241m=\u001b[39m\u001b[38;5;28mself\u001b[39m\u001b[38;5;241m.\u001b[39m_request):\n\u001b[0;32m--> 966\u001b[0m     \u001b[38;5;28;01masync\u001b[39;00m \u001b[38;5;28;01mfor\u001b[39;00m text \u001b[38;5;129;01min\u001b[39;00m \u001b[38;5;28mself\u001b[39m\u001b[38;5;241m.\u001b[39maiter_text():\n\u001b[1;32m    967\u001b[0m         \u001b[38;5;28;01mfor\u001b[39;00m line \u001b[38;5;129;01min\u001b[39;00m decoder\u001b[38;5;241m.\u001b[39mdecode(text):\n\u001b[1;32m    968\u001b[0m             \u001b[38;5;28;01myield\u001b[39;00m line\n",
      "File \u001b[0;32m~/anaconda3/envs/okprofessor/lib/python3.9/site-packages/httpx/_models.py:953\u001b[0m, in \u001b[0;36mResponse.aiter_text\u001b[0;34m(self, chunk_size)\u001b[0m\n\u001b[1;32m    951\u001b[0m chunker \u001b[38;5;241m=\u001b[39m TextChunker(chunk_size\u001b[38;5;241m=\u001b[39mchunk_size)\n\u001b[1;32m    952\u001b[0m \u001b[38;5;28;01mwith\u001b[39;00m request_context(request\u001b[38;5;241m=\u001b[39m\u001b[38;5;28mself\u001b[39m\u001b[38;5;241m.\u001b[39m_request):\n\u001b[0;32m--> 953\u001b[0m     \u001b[38;5;28;01masync\u001b[39;00m \u001b[38;5;28;01mfor\u001b[39;00m byte_content \u001b[38;5;129;01min\u001b[39;00m \u001b[38;5;28mself\u001b[39m\u001b[38;5;241m.\u001b[39maiter_bytes():\n\u001b[1;32m    954\u001b[0m         text_content \u001b[38;5;241m=\u001b[39m decoder\u001b[38;5;241m.\u001b[39mdecode(byte_content)\n\u001b[1;32m    955\u001b[0m         \u001b[38;5;28;01mfor\u001b[39;00m chunk \u001b[38;5;129;01min\u001b[39;00m chunker\u001b[38;5;241m.\u001b[39mdecode(text_content):\n",
      "File \u001b[0;32m~/anaconda3/envs/okprofessor/lib/python3.9/site-packages/httpx/_models.py:932\u001b[0m, in \u001b[0;36mResponse.aiter_bytes\u001b[0;34m(self, chunk_size)\u001b[0m\n\u001b[1;32m    930\u001b[0m chunker \u001b[38;5;241m=\u001b[39m ByteChunker(chunk_size\u001b[38;5;241m=\u001b[39mchunk_size)\n\u001b[1;32m    931\u001b[0m \u001b[38;5;28;01mwith\u001b[39;00m request_context(request\u001b[38;5;241m=\u001b[39m\u001b[38;5;28mself\u001b[39m\u001b[38;5;241m.\u001b[39m_request):\n\u001b[0;32m--> 932\u001b[0m     \u001b[38;5;28;01masync\u001b[39;00m \u001b[38;5;28;01mfor\u001b[39;00m raw_bytes \u001b[38;5;129;01min\u001b[39;00m \u001b[38;5;28mself\u001b[39m\u001b[38;5;241m.\u001b[39maiter_raw():\n\u001b[1;32m    933\u001b[0m         decoded \u001b[38;5;241m=\u001b[39m decoder\u001b[38;5;241m.\u001b[39mdecode(raw_bytes)\n\u001b[1;32m    934\u001b[0m         \u001b[38;5;28;01mfor\u001b[39;00m chunk \u001b[38;5;129;01min\u001b[39;00m chunker\u001b[38;5;241m.\u001b[39mdecode(decoded):\n",
      "File \u001b[0;32m~/anaconda3/envs/okprofessor/lib/python3.9/site-packages/httpx/_models.py:990\u001b[0m, in \u001b[0;36mResponse.aiter_raw\u001b[0;34m(self, chunk_size)\u001b[0m\n\u001b[1;32m    987\u001b[0m chunker \u001b[38;5;241m=\u001b[39m ByteChunker(chunk_size\u001b[38;5;241m=\u001b[39mchunk_size)\n\u001b[1;32m    989\u001b[0m \u001b[38;5;28;01mwith\u001b[39;00m request_context(request\u001b[38;5;241m=\u001b[39m\u001b[38;5;28mself\u001b[39m\u001b[38;5;241m.\u001b[39m_request):\n\u001b[0;32m--> 990\u001b[0m     \u001b[38;5;28;01masync\u001b[39;00m \u001b[38;5;28;01mfor\u001b[39;00m raw_stream_bytes \u001b[38;5;129;01min\u001b[39;00m \u001b[38;5;28mself\u001b[39m\u001b[38;5;241m.\u001b[39mstream:\n\u001b[1;32m    991\u001b[0m         \u001b[38;5;28mself\u001b[39m\u001b[38;5;241m.\u001b[39m_num_bytes_downloaded \u001b[38;5;241m+\u001b[39m\u001b[38;5;241m=\u001b[39m \u001b[38;5;28mlen\u001b[39m(raw_stream_bytes)\n\u001b[1;32m    992\u001b[0m         \u001b[38;5;28;01mfor\u001b[39;00m chunk \u001b[38;5;129;01min\u001b[39;00m chunker\u001b[38;5;241m.\u001b[39mdecode(raw_stream_bytes):\n",
      "File \u001b[0;32m~/anaconda3/envs/okprofessor/lib/python3.9/site-packages/httpx/_client.py:146\u001b[0m, in \u001b[0;36mBoundAsyncStream.__aiter__\u001b[0;34m(self)\u001b[0m\n\u001b[1;32m    145\u001b[0m \u001b[38;5;28;01masync\u001b[39;00m \u001b[38;5;28;01mdef\u001b[39;00m \u001b[38;5;21m__aiter__\u001b[39m(\u001b[38;5;28mself\u001b[39m) \u001b[38;5;241m-\u001b[39m\u001b[38;5;241m>\u001b[39m typing\u001b[38;5;241m.\u001b[39mAsyncIterator[\u001b[38;5;28mbytes\u001b[39m]:\n\u001b[0;32m--> 146\u001b[0m     \u001b[38;5;28;01masync\u001b[39;00m \u001b[38;5;28;01mfor\u001b[39;00m chunk \u001b[38;5;129;01min\u001b[39;00m \u001b[38;5;28mself\u001b[39m\u001b[38;5;241m.\u001b[39m_stream:\n\u001b[1;32m    147\u001b[0m         \u001b[38;5;28;01myield\u001b[39;00m chunk\n",
      "File \u001b[0;32m~/anaconda3/envs/okprofessor/lib/python3.9/site-packages/httpx/_transports/default.py:249\u001b[0m, in \u001b[0;36mAsyncResponseStream.__aiter__\u001b[0;34m(self)\u001b[0m\n\u001b[1;32m    247\u001b[0m \u001b[38;5;28;01masync\u001b[39;00m \u001b[38;5;28;01mdef\u001b[39;00m \u001b[38;5;21m__aiter__\u001b[39m(\u001b[38;5;28mself\u001b[39m) \u001b[38;5;241m-\u001b[39m\u001b[38;5;241m>\u001b[39m typing\u001b[38;5;241m.\u001b[39mAsyncIterator[\u001b[38;5;28mbytes\u001b[39m]:\n\u001b[1;32m    248\u001b[0m     \u001b[38;5;28;01mwith\u001b[39;00m map_httpcore_exceptions():\n\u001b[0;32m--> 249\u001b[0m         \u001b[38;5;28;01masync\u001b[39;00m \u001b[38;5;28;01mfor\u001b[39;00m part \u001b[38;5;129;01min\u001b[39;00m \u001b[38;5;28mself\u001b[39m\u001b[38;5;241m.\u001b[39m_httpcore_stream:\n\u001b[1;32m    250\u001b[0m             \u001b[38;5;28;01myield\u001b[39;00m part\n",
      "File \u001b[0;32m~/anaconda3/envs/okprofessor/lib/python3.9/site-packages/httpcore/_async/connection_pool.py:361\u001b[0m, in \u001b[0;36mConnectionPoolByteStream.__aiter__\u001b[0;34m(self)\u001b[0m\n\u001b[1;32m    360\u001b[0m \u001b[38;5;28;01masync\u001b[39;00m \u001b[38;5;28;01mdef\u001b[39;00m \u001b[38;5;21m__aiter__\u001b[39m(\u001b[38;5;28mself\u001b[39m) \u001b[38;5;241m-\u001b[39m\u001b[38;5;241m>\u001b[39m AsyncIterator[\u001b[38;5;28mbytes\u001b[39m]:\n\u001b[0;32m--> 361\u001b[0m     \u001b[38;5;28;01masync\u001b[39;00m \u001b[38;5;28;01mfor\u001b[39;00m part \u001b[38;5;129;01min\u001b[39;00m \u001b[38;5;28mself\u001b[39m\u001b[38;5;241m.\u001b[39m_stream:\n\u001b[1;32m    362\u001b[0m         \u001b[38;5;28;01myield\u001b[39;00m part\n",
      "File \u001b[0;32m~/anaconda3/envs/okprofessor/lib/python3.9/site-packages/httpcore/_async/http11.py:337\u001b[0m, in \u001b[0;36mHTTP11ConnectionByteStream.__aiter__\u001b[0;34m(self)\u001b[0m\n\u001b[1;32m    335\u001b[0m \u001b[38;5;28;01mwith\u001b[39;00m AsyncShieldCancellation():\n\u001b[1;32m    336\u001b[0m     \u001b[38;5;28;01mawait\u001b[39;00m \u001b[38;5;28mself\u001b[39m\u001b[38;5;241m.\u001b[39maclose()\n\u001b[0;32m--> 337\u001b[0m \u001b[38;5;28;01mraise\u001b[39;00m exc\n",
      "File \u001b[0;32m~/anaconda3/envs/okprofessor/lib/python3.9/site-packages/httpcore/_async/http11.py:329\u001b[0m, in \u001b[0;36mHTTP11ConnectionByteStream.__aiter__\u001b[0;34m(self)\u001b[0m\n\u001b[1;32m    327\u001b[0m \u001b[38;5;28;01mtry\u001b[39;00m:\n\u001b[1;32m    328\u001b[0m     \u001b[38;5;28;01masync\u001b[39;00m \u001b[38;5;28;01mwith\u001b[39;00m Trace(\u001b[38;5;124m\"\u001b[39m\u001b[38;5;124mreceive_response_body\u001b[39m\u001b[38;5;124m\"\u001b[39m, logger, \u001b[38;5;28mself\u001b[39m\u001b[38;5;241m.\u001b[39m_request, kwargs):\n\u001b[0;32m--> 329\u001b[0m         \u001b[38;5;28;01masync\u001b[39;00m \u001b[38;5;28;01mfor\u001b[39;00m chunk \u001b[38;5;129;01min\u001b[39;00m \u001b[38;5;28mself\u001b[39m\u001b[38;5;241m.\u001b[39m_connection\u001b[38;5;241m.\u001b[39m_receive_response_body(\u001b[38;5;241m*\u001b[39m\u001b[38;5;241m*\u001b[39mkwargs):\n\u001b[1;32m    330\u001b[0m             \u001b[38;5;28;01myield\u001b[39;00m chunk\n\u001b[1;32m    331\u001b[0m \u001b[38;5;28;01mexcept\u001b[39;00m \u001b[38;5;167;01mBaseException\u001b[39;00m \u001b[38;5;28;01mas\u001b[39;00m exc:\n\u001b[1;32m    332\u001b[0m     \u001b[38;5;66;03m# If we get an exception while streaming the response,\u001b[39;00m\n\u001b[1;32m    333\u001b[0m     \u001b[38;5;66;03m# we want to close the response (and possibly the connection)\u001b[39;00m\n\u001b[1;32m    334\u001b[0m     \u001b[38;5;66;03m# before raising that exception.\u001b[39;00m\n",
      "File \u001b[0;32m~/anaconda3/envs/okprofessor/lib/python3.9/site-packages/httpcore/_async/http11.py:198\u001b[0m, in \u001b[0;36mAsyncHTTP11Connection._receive_response_body\u001b[0;34m(self, request)\u001b[0m\n\u001b[1;32m    195\u001b[0m timeout \u001b[38;5;241m=\u001b[39m timeouts\u001b[38;5;241m.\u001b[39mget(\u001b[38;5;124m\"\u001b[39m\u001b[38;5;124mread\u001b[39m\u001b[38;5;124m\"\u001b[39m, \u001b[38;5;28;01mNone\u001b[39;00m)\n\u001b[1;32m    197\u001b[0m \u001b[38;5;28;01mwhile\u001b[39;00m \u001b[38;5;28;01mTrue\u001b[39;00m:\n\u001b[0;32m--> 198\u001b[0m     event \u001b[38;5;241m=\u001b[39m \u001b[38;5;28;01mawait\u001b[39;00m \u001b[38;5;28mself\u001b[39m\u001b[38;5;241m.\u001b[39m_receive_event(timeout\u001b[38;5;241m=\u001b[39mtimeout)\n\u001b[1;32m    199\u001b[0m     \u001b[38;5;28;01mif\u001b[39;00m \u001b[38;5;28misinstance\u001b[39m(event, h11\u001b[38;5;241m.\u001b[39mData):\n\u001b[1;32m    200\u001b[0m         \u001b[38;5;28;01myield\u001b[39;00m \u001b[38;5;28mbytes\u001b[39m(event\u001b[38;5;241m.\u001b[39mdata)\n",
      "File \u001b[0;32m~/anaconda3/envs/okprofessor/lib/python3.9/site-packages/httpcore/_async/http11.py:212\u001b[0m, in \u001b[0;36mAsyncHTTP11Connection._receive_event\u001b[0;34m(self, timeout)\u001b[0m\n\u001b[1;32m    209\u001b[0m     event \u001b[38;5;241m=\u001b[39m \u001b[38;5;28mself\u001b[39m\u001b[38;5;241m.\u001b[39m_h11_state\u001b[38;5;241m.\u001b[39mnext_event()\n\u001b[1;32m    211\u001b[0m \u001b[38;5;28;01mif\u001b[39;00m event \u001b[38;5;129;01mis\u001b[39;00m h11\u001b[38;5;241m.\u001b[39mNEED_DATA:\n\u001b[0;32m--> 212\u001b[0m     data \u001b[38;5;241m=\u001b[39m \u001b[38;5;28;01mawait\u001b[39;00m \u001b[38;5;28mself\u001b[39m\u001b[38;5;241m.\u001b[39m_network_stream\u001b[38;5;241m.\u001b[39mread(\n\u001b[1;32m    213\u001b[0m         \u001b[38;5;28mself\u001b[39m\u001b[38;5;241m.\u001b[39mREAD_NUM_BYTES, timeout\u001b[38;5;241m=\u001b[39mtimeout\n\u001b[1;32m    214\u001b[0m     )\n\u001b[1;32m    216\u001b[0m     \u001b[38;5;66;03m# If we feed this case through h11 we'll raise an exception like:\u001b[39;00m\n\u001b[1;32m    217\u001b[0m     \u001b[38;5;66;03m#\u001b[39;00m\n\u001b[1;32m    218\u001b[0m     \u001b[38;5;66;03m#     httpcore.RemoteProtocolError: can't handle event type\u001b[39;00m\n\u001b[0;32m   (...)\u001b[0m\n\u001b[1;32m    222\u001b[0m     \u001b[38;5;66;03m# perspective. Instead we handle this case distinctly and treat\u001b[39;00m\n\u001b[1;32m    223\u001b[0m     \u001b[38;5;66;03m# it as a ConnectError.\u001b[39;00m\n\u001b[1;32m    224\u001b[0m     \u001b[38;5;28;01mif\u001b[39;00m data \u001b[38;5;241m==\u001b[39m \u001b[38;5;124mb\u001b[39m\u001b[38;5;124m\"\u001b[39m\u001b[38;5;124m\"\u001b[39m \u001b[38;5;129;01mand\u001b[39;00m \u001b[38;5;28mself\u001b[39m\u001b[38;5;241m.\u001b[39m_h11_state\u001b[38;5;241m.\u001b[39mtheir_state \u001b[38;5;241m==\u001b[39m h11\u001b[38;5;241m.\u001b[39mSEND_RESPONSE:\n",
      "File \u001b[0;32m~/anaconda3/envs/okprofessor/lib/python3.9/site-packages/httpcore/_backends/anyio.py:34\u001b[0m, in \u001b[0;36mAnyIOStream.read\u001b[0;34m(self, max_bytes, timeout)\u001b[0m\n\u001b[1;32m     32\u001b[0m \u001b[38;5;28;01mwith\u001b[39;00m anyio\u001b[38;5;241m.\u001b[39mfail_after(timeout):\n\u001b[1;32m     33\u001b[0m     \u001b[38;5;28;01mtry\u001b[39;00m:\n\u001b[0;32m---> 34\u001b[0m         \u001b[38;5;28;01mreturn\u001b[39;00m \u001b[38;5;28;01mawait\u001b[39;00m \u001b[38;5;28mself\u001b[39m\u001b[38;5;241m.\u001b[39m_stream\u001b[38;5;241m.\u001b[39mreceive(max_bytes\u001b[38;5;241m=\u001b[39mmax_bytes)\n\u001b[1;32m     35\u001b[0m     \u001b[38;5;28;01mexcept\u001b[39;00m anyio\u001b[38;5;241m.\u001b[39mEndOfStream:  \u001b[38;5;66;03m# pragma: nocover\u001b[39;00m\n\u001b[1;32m     36\u001b[0m         \u001b[38;5;28;01mreturn\u001b[39;00m \u001b[38;5;124mb\u001b[39m\u001b[38;5;124m\"\u001b[39m\u001b[38;5;124m\"\u001b[39m\n",
      "File \u001b[0;32m~/anaconda3/envs/okprofessor/lib/python3.9/site-packages/anyio/streams/tls.py:196\u001b[0m, in \u001b[0;36mTLSStream.receive\u001b[0;34m(self, max_bytes)\u001b[0m\n\u001b[1;32m    195\u001b[0m \u001b[38;5;28;01masync\u001b[39;00m \u001b[38;5;28;01mdef\u001b[39;00m \u001b[38;5;21mreceive\u001b[39m(\u001b[38;5;28mself\u001b[39m, max_bytes: \u001b[38;5;28mint\u001b[39m \u001b[38;5;241m=\u001b[39m \u001b[38;5;241m65536\u001b[39m) \u001b[38;5;241m-\u001b[39m\u001b[38;5;241m>\u001b[39m \u001b[38;5;28mbytes\u001b[39m:\n\u001b[0;32m--> 196\u001b[0m     data \u001b[38;5;241m=\u001b[39m \u001b[38;5;28;01mawait\u001b[39;00m \u001b[38;5;28mself\u001b[39m\u001b[38;5;241m.\u001b[39m_call_sslobject_method(\u001b[38;5;28mself\u001b[39m\u001b[38;5;241m.\u001b[39m_ssl_object\u001b[38;5;241m.\u001b[39mread, max_bytes)\n\u001b[1;32m    197\u001b[0m     \u001b[38;5;28;01mif\u001b[39;00m \u001b[38;5;129;01mnot\u001b[39;00m data:\n\u001b[1;32m    198\u001b[0m         \u001b[38;5;28;01mraise\u001b[39;00m EndOfStream\n",
      "File \u001b[0;32m~/anaconda3/envs/okprofessor/lib/python3.9/site-packages/anyio/streams/tls.py:138\u001b[0m, in \u001b[0;36mTLSStream._call_sslobject_method\u001b[0;34m(self, func, *args)\u001b[0m\n\u001b[1;32m    135\u001b[0m     \u001b[38;5;28;01mif\u001b[39;00m \u001b[38;5;28mself\u001b[39m\u001b[38;5;241m.\u001b[39m_write_bio\u001b[38;5;241m.\u001b[39mpending:\n\u001b[1;32m    136\u001b[0m         \u001b[38;5;28;01mawait\u001b[39;00m \u001b[38;5;28mself\u001b[39m\u001b[38;5;241m.\u001b[39mtransport_stream\u001b[38;5;241m.\u001b[39msend(\u001b[38;5;28mself\u001b[39m\u001b[38;5;241m.\u001b[39m_write_bio\u001b[38;5;241m.\u001b[39mread())\n\u001b[0;32m--> 138\u001b[0m     data \u001b[38;5;241m=\u001b[39m \u001b[38;5;28;01mawait\u001b[39;00m \u001b[38;5;28mself\u001b[39m\u001b[38;5;241m.\u001b[39mtransport_stream\u001b[38;5;241m.\u001b[39mreceive()\n\u001b[1;32m    139\u001b[0m \u001b[38;5;28;01mexcept\u001b[39;00m EndOfStream:\n\u001b[1;32m    140\u001b[0m     \u001b[38;5;28mself\u001b[39m\u001b[38;5;241m.\u001b[39m_read_bio\u001b[38;5;241m.\u001b[39mwrite_eof()\n",
      "File \u001b[0;32m~/anaconda3/envs/okprofessor/lib/python3.9/site-packages/anyio/_backends/_asyncio.py:1203\u001b[0m, in \u001b[0;36mSocketStream.receive\u001b[0;34m(self, max_bytes)\u001b[0m\n\u001b[1;32m   1198\u001b[0m \u001b[38;5;28;01mif\u001b[39;00m (\n\u001b[1;32m   1199\u001b[0m     \u001b[38;5;129;01mnot\u001b[39;00m \u001b[38;5;28mself\u001b[39m\u001b[38;5;241m.\u001b[39m_protocol\u001b[38;5;241m.\u001b[39mread_event\u001b[38;5;241m.\u001b[39mis_set()\n\u001b[1;32m   1200\u001b[0m     \u001b[38;5;129;01mand\u001b[39;00m \u001b[38;5;129;01mnot\u001b[39;00m \u001b[38;5;28mself\u001b[39m\u001b[38;5;241m.\u001b[39m_transport\u001b[38;5;241m.\u001b[39mis_closing()\n\u001b[1;32m   1201\u001b[0m ):\n\u001b[1;32m   1202\u001b[0m     \u001b[38;5;28mself\u001b[39m\u001b[38;5;241m.\u001b[39m_transport\u001b[38;5;241m.\u001b[39mresume_reading()\n\u001b[0;32m-> 1203\u001b[0m     \u001b[38;5;28;01mawait\u001b[39;00m \u001b[38;5;28mself\u001b[39m\u001b[38;5;241m.\u001b[39m_protocol\u001b[38;5;241m.\u001b[39mread_event\u001b[38;5;241m.\u001b[39mwait()\n\u001b[1;32m   1204\u001b[0m     \u001b[38;5;28mself\u001b[39m\u001b[38;5;241m.\u001b[39m_transport\u001b[38;5;241m.\u001b[39mpause_reading()\n\u001b[1;32m   1206\u001b[0m \u001b[38;5;28;01mtry\u001b[39;00m:\n",
      "File \u001b[0;32m~/anaconda3/envs/okprofessor/lib/python3.9/asyncio/locks.py:226\u001b[0m, in \u001b[0;36mEvent.wait\u001b[0;34m(self)\u001b[0m\n\u001b[1;32m    224\u001b[0m \u001b[38;5;28mself\u001b[39m\u001b[38;5;241m.\u001b[39m_waiters\u001b[38;5;241m.\u001b[39mappend(fut)\n\u001b[1;32m    225\u001b[0m \u001b[38;5;28;01mtry\u001b[39;00m:\n\u001b[0;32m--> 226\u001b[0m     \u001b[38;5;28;01mawait\u001b[39;00m fut\n\u001b[1;32m    227\u001b[0m     \u001b[38;5;28;01mreturn\u001b[39;00m \u001b[38;5;28;01mTrue\u001b[39;00m\n\u001b[1;32m    228\u001b[0m \u001b[38;5;28;01mfinally\u001b[39;00m:\n",
      "\u001b[0;31mCancelledError\u001b[0m: "
     ]
    }
   ],
   "source": [
    "async for result in stream_checking():\n",
    "    # Process the streaming result\n",
    "    print(result)\n",
    "\n"
   ]
  },
  {
   "cell_type": "code",
   "execution_count": null,
   "id": "1768d2ed",
   "metadata": {},
   "outputs": [],
   "source": [
    "# When you want to stop the streaming\n",
    "stop_stream_flag = True"
   ]
  },
  {
   "cell_type": "code",
   "execution_count": null,
   "id": "b163a841",
   "metadata": {},
   "outputs": [],
   "source": []
  }
 ],
 "metadata": {
  "kernelspec": {
   "display_name": "okprofessor",
   "language": "python",
   "name": "okprofessor"
  },
  "language_info": {
   "codemirror_mode": {
    "name": "ipython",
    "version": 3
   },
   "file_extension": ".py",
   "mimetype": "text/x-python",
   "name": "python",
   "nbconvert_exporter": "python",
   "pygments_lexer": "ipython3",
   "version": "3.9.18"
  }
 },
 "nbformat": 4,
 "nbformat_minor": 5
}
